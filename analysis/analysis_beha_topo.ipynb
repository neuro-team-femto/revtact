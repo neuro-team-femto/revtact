{
 "cells": [
  {
   "cell_type": "code",
   "execution_count": 2,
   "id": "f5074efd",
   "metadata": {
    "ExecuteTime": {
     "end_time": "2025-04-15T13:27:01.810517Z",
     "start_time": "2025-04-15T13:27:01.805483Z"
    }
   },
   "outputs": [],
   "source": [
    "import pandas as pd\n",
    "import os.path\n",
    "import numpy as np\n",
    "import glob\n",
    "from matplotlib import pyplot as plt\n",
    "import seaborn as sns\n",
    "#import pingouin as pg\n",
    "import openpyxl\n",
    "import re\n",
    "class StopCell(Exception): # a custom (mute) exception to exit cells programmatically (\"raise StopCell\")\n",
    "    def _render_traceback_(self):\n",
    "        pass"
   ]
  },
  {
   "cell_type": "markdown",
   "id": "2ada8ee4",
   "metadata": {},
   "source": [
    "<mark> Dataframes :\n",
    "- data_df : dataframe des behavioural data\n",
    "- data_df_summary : dataframe des summary meca data\n",
    "- filtered_df : summary meca data sans sujets practice\n",
    "- filtered_df2 : summary meca data sans duplicates\n",
    "- missing_df : dataframe des trials qui n'existent pas\n",
    "- filtered_df2[mask] : dataframe sans valeurs outliers\n",
    "- outlier_values : dataframe des essais avec au moins une valeur outlier\n",
    "- df_result : behavioural data + summary meca data\n",
    "- same_same_df : essais same-same"
   ]
  },
  {
   "cell_type": "markdown",
   "id": "169d2215",
   "metadata": {
    "ExecuteTime": {
     "end_time": "2022-11-23T04:48:44.562662Z",
     "start_time": "2022-11-23T04:48:44.518655Z"
    }
   },
   "source": [
    "# Analysis Tactile Revcor\n",
    "&copy; Céline Vanney, Etienne Louyot, JJ Aucouturier, PH Cornuault, Luc Carpentier\n"
   ]
  },
  {
   "cell_type": "markdown",
   "id": "d8c78474",
   "metadata": {},
   "source": [
    "## Behavioural data"
   ]
  },
  {
   "cell_type": "markdown",
   "id": "f708156f",
   "metadata": {},
   "source": [
    "### Load Behavioural data"
   ]
  },
  {
   "cell_type": "code",
   "execution_count": 3,
   "id": "c32a1fcc",
   "metadata": {
    "ExecuteTime": {
     "end_time": "2025-04-15T13:27:02.614147Z",
     "start_time": "2025-04-15T13:27:02.607165Z"
    }
   },
   "outputs": [
    {
     "name": "stdout",
     "output_type": "stream",
     "text": [
      "./data/behaviour\\221110_08.22_results_subj6_soft.csv\n",
      "./data/behaviour\\221110_10.41_results_subj7_soft.csv\n",
      "./data/behaviour\\221110_14.16_results_subj8_soft.csv\n",
      "./data/behaviour\\221115_10.24_results_subj9_rug.csv\n",
      "./data/behaviour\\221116_15.47_results_subj10_rug.csv\n",
      "./data/behaviour\\221117_10.16_results_subj11_soft.csv\n",
      "./data/behaviour\\221117_15.45_results_subj12_rug.csv\n",
      "./data/behaviour\\221118_10.35_results_subj13_rug.csv\n",
      "./data/behaviour\\221121_08.55_results_subj14_soft.csv\n",
      "./data/behaviour\\221121_15.48_results_subj15_soft.csv\n",
      "./data/behaviour\\221122_08.42_results_subj16_soft.csv\n",
      "./data/behaviour\\221122_10.23_results_subj17_soft.csv\n",
      "./data/behaviour\\221122_14.05_results_subj18_soft.csv\n",
      "./data/behaviour\\221122_15.52_results_subj19_soft.csv\n",
      "./data/behaviour\\221123_10.28_results_subj20_soft.csv\n",
      "./data/behaviour\\221123_13.37_results_subj21_soft.csv\n",
      "./data/behaviour\\221124_13.36_results_subj22_soft.csv\n",
      "./data/behaviour\\221124_15.54_results_subj23_soft.csv\n",
      "./data/behaviour\\221125_09.06_results_subj24_soft.csv\n",
      "./data/behaviour\\221125_10.30_results_subj25_soft.csv\n",
      "./data/behaviour\\221125_14.51_results_subj26_rug.csv\n",
      "./data/behaviour\\221125_17.18_results_subj27_rug.csv\n"
     ]
    }
   ],
   "source": [
    "for file in glob.glob(\"./data/behaviour/*results*.csv\"):\n",
    "    print(file)"
   ]
  },
  {
   "cell_type": "markdown",
   "id": "bc08e54f",
   "metadata": {},
   "source": [
    "#### Fix condition field & filename"
   ]
  },
  {
   "cell_type": "markdown",
   "id": "e8b0343d",
   "metadata": {},
   "source": [
    "Result files from participant 7 onwards include a `condition` field, and have their condition in the filename. Correct this for earlier participants. "
   ]
  },
  {
   "cell_type": "code",
   "execution_count": 6,
   "id": "fd46e93d",
   "metadata": {
    "ExecuteTime": {
     "end_time": "2025-04-15T13:27:03.191783Z",
     "start_time": "2025-04-15T13:27:03.183804Z"
    }
   },
   "outputs": [],
   "source": [
    "if True: raise StopCell\n",
    "\n",
    "conditions = {'1':'rug', '2':'soft', '3':'soft',\n",
    "             '4':'soft', '5':'soft','6':'soft'}\n",
    "\n",
    "for participant in [6]: \n",
    "    \n",
    "    # get participant file\n",
    "    file = glob.glob(\"./data/behaviour/*results_subj%d*.csv\"%participant)[0]\n",
    "    \n",
    "    # add condition in pandas\n",
    "    condition = conditions[str(participant)]\n",
    "    participant_data = pd.read_csv(file)\n",
    "    participant_data['condition'] = condition\n",
    "    \n",
    "    # and save as new csv file with updated filename\n",
    "    name, ext = os.path.splitext(os.path.basename(file))\n",
    "    updated_filename = './data/behaviour/' + name + '_'+ condition + ext\n",
    "    participant_data.to_csv(updated_filename,index=False)"
   ]
  },
  {
   "cell_type": "markdown",
   "id": "9e9980e0",
   "metadata": {},
   "source": [
    "#### Load all data"
   ]
  },
  {
   "cell_type": "code",
   "execution_count": 4,
   "id": "9cc749f7",
   "metadata": {
    "ExecuteTime": {
     "end_time": "2025-04-15T13:27:03.619061Z",
     "start_time": "2025-04-15T13:27:03.528795Z"
    }
   },
   "outputs": [
    {
     "name": "stdout",
     "output_type": "stream",
     "text": [
      "got 22 behavioural files\n",
      "dataframe has 22 subjects\n"
     ]
    }
   ],
   "source": [
    "data_files = glob.glob(\"./data/behaviour/*_results_*.csv\")\n",
    "print(\"got %d behavioural files\"%len(data_files))\n",
    "data_df = pd.DataFrame()\n",
    "for data_file in data_files:\n",
    "    participant_data_df = pd.read_csv(data_file, sep = ',', decimal='.', header='infer')\n",
    "    data_df = pd.concat([data_df, participant_data_df], ignore_index=True)\n",
    "print('dataframe has %d subjects'%data_df.subj.nunique())"
   ]
  },
  {
   "cell_type": "code",
   "execution_count": 5,
   "id": "c52c1839",
   "metadata": {
    "ExecuteTime": {
     "end_time": "2025-04-15T13:27:03.723658Z",
     "start_time": "2025-04-15T13:27:03.702738Z"
    }
   },
   "outputs": [
    {
     "data": {
      "text/html": [
       "<div>\n",
       "<style scoped>\n",
       "    .dataframe tbody tr th:only-of-type {\n",
       "        vertical-align: middle;\n",
       "    }\n",
       "\n",
       "    .dataframe tbody tr th {\n",
       "        vertical-align: top;\n",
       "    }\n",
       "\n",
       "    .dataframe thead th {\n",
       "        text-align: right;\n",
       "    }\n",
       "</style>\n",
       "<table border=\"1\" class=\"dataframe\">\n",
       "  <thead>\n",
       "    <tr style=\"text-align: right;\">\n",
       "      <th></th>\n",
       "      <th>subj</th>\n",
       "      <th>trial</th>\n",
       "      <th>block</th>\n",
       "      <th>practice</th>\n",
       "      <th>condition</th>\n",
       "      <th>sex</th>\n",
       "      <th>age</th>\n",
       "      <th>date</th>\n",
       "      <th>data_file</th>\n",
       "      <th>texture_id</th>\n",
       "      <th>stim_order</th>\n",
       "      <th>diameter</th>\n",
       "      <th>opening</th>\n",
       "      <th>spacing</th>\n",
       "      <th>response</th>\n",
       "      <th>rt</th>\n",
       "    </tr>\n",
       "  </thead>\n",
       "  <tbody>\n",
       "    <tr>\n",
       "      <th>0</th>\n",
       "      <td>6</td>\n",
       "      <td>0</td>\n",
       "      <td>0</td>\n",
       "      <td>True</td>\n",
       "      <td>soft</td>\n",
       "      <td>f</td>\n",
       "      <td>23</td>\n",
       "      <td>2022-11-10 08:22:05.219727</td>\n",
       "      <td>results/221110_08.22_data_subj6_block0_trial0_...</td>\n",
       "      <td>E019</td>\n",
       "      <td>0</td>\n",
       "      <td>440.0</td>\n",
       "      <td>140.0</td>\n",
       "      <td>580.0</td>\n",
       "      <td>True</td>\n",
       "      <td>19.445</td>\n",
       "    </tr>\n",
       "    <tr>\n",
       "      <th>1</th>\n",
       "      <td>6</td>\n",
       "      <td>0</td>\n",
       "      <td>0</td>\n",
       "      <td>True</td>\n",
       "      <td>soft</td>\n",
       "      <td>f</td>\n",
       "      <td>23</td>\n",
       "      <td>2022-11-10 08:22:05.219727</td>\n",
       "      <td>results/221110_08.22_data_subj6_block0_trial0_...</td>\n",
       "      <td>E027</td>\n",
       "      <td>1</td>\n",
       "      <td>170.0</td>\n",
       "      <td>80.0</td>\n",
       "      <td>250.0</td>\n",
       "      <td>False</td>\n",
       "      <td>19.445</td>\n",
       "    </tr>\n",
       "    <tr>\n",
       "      <th>2</th>\n",
       "      <td>6</td>\n",
       "      <td>1</td>\n",
       "      <td>0</td>\n",
       "      <td>True</td>\n",
       "      <td>soft</td>\n",
       "      <td>f</td>\n",
       "      <td>23</td>\n",
       "      <td>2022-11-10 08:22:05.219727</td>\n",
       "      <td>results/221110_08.22_data_subj6_block0_trial1_...</td>\n",
       "      <td>E068</td>\n",
       "      <td>0</td>\n",
       "      <td>20.0</td>\n",
       "      <td>80.0</td>\n",
       "      <td>100.0</td>\n",
       "      <td>True</td>\n",
       "      <td>12.811</td>\n",
       "    </tr>\n",
       "    <tr>\n",
       "      <th>3</th>\n",
       "      <td>6</td>\n",
       "      <td>1</td>\n",
       "      <td>0</td>\n",
       "      <td>True</td>\n",
       "      <td>soft</td>\n",
       "      <td>f</td>\n",
       "      <td>23</td>\n",
       "      <td>2022-11-10 08:22:05.219727</td>\n",
       "      <td>results/221110_08.22_data_subj6_block0_trial1_...</td>\n",
       "      <td>E079(S41)</td>\n",
       "      <td>1</td>\n",
       "      <td>50.0</td>\n",
       "      <td>110.0</td>\n",
       "      <td>160.0</td>\n",
       "      <td>False</td>\n",
       "      <td>12.811</td>\n",
       "    </tr>\n",
       "    <tr>\n",
       "      <th>4</th>\n",
       "      <td>6</td>\n",
       "      <td>2</td>\n",
       "      <td>0</td>\n",
       "      <td>True</td>\n",
       "      <td>soft</td>\n",
       "      <td>f</td>\n",
       "      <td>23</td>\n",
       "      <td>2022-11-10 08:22:05.219727</td>\n",
       "      <td>results/221110_08.22_data_subj6_block0_trial2_...</td>\n",
       "      <td>E075(S42)</td>\n",
       "      <td>0</td>\n",
       "      <td>20.0</td>\n",
       "      <td>20.0</td>\n",
       "      <td>40.0</td>\n",
       "      <td>True</td>\n",
       "      <td>13.262</td>\n",
       "    </tr>\n",
       "    <tr>\n",
       "      <th>...</th>\n",
       "      <td>...</td>\n",
       "      <td>...</td>\n",
       "      <td>...</td>\n",
       "      <td>...</td>\n",
       "      <td>...</td>\n",
       "      <td>...</td>\n",
       "      <td>...</td>\n",
       "      <td>...</td>\n",
       "      <td>...</td>\n",
       "      <td>...</td>\n",
       "      <td>...</td>\n",
       "      <td>...</td>\n",
       "      <td>...</td>\n",
       "      <td>...</td>\n",
       "      <td>...</td>\n",
       "      <td>...</td>\n",
       "    </tr>\n",
       "    <tr>\n",
       "      <th>4615</th>\n",
       "      <td>27</td>\n",
       "      <td>22</td>\n",
       "      <td>4</td>\n",
       "      <td>False</td>\n",
       "      <td>rug</td>\n",
       "      <td>m</td>\n",
       "      <td>20</td>\n",
       "      <td>2022-11-25 17:18:05.980838</td>\n",
       "      <td>results/221125_17.18_data_subj27_block4_trial2...</td>\n",
       "      <td>E078(S45)</td>\n",
       "      <td>1</td>\n",
       "      <td>80.0</td>\n",
       "      <td>110.0</td>\n",
       "      <td>190.0</td>\n",
       "      <td>False</td>\n",
       "      <td>8.466</td>\n",
       "    </tr>\n",
       "    <tr>\n",
       "      <th>4616</th>\n",
       "      <td>27</td>\n",
       "      <td>23</td>\n",
       "      <td>4</td>\n",
       "      <td>False</td>\n",
       "      <td>rug</td>\n",
       "      <td>m</td>\n",
       "      <td>20</td>\n",
       "      <td>2022-11-25 17:18:05.980838</td>\n",
       "      <td>results/221125_17.18_data_subj27_block4_trial2...</td>\n",
       "      <td>E038</td>\n",
       "      <td>0</td>\n",
       "      <td>110.0</td>\n",
       "      <td>80.0</td>\n",
       "      <td>190.0</td>\n",
       "      <td>True</td>\n",
       "      <td>7.617</td>\n",
       "    </tr>\n",
       "    <tr>\n",
       "      <th>4617</th>\n",
       "      <td>27</td>\n",
       "      <td>23</td>\n",
       "      <td>4</td>\n",
       "      <td>False</td>\n",
       "      <td>rug</td>\n",
       "      <td>m</td>\n",
       "      <td>20</td>\n",
       "      <td>2022-11-25 17:18:05.980838</td>\n",
       "      <td>results/221125_17.18_data_subj27_block4_trial2...</td>\n",
       "      <td>E076(S43)</td>\n",
       "      <td>1</td>\n",
       "      <td>50.0</td>\n",
       "      <td>50.0</td>\n",
       "      <td>100.0</td>\n",
       "      <td>False</td>\n",
       "      <td>7.617</td>\n",
       "    </tr>\n",
       "    <tr>\n",
       "      <th>4618</th>\n",
       "      <td>27</td>\n",
       "      <td>24</td>\n",
       "      <td>4</td>\n",
       "      <td>False</td>\n",
       "      <td>rug</td>\n",
       "      <td>m</td>\n",
       "      <td>20</td>\n",
       "      <td>2022-11-25 17:18:05.980838</td>\n",
       "      <td>results/221125_17.18_data_subj27_block4_trial2...</td>\n",
       "      <td>E044</td>\n",
       "      <td>0</td>\n",
       "      <td>170.0</td>\n",
       "      <td>140.0</td>\n",
       "      <td>310.0</td>\n",
       "      <td>True</td>\n",
       "      <td>7.534</td>\n",
       "    </tr>\n",
       "    <tr>\n",
       "      <th>4619</th>\n",
       "      <td>27</td>\n",
       "      <td>24</td>\n",
       "      <td>4</td>\n",
       "      <td>False</td>\n",
       "      <td>rug</td>\n",
       "      <td>m</td>\n",
       "      <td>20</td>\n",
       "      <td>2022-11-25 17:18:05.980838</td>\n",
       "      <td>results/221125_17.18_data_subj27_block4_trial2...</td>\n",
       "      <td>E075(S42)</td>\n",
       "      <td>1</td>\n",
       "      <td>20.0</td>\n",
       "      <td>20.0</td>\n",
       "      <td>40.0</td>\n",
       "      <td>False</td>\n",
       "      <td>7.534</td>\n",
       "    </tr>\n",
       "  </tbody>\n",
       "</table>\n",
       "<p>4620 rows × 16 columns</p>\n",
       "</div>"
      ],
      "text/plain": [
       "      subj  trial  block  practice condition sex  age  \\\n",
       "0        6      0      0      True      soft   f   23   \n",
       "1        6      0      0      True      soft   f   23   \n",
       "2        6      1      0      True      soft   f   23   \n",
       "3        6      1      0      True      soft   f   23   \n",
       "4        6      2      0      True      soft   f   23   \n",
       "...    ...    ...    ...       ...       ...  ..  ...   \n",
       "4615    27     22      4     False       rug   m   20   \n",
       "4616    27     23      4     False       rug   m   20   \n",
       "4617    27     23      4     False       rug   m   20   \n",
       "4618    27     24      4     False       rug   m   20   \n",
       "4619    27     24      4     False       rug   m   20   \n",
       "\n",
       "                            date  \\\n",
       "0     2022-11-10 08:22:05.219727   \n",
       "1     2022-11-10 08:22:05.219727   \n",
       "2     2022-11-10 08:22:05.219727   \n",
       "3     2022-11-10 08:22:05.219727   \n",
       "4     2022-11-10 08:22:05.219727   \n",
       "...                          ...   \n",
       "4615  2022-11-25 17:18:05.980838   \n",
       "4616  2022-11-25 17:18:05.980838   \n",
       "4617  2022-11-25 17:18:05.980838   \n",
       "4618  2022-11-25 17:18:05.980838   \n",
       "4619  2022-11-25 17:18:05.980838   \n",
       "\n",
       "                                              data_file texture_id  \\\n",
       "0     results/221110_08.22_data_subj6_block0_trial0_...       E019   \n",
       "1     results/221110_08.22_data_subj6_block0_trial0_...       E027   \n",
       "2     results/221110_08.22_data_subj6_block0_trial1_...       E068   \n",
       "3     results/221110_08.22_data_subj6_block0_trial1_...  E079(S41)   \n",
       "4     results/221110_08.22_data_subj6_block0_trial2_...  E075(S42)   \n",
       "...                                                 ...        ...   \n",
       "4615  results/221125_17.18_data_subj27_block4_trial2...  E078(S45)   \n",
       "4616  results/221125_17.18_data_subj27_block4_trial2...       E038   \n",
       "4617  results/221125_17.18_data_subj27_block4_trial2...  E076(S43)   \n",
       "4618  results/221125_17.18_data_subj27_block4_trial2...       E044   \n",
       "4619  results/221125_17.18_data_subj27_block4_trial2...  E075(S42)   \n",
       "\n",
       "      stim_order  diameter  opening  spacing  response      rt  \n",
       "0              0     440.0    140.0    580.0      True  19.445  \n",
       "1              1     170.0     80.0    250.0     False  19.445  \n",
       "2              0      20.0     80.0    100.0      True  12.811  \n",
       "3              1      50.0    110.0    160.0     False  12.811  \n",
       "4              0      20.0     20.0     40.0      True  13.262  \n",
       "...          ...       ...      ...      ...       ...     ...  \n",
       "4615           1      80.0    110.0    190.0     False   8.466  \n",
       "4616           0     110.0     80.0    190.0      True   7.617  \n",
       "4617           1      50.0     50.0    100.0     False   7.617  \n",
       "4618           0     170.0    140.0    310.0      True   7.534  \n",
       "4619           1      20.0     20.0     40.0     False   7.534  \n",
       "\n",
       "[4620 rows x 16 columns]"
      ]
     },
     "execution_count": 5,
     "metadata": {},
     "output_type": "execute_result"
    }
   ],
   "source": [
    "data_df"
   ]
  },
  {
   "cell_type": "markdown",
   "id": "7156265d",
   "metadata": {},
   "source": [
    "<mark : > Changer les textures pour same-same"
   ]
  },
  {
   "cell_type": "code",
   "execution_count": 6,
   "id": "f433cf36",
   "metadata": {},
   "outputs": [],
   "source": [
    "same_same_df = pd.read_excel('./data/Textures_same-same.xlsx')"
   ]
  },
  {
   "cell_type": "code",
   "execution_count": 7,
   "id": "3f338d2c",
   "metadata": {},
   "outputs": [
    {
     "data": {
      "text/html": [
       "<div>\n",
       "<style scoped>\n",
       "    .dataframe tbody tr th:only-of-type {\n",
       "        vertical-align: middle;\n",
       "    }\n",
       "\n",
       "    .dataframe tbody tr th {\n",
       "        vertical-align: top;\n",
       "    }\n",
       "\n",
       "    .dataframe thead th {\n",
       "        text-align: right;\n",
       "    }\n",
       "</style>\n",
       "<table border=\"1\" class=\"dataframe\">\n",
       "  <thead>\n",
       "    <tr style=\"text-align: right;\">\n",
       "      <th></th>\n",
       "      <th>subj</th>\n",
       "      <th>block</th>\n",
       "      <th>trial</th>\n",
       "      <th>texture_id</th>\n",
       "      <th>texture 2</th>\n",
       "    </tr>\n",
       "  </thead>\n",
       "  <tbody>\n",
       "    <tr>\n",
       "      <th>0</th>\n",
       "      <td>6</td>\n",
       "      <td>3</td>\n",
       "      <td>4</td>\n",
       "      <td>E036</td>\n",
       "      <td>E037</td>\n",
       "    </tr>\n",
       "    <tr>\n",
       "      <th>1</th>\n",
       "      <td>6</td>\n",
       "      <td>3</td>\n",
       "      <td>15</td>\n",
       "      <td>E010</td>\n",
       "      <td>E011</td>\n",
       "    </tr>\n",
       "    <tr>\n",
       "      <th>2</th>\n",
       "      <td>6</td>\n",
       "      <td>4</td>\n",
       "      <td>4</td>\n",
       "      <td>E036</td>\n",
       "      <td>E037</td>\n",
       "    </tr>\n",
       "    <tr>\n",
       "      <th>3</th>\n",
       "      <td>6</td>\n",
       "      <td>4</td>\n",
       "      <td>15</td>\n",
       "      <td>E010</td>\n",
       "      <td>E011</td>\n",
       "    </tr>\n",
       "    <tr>\n",
       "      <th>4</th>\n",
       "      <td>10</td>\n",
       "      <td>2</td>\n",
       "      <td>11</td>\n",
       "      <td>E019</td>\n",
       "      <td>E020</td>\n",
       "    </tr>\n",
       "    <tr>\n",
       "      <th>5</th>\n",
       "      <td>10</td>\n",
       "      <td>3</td>\n",
       "      <td>3</td>\n",
       "      <td>E046</td>\n",
       "      <td>E047</td>\n",
       "    </tr>\n",
       "    <tr>\n",
       "      <th>6</th>\n",
       "      <td>10</td>\n",
       "      <td>3</td>\n",
       "      <td>14</td>\n",
       "      <td>E013</td>\n",
       "      <td>E014</td>\n",
       "    </tr>\n",
       "    <tr>\n",
       "      <th>7</th>\n",
       "      <td>10</td>\n",
       "      <td>4</td>\n",
       "      <td>3</td>\n",
       "      <td>E046</td>\n",
       "      <td>E047</td>\n",
       "    </tr>\n",
       "    <tr>\n",
       "      <th>8</th>\n",
       "      <td>10</td>\n",
       "      <td>4</td>\n",
       "      <td>14</td>\n",
       "      <td>E013</td>\n",
       "      <td>E014</td>\n",
       "    </tr>\n",
       "    <tr>\n",
       "      <th>9</th>\n",
       "      <td>17</td>\n",
       "      <td>1</td>\n",
       "      <td>16</td>\n",
       "      <td>E002</td>\n",
       "      <td>E003</td>\n",
       "    </tr>\n",
       "    <tr>\n",
       "      <th>10</th>\n",
       "      <td>17</td>\n",
       "      <td>3</td>\n",
       "      <td>7</td>\n",
       "      <td>E054</td>\n",
       "      <td>E055</td>\n",
       "    </tr>\n",
       "    <tr>\n",
       "      <th>11</th>\n",
       "      <td>17</td>\n",
       "      <td>4</td>\n",
       "      <td>7</td>\n",
       "      <td>E054</td>\n",
       "      <td>E055</td>\n",
       "    </tr>\n",
       "    <tr>\n",
       "      <th>12</th>\n",
       "      <td>18</td>\n",
       "      <td>3</td>\n",
       "      <td>1</td>\n",
       "      <td>E076</td>\n",
       "      <td>E077</td>\n",
       "    </tr>\n",
       "    <tr>\n",
       "      <th>13</th>\n",
       "      <td>18</td>\n",
       "      <td>4</td>\n",
       "      <td>1</td>\n",
       "      <td>E076</td>\n",
       "      <td>E077</td>\n",
       "    </tr>\n",
       "    <tr>\n",
       "      <th>14</th>\n",
       "      <td>19</td>\n",
       "      <td>3</td>\n",
       "      <td>2</td>\n",
       "      <td>E023</td>\n",
       "      <td>E024</td>\n",
       "    </tr>\n",
       "    <tr>\n",
       "      <th>15</th>\n",
       "      <td>19</td>\n",
       "      <td>3</td>\n",
       "      <td>5</td>\n",
       "      <td>E050</td>\n",
       "      <td>E051</td>\n",
       "    </tr>\n",
       "    <tr>\n",
       "      <th>16</th>\n",
       "      <td>19</td>\n",
       "      <td>4</td>\n",
       "      <td>2</td>\n",
       "      <td>E023</td>\n",
       "      <td>E024</td>\n",
       "    </tr>\n",
       "    <tr>\n",
       "      <th>17</th>\n",
       "      <td>19</td>\n",
       "      <td>4</td>\n",
       "      <td>5</td>\n",
       "      <td>E050</td>\n",
       "      <td>E051</td>\n",
       "    </tr>\n",
       "    <tr>\n",
       "      <th>18</th>\n",
       "      <td>20</td>\n",
       "      <td>2</td>\n",
       "      <td>4</td>\n",
       "      <td>E083</td>\n",
       "      <td>E084</td>\n",
       "    </tr>\n",
       "    <tr>\n",
       "      <th>19</th>\n",
       "      <td>21</td>\n",
       "      <td>2</td>\n",
       "      <td>6</td>\n",
       "      <td>E064</td>\n",
       "      <td>E065</td>\n",
       "    </tr>\n",
       "    <tr>\n",
       "      <th>20</th>\n",
       "      <td>21</td>\n",
       "      <td>3</td>\n",
       "      <td>17</td>\n",
       "      <td>E009</td>\n",
       "      <td>E010</td>\n",
       "    </tr>\n",
       "    <tr>\n",
       "      <th>21</th>\n",
       "      <td>21</td>\n",
       "      <td>4</td>\n",
       "      <td>17</td>\n",
       "      <td>E009</td>\n",
       "      <td>E010</td>\n",
       "    </tr>\n",
       "    <tr>\n",
       "      <th>22</th>\n",
       "      <td>24</td>\n",
       "      <td>2</td>\n",
       "      <td>24</td>\n",
       "      <td>E058</td>\n",
       "      <td>E059</td>\n",
       "    </tr>\n",
       "    <tr>\n",
       "      <th>23</th>\n",
       "      <td>24</td>\n",
       "      <td>3</td>\n",
       "      <td>17</td>\n",
       "      <td>E077</td>\n",
       "      <td>E078</td>\n",
       "    </tr>\n",
       "    <tr>\n",
       "      <th>24</th>\n",
       "      <td>24</td>\n",
       "      <td>4</td>\n",
       "      <td>17</td>\n",
       "      <td>E077</td>\n",
       "      <td>E078</td>\n",
       "    </tr>\n",
       "    <tr>\n",
       "      <th>25</th>\n",
       "      <td>26</td>\n",
       "      <td>1</td>\n",
       "      <td>3</td>\n",
       "      <td>E065</td>\n",
       "      <td>E066</td>\n",
       "    </tr>\n",
       "    <tr>\n",
       "      <th>26</th>\n",
       "      <td>27</td>\n",
       "      <td>1</td>\n",
       "      <td>7</td>\n",
       "      <td>E044</td>\n",
       "      <td>E045</td>\n",
       "    </tr>\n",
       "    <tr>\n",
       "      <th>27</th>\n",
       "      <td>27</td>\n",
       "      <td>1</td>\n",
       "      <td>10</td>\n",
       "      <td>E074</td>\n",
       "      <td>E075</td>\n",
       "    </tr>\n",
       "  </tbody>\n",
       "</table>\n",
       "</div>"
      ],
      "text/plain": [
       "    subj  block  trial texture_id texture 2\n",
       "0      6      3      4       E036      E037\n",
       "1      6      3     15       E010      E011\n",
       "2      6      4      4       E036      E037\n",
       "3      6      4     15       E010      E011\n",
       "4     10      2     11       E019      E020\n",
       "5     10      3      3       E046      E047\n",
       "6     10      3     14       E013      E014\n",
       "7     10      4      3       E046      E047\n",
       "8     10      4     14       E013      E014\n",
       "9     17      1     16       E002      E003\n",
       "10    17      3      7       E054      E055\n",
       "11    17      4      7       E054      E055\n",
       "12    18      3      1       E076      E077\n",
       "13    18      4      1       E076      E077\n",
       "14    19      3      2       E023      E024\n",
       "15    19      3      5       E050      E051\n",
       "16    19      4      2       E023      E024\n",
       "17    19      4      5       E050      E051\n",
       "18    20      2      4       E083      E084\n",
       "19    21      2      6       E064      E065\n",
       "20    21      3     17       E009      E010\n",
       "21    21      4     17       E009      E010\n",
       "22    24      2     24       E058      E059\n",
       "23    24      3     17       E077      E078\n",
       "24    24      4     17       E077      E078\n",
       "25    26      1      3       E065      E066\n",
       "26    27      1      7       E044      E045\n",
       "27    27      1     10       E074      E075"
      ]
     },
     "execution_count": 7,
     "metadata": {},
     "output_type": "execute_result"
    }
   ],
   "source": [
    "same_same_df.rename(columns={'subject': 'subj','texture 1': 'texture_id'},inplace=True)\n",
    "same_same_df['texture_id'] = same_same_df['texture_id'].apply(lambda x: f\"E0{x:02}\")\n",
    "same_same_df['texture 2'] = same_same_df['texture 2'].apply(lambda x: f\"E0{x:02}\")\n",
    "same_same_df"
   ]
  },
  {
   "cell_type": "code",
   "execution_count": 8,
   "id": "d242fa25",
   "metadata": {},
   "outputs": [],
   "source": [
    "# Methode 1 :\n",
    "for i in range(0,len(same_same_df)) :\n",
    "    f = (data_df['subj'] == same_same_df.loc[i,'subj']) & (data_df['block'] == same_same_df.loc[i,'block']) & (data_df['trial'] == same_same_df.loc[i,'trial']) & (data_df['stim_order']==1)\n",
    "    data_df.loc[f,'texture_id'] = same_same_df.loc[i,'texture 2']"
   ]
  },
  {
   "cell_type": "code",
   "execution_count": 9,
   "id": "c5210892",
   "metadata": {},
   "outputs": [],
   "source": [
    "#Methode 2 : \n",
    "\n",
    "# same_same_df['key'] = same_same_df['subj'].astype(str) + '_' + same_same_df['block'].astype(str) + '_' + same_same_df['trial'].astype(str)\n",
    "# data_df['key'] = data_df['subj'].astype(str) + '_' + data_df['block'].astype(str) + '_' + data_df['trial'].astype(str)\n",
    "\n",
    "# merged = data_df.merge(\n",
    "#     same_same_df[['key', 'texture 2']],\n",
    "#     on='key',\n",
    "#     how='inner'\n",
    "# )\n",
    "\n",
    "# data_df.loc[data_df['stim_order'] == 1, 'texture_id'] = merged.loc[data_df['stim_order'] == 1, 'texture 2']\n",
    "\n",
    "# data_df.drop(columns=['key'], inplace=True)\n",
    "\n"
   ]
  },
  {
   "cell_type": "markdown",
   "id": "f882847c",
   "metadata": {},
   "source": [
    "<mark :> Attention pour les textures 'E07X' "
   ]
  },
  {
   "cell_type": "code",
   "execution_count": 10,
   "id": "56cd1777",
   "metadata": {
    "ExecuteTime": {
     "end_time": "2025-04-15T13:27:03.888685Z",
     "start_time": "2025-04-15T13:27:03.875678Z"
    }
   },
   "outputs": [
    {
     "data": {
      "text/plain": [
       "condition  sex\n",
       "rug        f                                      [9, 10, 12]\n",
       "           m                                     [13, 26, 27]\n",
       "soft       f      [6, 11, 14, 15, 16, 18, 21, 22, 23, 24, 25]\n",
       "           m                               [7, 8, 17, 19, 20]\n",
       "Name: subj, dtype: object"
      ]
     },
     "execution_count": 10,
     "metadata": {},
     "output_type": "execute_result"
    }
   ],
   "source": [
    "data_df.groupby(['condition','sex']).subj.unique()"
   ]
  },
  {
   "cell_type": "code",
   "execution_count": 11,
   "id": "162ddddf",
   "metadata": {
    "ExecuteTime": {
     "end_time": "2025-04-15T13:27:04.051814Z",
     "start_time": "2025-04-15T13:27:04.045830Z"
    }
   },
   "outputs": [
    {
     "name": "stdout",
     "output_type": "stream",
     "text": [
      "88 textures différentes utilisées\n"
     ]
    }
   ],
   "source": [
    "print(\"%d textures différentes utilisées\"%data_df.texture_id.nunique())"
   ]
  },
  {
   "cell_type": "markdown",
   "id": "01c52ad0",
   "metadata": {},
   "source": [
    "##### Remove skipped blocks"
   ]
  },
  {
   "cell_type": "code",
   "execution_count": 12,
   "id": "c5c0655a",
   "metadata": {
    "ExecuteTime": {
     "end_time": "2025-04-15T13:27:04.614720Z",
     "start_time": "2025-04-15T13:27:04.396074Z"
    }
   },
   "outputs": [
    {
     "data": {
      "text/plain": [
       "<AxesSubplot:xlabel='subj', ylabel='trial'>"
      ]
     },
     "execution_count": 12,
     "metadata": {},
     "output_type": "execute_result"
    },
    {
     "data": {
      "image/png": "[encoded data removed]",
      "text/plain": [
       "<Figure size 1008x504 with 1 Axes>"
      ]
     },
     "metadata": {
      "needs_background": "light"
     },
     "output_type": "display_data"
    }
   ],
   "source": [
    "# all subjects have 100 trials\n",
    "plt.figure(figsize=(14,7))\n",
    "d=data_df[data_df.practice==False].groupby(['subj']).trial.count()/2\n",
    "sns.pointplot(data=d.reset_index(), x='subj',y='trial')"
   ]
  },
  {
   "cell_type": "code",
   "execution_count": 13,
   "id": "bb7a3827",
   "metadata": {
    "ExecuteTime": {
     "end_time": "2025-04-15T13:27:04.625674Z",
     "start_time": "2025-04-15T13:27:04.617696Z"
    }
   },
   "outputs": [],
   "source": [
    "# remove practice block\n",
    "data_df = data_df[data_df.block.isin([1,2,3,4])]\n",
    "# data_df = data_df[data_df.practice==False]"
   ]
  },
  {
   "cell_type": "code",
   "execution_count": 14,
   "id": "525d4e15",
   "metadata": {
    "ExecuteTime": {
     "end_time": "2025-04-15T13:27:04.804903Z",
     "start_time": "2025-04-15T13:27:04.761857Z"
    }
   },
   "outputs": [],
   "source": [
    "data_df.to_csv('data/behaviour/all_data.csv')"
   ]
  },
  {
   "cell_type": "markdown",
   "id": "38eabc02",
   "metadata": {},
   "source": [
    "##### Number of different textures"
   ]
  },
  {
   "cell_type": "code",
   "execution_count": 15,
   "id": "d2a07619",
   "metadata": {
    "ExecuteTime": {
     "end_time": "2025-04-15T13:27:05.438782Z",
     "start_time": "2025-04-15T13:27:05.134504Z"
    }
   },
   "outputs": [
    {
     "data": {
      "text/plain": [
       "[<matplotlib.lines.Line2D at 0x1cbc1a2d820>]"
      ]
     },
     "execution_count": 15,
     "metadata": {},
     "output_type": "execute_result"
    },
    {
     "data": {
      "image/png": "[encoded data removed]",
      "text/plain": [
       "<Figure size 1008x360 with 1 Axes>"
      ]
     },
     "metadata": {
      "needs_background": "light"
     },
     "output_type": "display_data"
    }
   ],
   "source": [
    "plt.figure(figsize=(14,5))\n",
    "sns.pointplot(data=data_df.groupby('subj', as_index=False).texture_id.nunique(),\n",
    "              x='subj',y='texture_id')\n",
    "\n",
    "plt.title('number of textures sampled')\n",
    "plt.ylabel('unique texture ids')\n",
    "\n",
    "plt.plot([0,22],[data_df.texture_id.nunique(),data_df.texture_id.nunique()],'k:')\n"
   ]
  },
  {
   "cell_type": "markdown",
   "id": "d2659d67",
   "metadata": {},
   "source": [
    "## Load summary meca data"
   ]
  },
  {
   "cell_type": "markdown",
   "id": "33398e0e",
   "metadata": {},
   "source": [
    "### Load all data"
   ]
  },
  {
   "cell_type": "code",
   "execution_count": 16,
   "id": "7dfe8ca0",
   "metadata": {
    "ExecuteTime": {
     "end_time": "2025-04-15T13:27:06.815330Z",
     "start_time": "2025-04-15T13:27:05.883545Z"
    }
   },
   "outputs": [
    {
     "name": "stdout",
     "output_type": "stream",
     "text": [
      "got 9 summary files\n",
      "dataframe has 23 subjects\n"
     ]
    }
   ],
   "source": [
    "data_summary = glob.glob(\"./data/meca/summary/*.xlsx\")    \n",
    "print(\"got %d summary files\"%len(data_summary))\n",
    "data_df_summary = pd.DataFrame()\n",
    "for data_sum in data_summary:\n",
    "    participant_data_summary = pd.read_excel(data_sum,engine=\"openpyxl\")\n",
    "    data_df_summary = pd.concat([data_df_summary, participant_data_summary], ignore_index=True)\n",
    "print('dataframe has %d subjects'%data_df_summary.Subject.nunique())"
   ]
  },
  {
   "cell_type": "code",
   "execution_count": 17,
   "id": "d2f342e8",
   "metadata": {
    "ExecuteTime": {
     "end_time": "2025-04-15T13:27:06.841283Z",
     "start_time": "2025-04-15T13:27:06.818271Z"
    }
   },
   "outputs": [
    {
     "data": {
      "text/html": [
       "<div>\n",
       "<style scoped>\n",
       "    .dataframe tbody tr th:only-of-type {\n",
       "        vertical-align: middle;\n",
       "    }\n",
       "\n",
       "    .dataframe tbody tr th {\n",
       "        vertical-align: top;\n",
       "    }\n",
       "\n",
       "    .dataframe thead th {\n",
       "        text-align: right;\n",
       "    }\n",
       "</style>\n",
       "<table border=\"1\" class=\"dataframe\">\n",
       "  <thead>\n",
       "    <tr style=\"text-align: right;\">\n",
       "      <th></th>\n",
       "      <th>Date (YYMMDD)</th>\n",
       "      <th>Hour [h]</th>\n",
       "      <th>Minute [min]</th>\n",
       "      <th>Subject</th>\n",
       "      <th>Block</th>\n",
       "      <th>Trial</th>\n",
       "      <th>Texture</th>\n",
       "      <th>Start [s]</th>\n",
       "      <th>End [s]</th>\n",
       "      <th>Sliding distance [mm]</th>\n",
       "      <th>V mean [mm/s]</th>\n",
       "      <th>Fn mean [N]</th>\n",
       "      <th>Fn std [N]</th>\n",
       "      <th>Ft mean [N]</th>\n",
       "      <th>Ft std [N]</th>\n",
       "      <th>COF mean</th>\n",
       "      <th>COF std</th>\n",
       "      <th>RMS Accelero [m/s²]</th>\n",
       "    </tr>\n",
       "  </thead>\n",
       "  <tbody>\n",
       "    <tr>\n",
       "      <th>0</th>\n",
       "      <td>221122</td>\n",
       "      <td>8</td>\n",
       "      <td>42</td>\n",
       "      <td>16</td>\n",
       "      <td>1</td>\n",
       "      <td>0</td>\n",
       "      <td>1</td>\n",
       "      <td>6.2692</td>\n",
       "      <td>6.8198</td>\n",
       "      <td>37.134524</td>\n",
       "      <td>67.936736</td>\n",
       "      <td>0.244839</td>\n",
       "      <td>0.081262</td>\n",
       "      <td>0.359014</td>\n",
       "      <td>0.075783</td>\n",
       "      <td>1.523927</td>\n",
       "      <td>0.218087</td>\n",
       "      <td>3.381203</td>\n",
       "    </tr>\n",
       "    <tr>\n",
       "      <th>1</th>\n",
       "      <td>221122</td>\n",
       "      <td>8</td>\n",
       "      <td>42</td>\n",
       "      <td>16</td>\n",
       "      <td>1</td>\n",
       "      <td>0</td>\n",
       "      <td>2</td>\n",
       "      <td>9.6768</td>\n",
       "      <td>10.3696</td>\n",
       "      <td>37.555220</td>\n",
       "      <td>53.228448</td>\n",
       "      <td>0.354724</td>\n",
       "      <td>0.038919</td>\n",
       "      <td>0.369661</td>\n",
       "      <td>0.026887</td>\n",
       "      <td>1.058695</td>\n",
       "      <td>0.168599</td>\n",
       "      <td>2.619718</td>\n",
       "    </tr>\n",
       "    <tr>\n",
       "      <th>2</th>\n",
       "      <td>221122</td>\n",
       "      <td>8</td>\n",
       "      <td>42</td>\n",
       "      <td>16</td>\n",
       "      <td>1</td>\n",
       "      <td>1</td>\n",
       "      <td>1</td>\n",
       "      <td>4.5892</td>\n",
       "      <td>5.2442</td>\n",
       "      <td>32.208557</td>\n",
       "      <td>48.929251</td>\n",
       "      <td>0.510734</td>\n",
       "      <td>0.031468</td>\n",
       "      <td>0.155038</td>\n",
       "      <td>0.012838</td>\n",
       "      <td>0.303306</td>\n",
       "      <td>0.011597</td>\n",
       "      <td>1.254451</td>\n",
       "    </tr>\n",
       "    <tr>\n",
       "      <th>3</th>\n",
       "      <td>221122</td>\n",
       "      <td>8</td>\n",
       "      <td>42</td>\n",
       "      <td>16</td>\n",
       "      <td>1</td>\n",
       "      <td>1</td>\n",
       "      <td>2</td>\n",
       "      <td>8.3478</td>\n",
       "      <td>9.2876</td>\n",
       "      <td>35.683789</td>\n",
       "      <td>38.321365</td>\n",
       "      <td>0.378196</td>\n",
       "      <td>0.023547</td>\n",
       "      <td>0.295779</td>\n",
       "      <td>0.043984</td>\n",
       "      <td>0.782811</td>\n",
       "      <td>0.112092</td>\n",
       "      <td>2.044252</td>\n",
       "    </tr>\n",
       "    <tr>\n",
       "      <th>4</th>\n",
       "      <td>221122</td>\n",
       "      <td>8</td>\n",
       "      <td>42</td>\n",
       "      <td>16</td>\n",
       "      <td>1</td>\n",
       "      <td>2</td>\n",
       "      <td>1</td>\n",
       "      <td>3.6212</td>\n",
       "      <td>4.4848</td>\n",
       "      <td>35.701824</td>\n",
       "      <td>41.388307</td>\n",
       "      <td>0.464945</td>\n",
       "      <td>0.025050</td>\n",
       "      <td>0.176368</td>\n",
       "      <td>0.016045</td>\n",
       "      <td>0.378981</td>\n",
       "      <td>0.022465</td>\n",
       "      <td>1.067344</td>\n",
       "    </tr>\n",
       "    <tr>\n",
       "      <th>...</th>\n",
       "      <td>...</td>\n",
       "      <td>...</td>\n",
       "      <td>...</td>\n",
       "      <td>...</td>\n",
       "      <td>...</td>\n",
       "      <td>...</td>\n",
       "      <td>...</td>\n",
       "      <td>...</td>\n",
       "      <td>...</td>\n",
       "      <td>...</td>\n",
       "      <td>...</td>\n",
       "      <td>...</td>\n",
       "      <td>...</td>\n",
       "      <td>...</td>\n",
       "      <td>...</td>\n",
       "      <td>...</td>\n",
       "      <td>...</td>\n",
       "      <td>...</td>\n",
       "    </tr>\n",
       "    <tr>\n",
       "      <th>4196</th>\n",
       "      <td>221125</td>\n",
       "      <td>17</td>\n",
       "      <td>18</td>\n",
       "      <td>27</td>\n",
       "      <td>4</td>\n",
       "      <td>22</td>\n",
       "      <td>2</td>\n",
       "      <td>4.7956</td>\n",
       "      <td>5.1706</td>\n",
       "      <td>35.853592</td>\n",
       "      <td>94.943428</td>\n",
       "      <td>1.574174</td>\n",
       "      <td>0.185896</td>\n",
       "      <td>0.564810</td>\n",
       "      <td>0.082925</td>\n",
       "      <td>0.357536</td>\n",
       "      <td>0.012494</td>\n",
       "      <td>6.140435</td>\n",
       "    </tr>\n",
       "    <tr>\n",
       "      <th>4197</th>\n",
       "      <td>221125</td>\n",
       "      <td>17</td>\n",
       "      <td>18</td>\n",
       "      <td>27</td>\n",
       "      <td>4</td>\n",
       "      <td>23</td>\n",
       "      <td>1</td>\n",
       "      <td>2.9734</td>\n",
       "      <td>3.5476</td>\n",
       "      <td>40.110299</td>\n",
       "      <td>73.018695</td>\n",
       "      <td>1.606961</td>\n",
       "      <td>0.068391</td>\n",
       "      <td>0.926973</td>\n",
       "      <td>0.076240</td>\n",
       "      <td>0.576235</td>\n",
       "      <td>0.029874</td>\n",
       "      <td>2.816130</td>\n",
       "    </tr>\n",
       "    <tr>\n",
       "      <th>4198</th>\n",
       "      <td>221125</td>\n",
       "      <td>17</td>\n",
       "      <td>18</td>\n",
       "      <td>27</td>\n",
       "      <td>4</td>\n",
       "      <td>23</td>\n",
       "      <td>2</td>\n",
       "      <td>5.0852</td>\n",
       "      <td>5.5312</td>\n",
       "      <td>35.825132</td>\n",
       "      <td>85.074553</td>\n",
       "      <td>1.676902</td>\n",
       "      <td>0.030933</td>\n",
       "      <td>0.750410</td>\n",
       "      <td>0.051388</td>\n",
       "      <td>0.447519</td>\n",
       "      <td>0.030270</td>\n",
       "      <td>1.416022</td>\n",
       "    </tr>\n",
       "    <tr>\n",
       "      <th>4199</th>\n",
       "      <td>221125</td>\n",
       "      <td>17</td>\n",
       "      <td>18</td>\n",
       "      <td>27</td>\n",
       "      <td>4</td>\n",
       "      <td>24</td>\n",
       "      <td>1</td>\n",
       "      <td>2.6174</td>\n",
       "      <td>3.2676</td>\n",
       "      <td>39.566893</td>\n",
       "      <td>60.739483</td>\n",
       "      <td>1.769655</td>\n",
       "      <td>0.085260</td>\n",
       "      <td>1.102541</td>\n",
       "      <td>0.186779</td>\n",
       "      <td>0.621689</td>\n",
       "      <td>0.096977</td>\n",
       "      <td>4.945476</td>\n",
       "    </tr>\n",
       "    <tr>\n",
       "      <th>4200</th>\n",
       "      <td>221125</td>\n",
       "      <td>17</td>\n",
       "      <td>18</td>\n",
       "      <td>27</td>\n",
       "      <td>4</td>\n",
       "      <td>24</td>\n",
       "      <td>2</td>\n",
       "      <td>4.8432</td>\n",
       "      <td>5.2466</td>\n",
       "      <td>41.634734</td>\n",
       "      <td>111.395493</td>\n",
       "      <td>1.273901</td>\n",
       "      <td>0.063666</td>\n",
       "      <td>0.608008</td>\n",
       "      <td>0.033236</td>\n",
       "      <td>0.477407</td>\n",
       "      <td>0.015176</td>\n",
       "      <td>1.352637</td>\n",
       "    </tr>\n",
       "  </tbody>\n",
       "</table>\n",
       "<p>4201 rows × 18 columns</p>\n",
       "</div>"
      ],
      "text/plain": [
       "      Date (YYMMDD)  Hour [h]  Minute [min]  Subject  Block  Trial  Texture  \\\n",
       "0            221122         8            42       16      1      0        1   \n",
       "1            221122         8            42       16      1      0        2   \n",
       "2            221122         8            42       16      1      1        1   \n",
       "3            221122         8            42       16      1      1        2   \n",
       "4            221122         8            42       16      1      2        1   \n",
       "...             ...       ...           ...      ...    ...    ...      ...   \n",
       "4196         221125        17            18       27      4     22        2   \n",
       "4197         221125        17            18       27      4     23        1   \n",
       "4198         221125        17            18       27      4     23        2   \n",
       "4199         221125        17            18       27      4     24        1   \n",
       "4200         221125        17            18       27      4     24        2   \n",
       "\n",
       "      Start [s]  End [s]  Sliding distance [mm]  V mean [mm/s]  Fn mean [N]  \\\n",
       "0        6.2692   6.8198              37.134524      67.936736     0.244839   \n",
       "1        9.6768  10.3696              37.555220      53.228448     0.354724   \n",
       "2        4.5892   5.2442              32.208557      48.929251     0.510734   \n",
       "3        8.3478   9.2876              35.683789      38.321365     0.378196   \n",
       "4        3.6212   4.4848              35.701824      41.388307     0.464945   \n",
       "...         ...      ...                    ...            ...          ...   \n",
       "4196     4.7956   5.1706              35.853592      94.943428     1.574174   \n",
       "4197     2.9734   3.5476              40.110299      73.018695     1.606961   \n",
       "4198     5.0852   5.5312              35.825132      85.074553     1.676902   \n",
       "4199     2.6174   3.2676              39.566893      60.739483     1.769655   \n",
       "4200     4.8432   5.2466              41.634734     111.395493     1.273901   \n",
       "\n",
       "      Fn std [N]  Ft mean [N]  Ft std [N]  COF mean   COF std  \\\n",
       "0       0.081262     0.359014    0.075783  1.523927  0.218087   \n",
       "1       0.038919     0.369661    0.026887  1.058695  0.168599   \n",
       "2       0.031468     0.155038    0.012838  0.303306  0.011597   \n",
       "3       0.023547     0.295779    0.043984  0.782811  0.112092   \n",
       "4       0.025050     0.176368    0.016045  0.378981  0.022465   \n",
       "...          ...          ...         ...       ...       ...   \n",
       "4196    0.185896     0.564810    0.082925  0.357536  0.012494   \n",
       "4197    0.068391     0.926973    0.076240  0.576235  0.029874   \n",
       "4198    0.030933     0.750410    0.051388  0.447519  0.030270   \n",
       "4199    0.085260     1.102541    0.186779  0.621689  0.096977   \n",
       "4200    0.063666     0.608008    0.033236  0.477407  0.015176   \n",
       "\n",
       "      RMS Accelero [m/s²]  \n",
       "0                3.381203  \n",
       "1                2.619718  \n",
       "2                1.254451  \n",
       "3                2.044252  \n",
       "4                1.067344  \n",
       "...                   ...  \n",
       "4196             6.140435  \n",
       "4197             2.816130  \n",
       "4198             1.416022  \n",
       "4199             4.945476  \n",
       "4200             1.352637  \n",
       "\n",
       "[4201 rows x 18 columns]"
      ]
     },
     "execution_count": 17,
     "metadata": {},
     "output_type": "execute_result"
    }
   ],
   "source": [
    "data_df_summary\n"
   ]
  },
  {
   "cell_type": "markdown",
   "id": "f37e91d8",
   "metadata": {},
   "source": [
    "### Convert columns names to snake_case"
   ]
  },
  {
   "cell_type": "code",
   "execution_count": 18,
   "id": "32d90890",
   "metadata": {
    "ExecuteTime": {
     "end_time": "2025-04-15T13:27:06.851189Z",
     "start_time": "2025-04-15T13:27:06.843206Z"
    }
   },
   "outputs": [],
   "source": [
    "data_df_summary.rename(columns=lambda x: x[0].lower() + x.strip().lower().replace(' ', '_').title()[1:].lower(),inplace=True)  # snake_case\n",
    "data_df_summary.rename(columns=lambda x: re.sub(r'[^a-z0-9_]', '', x.strip().lower().replace(' ', '_')), inplace=True)"
   ]
  },
  {
   "cell_type": "code",
   "execution_count": 19,
   "id": "6819db24",
   "metadata": {
    "ExecuteTime": {
     "end_time": "2025-04-15T13:27:06.860170Z",
     "start_time": "2025-04-15T13:27:06.854174Z"
    }
   },
   "outputs": [],
   "source": [
    "data_df_summary.rename(columns={'subject': 'subj'},inplace=True)"
   ]
  },
  {
   "cell_type": "markdown",
   "id": "bed3106d",
   "metadata": {},
   "source": [
    "### Sanity checks"
   ]
  },
  {
   "cell_type": "code",
   "execution_count": 20,
   "id": "e57372b4",
   "metadata": {
    "ExecuteTime": {
     "end_time": "2025-04-15T13:27:07.260175Z",
     "start_time": "2025-04-15T13:27:07.003032Z"
    }
   },
   "outputs": [
    {
     "data": {
      "text/plain": [
       "<AxesSubplot:xlabel='subj', ylabel='trial'>"
      ]
     },
     "execution_count": 20,
     "metadata": {},
     "output_type": "execute_result"
    },
    {
     "data": {
      "image/png": "[encoded data removed]",
      "text/plain": [
       "<Figure size 1008x504 with 1 Axes>"
      ]
     },
     "metadata": {
      "needs_background": "light"
     },
     "output_type": "display_data"
    }
   ],
   "source": [
    "# Trials by subject\n",
    "plt.figure(figsize=(14,7))\n",
    "d=data_df_summary.groupby(['subj']).trial.count()/2\n",
    "sns.pointplot(data=d.reset_index(), x='subj',y='trial')"
   ]
  },
  {
   "cell_type": "markdown",
   "id": "554b402e",
   "metadata": {},
   "source": [
    "#### Remove subjects with not many trials"
   ]
  },
  {
   "cell_type": "code",
   "execution_count": 21,
   "id": "17c431da",
   "metadata": {
    "ExecuteTime": {
     "end_time": "2025-04-15T13:27:07.392668Z",
     "start_time": "2025-04-15T13:27:07.384683Z"
    }
   },
   "outputs": [],
   "source": [
    "min_trials = 96  # choix arbitraire proche de 100 \n",
    "filter = data_df_summary.groupby(['subj']).trial.count()/2 \n",
    "reliable_subjects= filter[filter > min_trials].index   # get subjects who have more tha min_trials\n",
    "filtered_df = data_df_summary[data_df_summary['subj'].isin(reliable_subjects)]   # another dataset with reliable_subjects only"
   ]
  },
  {
   "cell_type": "code",
   "execution_count": 22,
   "id": "007d4f51",
   "metadata": {},
   "outputs": [
    {
     "data": {
      "text/plain": [
       "subj\n",
       "6      98.0\n",
       "7     100.0\n",
       "8     101.0\n",
       "9     100.0\n",
       "10    100.0\n",
       "11    100.0\n",
       "12     99.0\n",
       "13    100.0\n",
       "14    100.0\n",
       "15    100.0\n",
       "16     99.5\n",
       "17    100.0\n",
       "18    101.0\n",
       "19    102.0\n",
       "21    100.0\n",
       "22    100.0\n",
       "23    100.0\n",
       "24    100.0\n",
       "25    101.0\n",
       "26     98.0\n",
       "27     99.0\n",
       "Name: trial, dtype: float64"
      ]
     },
     "execution_count": 22,
     "metadata": {},
     "output_type": "execute_result"
    }
   ],
   "source": [
    "filtered_df.groupby(['subj']).trial.count()/2"
   ]
  },
  {
   "cell_type": "code",
   "execution_count": 23,
   "id": "891bef1b",
   "metadata": {
    "ExecuteTime": {
     "end_time": "2025-04-15T13:27:07.843391Z",
     "start_time": "2025-04-15T13:27:07.588075Z"
    }
   },
   "outputs": [
    {
     "data": {
      "text/plain": [
       "<AxesSubplot:xlabel='subj', ylabel='trial'>"
      ]
     },
     "execution_count": 23,
     "metadata": {},
     "output_type": "execute_result"
    },
    {
     "data": {
      "image/png": "[encoded data removed]",
      "text/plain": [
       "<Figure size 1008x504 with 1 Axes>"
      ]
     },
     "metadata": {
      "needs_background": "light"
     },
     "output_type": "display_data"
    }
   ],
   "source": [
    "plt.figure(figsize=(14,7))\n",
    "d=filtered_df.groupby(['subj']).trial.count()/2\n",
    "sns.pointplot(data=d.reset_index(), x='subj',y='trial')"
   ]
  },
  {
   "cell_type": "markdown",
   "id": "48d55bde",
   "metadata": {},
   "source": [
    "### Find duplicates"
   ]
  },
  {
   "cell_type": "code",
   "execution_count": 24,
   "id": "10859664",
   "metadata": {
    "ExecuteTime": {
     "end_time": "2025-04-15T13:27:07.985106Z",
     "start_time": "2025-04-15T13:27:07.971115Z"
    }
   },
   "outputs": [
    {
     "data": {
      "text/plain": [
       "subj  block  trial  texture\n",
       "6     2      9      1          2\n",
       "                    2          2\n",
       "7     1      19     1          2\n",
       "                    2          2\n",
       "8     3      13     1          2\n",
       "                    2          2\n",
       "15    2      19     1          2\n",
       "                    2          2\n",
       "16    2      14     1          2\n",
       "                    2          2\n",
       "17    1      18     1          2\n",
       "                    2          2\n",
       "      4      3      1          2\n",
       "                    2          2\n",
       "18    4      12     1          2\n",
       "                    2          2\n",
       "19    2      11     1          2\n",
       "                    2          2\n",
       "             22     1          2\n",
       "                    2          2\n",
       "21    1      18     1          2\n",
       "                    2          2\n",
       "22    1      11     1          2\n",
       "                    2          2\n",
       "25    2      0      1          2\n",
       "                    2          2\n",
       "             7      1          2\n",
       "                    2          2\n",
       "27    1      4      1          3\n",
       "                    2          3\n",
       "      3      4      1          2\n",
       "                    2          2\n",
       "Name: subj, dtype: int64"
      ]
     },
     "execution_count": 24,
     "metadata": {},
     "output_type": "execute_result"
    }
   ],
   "source": [
    "a = filtered_df.groupby(['subj','block','trial','texture']).subj.count()\n",
    "a[a>1]"
   ]
  },
  {
   "cell_type": "code",
   "execution_count": 25,
   "id": "4ac27fc2",
   "metadata": {},
   "outputs": [
    {
     "data": {
      "text/plain": [
       "['date_yymmdd',\n",
       " 'hour_h',\n",
       " 'minute_min',\n",
       " 'subj',\n",
       " 'block',\n",
       " 'trial',\n",
       " 'texture',\n",
       " 'start_s',\n",
       " 'end_s',\n",
       " 'sliding_distance_mm',\n",
       " 'v_mean_mms',\n",
       " 'fn_mean_n',\n",
       " 'fn_std_n',\n",
       " 'ft_mean_n',\n",
       " 'ft_std_n',\n",
       " 'cof_mean',\n",
       " 'cof_std',\n",
       " 'rms_accelero_ms']"
      ]
     },
     "execution_count": 25,
     "metadata": {},
     "output_type": "execute_result"
    }
   ],
   "source": [
    "list(filtered_df)"
   ]
  },
  {
   "cell_type": "code",
   "execution_count": 26,
   "id": "641e7d5a",
   "metadata": {},
   "outputs": [],
   "source": [
    "filtered_df2 = filtered_df\n",
    "\n",
    "filtered_df2 = filtered_df2.groupby(['date_yymmdd',\n",
    "                       'hour_h',\n",
    "                       'minute_min',\n",
    "                       'subj',\n",
    "                       'block',\n",
    "                       'trial',\n",
    "                       'texture'], as_index=False)[['start_s',\n",
    "                                                    'end_s',\n",
    "                                                    'sliding_distance_mm',\n",
    "                                                    'v_mean_mms',\n",
    "                                                    'fn_mean_n',\n",
    "                                                    'fn_std_n',\n",
    "                                                    'ft_mean_n',\n",
    "                                                    'ft_std_n',\n",
    "                                                    'cof_mean',\n",
    "                                                    'cof_std',\n",
    "                                                    'rms_accelero_ms']].mean().reset_index()\n",
    "\n"
   ]
  },
  {
   "cell_type": "code",
   "execution_count": 27,
   "id": "933250c8",
   "metadata": {},
   "outputs": [
    {
     "data": {
      "text/plain": [
       "Series([], Name: subj, dtype: int64)"
      ]
     },
     "execution_count": 27,
     "metadata": {},
     "output_type": "execute_result"
    }
   ],
   "source": [
    "a = filtered_df2.groupby(['subj','block','trial','texture']).subj.count()\n",
    "a[a>1]"
   ]
  },
  {
   "cell_type": "markdown",
   "id": "50dd7824",
   "metadata": {},
   "source": [
    "### Find missing trials"
   ]
  },
  {
   "cell_type": "code",
   "execution_count": 28,
   "id": "041c0ca8",
   "metadata": {},
   "outputs": [],
   "source": [
    "missing = [] \n",
    "subjects = np.arange(6,28)\n",
    "subjects = subjects[subjects != 20]\n",
    "blocks = np.arange(1,5)\n",
    "trials = np.arange(0,25)\n",
    "textu = np.arange(1,3)\n",
    "for i in subjects :\n",
    "    for j in blocks :\n",
    "        for n in trials :\n",
    "            for m in textu :\n",
    "                f = ( filtered_df['subj'] == i ) & (filtered_df['block'] == j ) & (filtered_df['trial'] == n) &  (filtered_df['texture'] == m)\n",
    "                if filtered_df[f].empty :\n",
    "                    missing.append([i,j,n,m])\n",
    "\n",
    "\n",
    "missing_df = pd.DataFrame(missing, columns=[\"subj\", \"block\", \"trial\", \"texture\"])\n"
   ]
  },
  {
   "cell_type": "code",
   "execution_count": 29,
   "id": "705a1a0c",
   "metadata": {},
   "outputs": [
    {
     "data": {
      "text/html": [
       "<div>\n",
       "<style scoped>\n",
       "    .dataframe tbody tr th:only-of-type {\n",
       "        vertical-align: middle;\n",
       "    }\n",
       "\n",
       "    .dataframe tbody tr th {\n",
       "        vertical-align: top;\n",
       "    }\n",
       "\n",
       "    .dataframe thead th {\n",
       "        text-align: right;\n",
       "    }\n",
       "</style>\n",
       "<table border=\"1\" class=\"dataframe\">\n",
       "  <thead>\n",
       "    <tr style=\"text-align: right;\">\n",
       "      <th></th>\n",
       "      <th>subj</th>\n",
       "      <th>block</th>\n",
       "      <th>trial</th>\n",
       "      <th>texture</th>\n",
       "    </tr>\n",
       "  </thead>\n",
       "  <tbody>\n",
       "    <tr>\n",
       "      <th>0</th>\n",
       "      <td>6</td>\n",
       "      <td>2</td>\n",
       "      <td>1</td>\n",
       "      <td>1</td>\n",
       "    </tr>\n",
       "    <tr>\n",
       "      <th>1</th>\n",
       "      <td>6</td>\n",
       "      <td>2</td>\n",
       "      <td>1</td>\n",
       "      <td>2</td>\n",
       "    </tr>\n",
       "    <tr>\n",
       "      <th>2</th>\n",
       "      <td>6</td>\n",
       "      <td>3</td>\n",
       "      <td>10</td>\n",
       "      <td>1</td>\n",
       "    </tr>\n",
       "    <tr>\n",
       "      <th>3</th>\n",
       "      <td>6</td>\n",
       "      <td>3</td>\n",
       "      <td>10</td>\n",
       "      <td>2</td>\n",
       "    </tr>\n",
       "    <tr>\n",
       "      <th>4</th>\n",
       "      <td>6</td>\n",
       "      <td>4</td>\n",
       "      <td>0</td>\n",
       "      <td>1</td>\n",
       "    </tr>\n",
       "    <tr>\n",
       "      <th>5</th>\n",
       "      <td>6</td>\n",
       "      <td>4</td>\n",
       "      <td>0</td>\n",
       "      <td>2</td>\n",
       "    </tr>\n",
       "    <tr>\n",
       "      <th>6</th>\n",
       "      <td>7</td>\n",
       "      <td>1</td>\n",
       "      <td>18</td>\n",
       "      <td>1</td>\n",
       "    </tr>\n",
       "    <tr>\n",
       "      <th>7</th>\n",
       "      <td>7</td>\n",
       "      <td>1</td>\n",
       "      <td>18</td>\n",
       "      <td>2</td>\n",
       "    </tr>\n",
       "    <tr>\n",
       "      <th>8</th>\n",
       "      <td>12</td>\n",
       "      <td>1</td>\n",
       "      <td>19</td>\n",
       "      <td>1</td>\n",
       "    </tr>\n",
       "    <tr>\n",
       "      <th>9</th>\n",
       "      <td>12</td>\n",
       "      <td>1</td>\n",
       "      <td>19</td>\n",
       "      <td>2</td>\n",
       "    </tr>\n",
       "    <tr>\n",
       "      <th>10</th>\n",
       "      <td>15</td>\n",
       "      <td>2</td>\n",
       "      <td>18</td>\n",
       "      <td>1</td>\n",
       "    </tr>\n",
       "    <tr>\n",
       "      <th>11</th>\n",
       "      <td>15</td>\n",
       "      <td>2</td>\n",
       "      <td>18</td>\n",
       "      <td>2</td>\n",
       "    </tr>\n",
       "    <tr>\n",
       "      <th>12</th>\n",
       "      <td>16</td>\n",
       "      <td>1</td>\n",
       "      <td>8</td>\n",
       "      <td>1</td>\n",
       "    </tr>\n",
       "    <tr>\n",
       "      <th>13</th>\n",
       "      <td>16</td>\n",
       "      <td>1</td>\n",
       "      <td>8</td>\n",
       "      <td>2</td>\n",
       "    </tr>\n",
       "    <tr>\n",
       "      <th>14</th>\n",
       "      <td>16</td>\n",
       "      <td>2</td>\n",
       "      <td>13</td>\n",
       "      <td>2</td>\n",
       "    </tr>\n",
       "    <tr>\n",
       "      <th>15</th>\n",
       "      <td>17</td>\n",
       "      <td>3</td>\n",
       "      <td>2</td>\n",
       "      <td>1</td>\n",
       "    </tr>\n",
       "    <tr>\n",
       "      <th>16</th>\n",
       "      <td>17</td>\n",
       "      <td>3</td>\n",
       "      <td>2</td>\n",
       "      <td>2</td>\n",
       "    </tr>\n",
       "    <tr>\n",
       "      <th>17</th>\n",
       "      <td>17</td>\n",
       "      <td>4</td>\n",
       "      <td>17</td>\n",
       "      <td>1</td>\n",
       "    </tr>\n",
       "    <tr>\n",
       "      <th>18</th>\n",
       "      <td>17</td>\n",
       "      <td>4</td>\n",
       "      <td>17</td>\n",
       "      <td>2</td>\n",
       "    </tr>\n",
       "    <tr>\n",
       "      <th>19</th>\n",
       "      <td>21</td>\n",
       "      <td>4</td>\n",
       "      <td>14</td>\n",
       "      <td>1</td>\n",
       "    </tr>\n",
       "    <tr>\n",
       "      <th>20</th>\n",
       "      <td>21</td>\n",
       "      <td>4</td>\n",
       "      <td>14</td>\n",
       "      <td>2</td>\n",
       "    </tr>\n",
       "    <tr>\n",
       "      <th>21</th>\n",
       "      <td>22</td>\n",
       "      <td>2</td>\n",
       "      <td>11</td>\n",
       "      <td>1</td>\n",
       "    </tr>\n",
       "    <tr>\n",
       "      <th>22</th>\n",
       "      <td>22</td>\n",
       "      <td>2</td>\n",
       "      <td>11</td>\n",
       "      <td>2</td>\n",
       "    </tr>\n",
       "    <tr>\n",
       "      <th>23</th>\n",
       "      <td>25</td>\n",
       "      <td>4</td>\n",
       "      <td>7</td>\n",
       "      <td>1</td>\n",
       "    </tr>\n",
       "    <tr>\n",
       "      <th>24</th>\n",
       "      <td>25</td>\n",
       "      <td>4</td>\n",
       "      <td>7</td>\n",
       "      <td>2</td>\n",
       "    </tr>\n",
       "    <tr>\n",
       "      <th>25</th>\n",
       "      <td>26</td>\n",
       "      <td>1</td>\n",
       "      <td>3</td>\n",
       "      <td>1</td>\n",
       "    </tr>\n",
       "    <tr>\n",
       "      <th>26</th>\n",
       "      <td>26</td>\n",
       "      <td>1</td>\n",
       "      <td>3</td>\n",
       "      <td>2</td>\n",
       "    </tr>\n",
       "    <tr>\n",
       "      <th>27</th>\n",
       "      <td>26</td>\n",
       "      <td>2</td>\n",
       "      <td>3</td>\n",
       "      <td>1</td>\n",
       "    </tr>\n",
       "    <tr>\n",
       "      <th>28</th>\n",
       "      <td>26</td>\n",
       "      <td>2</td>\n",
       "      <td>3</td>\n",
       "      <td>2</td>\n",
       "    </tr>\n",
       "    <tr>\n",
       "      <th>29</th>\n",
       "      <td>27</td>\n",
       "      <td>1</td>\n",
       "      <td>7</td>\n",
       "      <td>1</td>\n",
       "    </tr>\n",
       "    <tr>\n",
       "      <th>30</th>\n",
       "      <td>27</td>\n",
       "      <td>1</td>\n",
       "      <td>7</td>\n",
       "      <td>2</td>\n",
       "    </tr>\n",
       "    <tr>\n",
       "      <th>31</th>\n",
       "      <td>27</td>\n",
       "      <td>1</td>\n",
       "      <td>10</td>\n",
       "      <td>1</td>\n",
       "    </tr>\n",
       "    <tr>\n",
       "      <th>32</th>\n",
       "      <td>27</td>\n",
       "      <td>1</td>\n",
       "      <td>10</td>\n",
       "      <td>2</td>\n",
       "    </tr>\n",
       "    <tr>\n",
       "      <th>33</th>\n",
       "      <td>27</td>\n",
       "      <td>2</td>\n",
       "      <td>4</td>\n",
       "      <td>1</td>\n",
       "    </tr>\n",
       "    <tr>\n",
       "      <th>34</th>\n",
       "      <td>27</td>\n",
       "      <td>2</td>\n",
       "      <td>4</td>\n",
       "      <td>2</td>\n",
       "    </tr>\n",
       "    <tr>\n",
       "      <th>35</th>\n",
       "      <td>27</td>\n",
       "      <td>4</td>\n",
       "      <td>20</td>\n",
       "      <td>1</td>\n",
       "    </tr>\n",
       "    <tr>\n",
       "      <th>36</th>\n",
       "      <td>27</td>\n",
       "      <td>4</td>\n",
       "      <td>20</td>\n",
       "      <td>2</td>\n",
       "    </tr>\n",
       "  </tbody>\n",
       "</table>\n",
       "</div>"
      ],
      "text/plain": [
       "    subj  block  trial  texture\n",
       "0      6      2      1        1\n",
       "1      6      2      1        2\n",
       "2      6      3     10        1\n",
       "3      6      3     10        2\n",
       "4      6      4      0        1\n",
       "5      6      4      0        2\n",
       "6      7      1     18        1\n",
       "7      7      1     18        2\n",
       "8     12      1     19        1\n",
       "9     12      1     19        2\n",
       "10    15      2     18        1\n",
       "11    15      2     18        2\n",
       "12    16      1      8        1\n",
       "13    16      1      8        2\n",
       "14    16      2     13        2\n",
       "15    17      3      2        1\n",
       "16    17      3      2        2\n",
       "17    17      4     17        1\n",
       "18    17      4     17        2\n",
       "19    21      4     14        1\n",
       "20    21      4     14        2\n",
       "21    22      2     11        1\n",
       "22    22      2     11        2\n",
       "23    25      4      7        1\n",
       "24    25      4      7        2\n",
       "25    26      1      3        1\n",
       "26    26      1      3        2\n",
       "27    26      2      3        1\n",
       "28    26      2      3        2\n",
       "29    27      1      7        1\n",
       "30    27      1      7        2\n",
       "31    27      1     10        1\n",
       "32    27      1     10        2\n",
       "33    27      2      4        1\n",
       "34    27      2      4        2\n",
       "35    27      4     20        1\n",
       "36    27      4     20        2"
      ]
     },
     "execution_count": 29,
     "metadata": {},
     "output_type": "execute_result"
    }
   ],
   "source": [
    "pd.set_option('display.max_rows',37)\n",
    "missing_df"
   ]
  },
  {
   "cell_type": "code",
   "execution_count": 30,
   "id": "4b8f3446",
   "metadata": {},
   "outputs": [
    {
     "data": {
      "text/plain": [
       "<AxesSubplot:xlabel='subj', ylabel='trial'>"
      ]
     },
     "execution_count": 30,
     "metadata": {},
     "output_type": "execute_result"
    },
    {
     "data": {
      "image/png": "[encoded data removed]",
      "text/plain": [
       "<Figure size 1008x504 with 1 Axes>"
      ]
     },
     "metadata": {
      "needs_background": "light"
     },
     "output_type": "display_data"
    }
   ],
   "source": [
    "plt.figure(figsize=(14,7))\n",
    "e=missing_df.groupby(['subj']).trial.count()\n",
    "sns.pointplot(data=e.reset_index(), x='subj',y='trial')"
   ]
  },
  {
   "cell_type": "code",
   "execution_count": 31,
   "id": "8ca9de07",
   "metadata": {},
   "outputs": [
    {
     "data": {
      "text/plain": [
       "subj  block  trial\n",
       "16    2      13       1\n",
       "Name: texture, dtype: int64"
      ]
     },
     "execution_count": 31,
     "metadata": {},
     "output_type": "execute_result"
    }
   ],
   "source": [
    "# Trial qui a une seule texture :\n",
    "b = missing_df.groupby(['subj','block','trial']).texture.count()\n",
    "b[b % 2 !=0] \n"
   ]
  },
  {
   "cell_type": "markdown",
   "id": "7d61e4a1",
   "metadata": {},
   "source": [
    "### Outlier values"
   ]
  },
  {
   "cell_type": "code",
   "execution_count": 32,
   "id": "8850c45b",
   "metadata": {},
   "outputs": [
    {
     "data": {
      "text/html": [
       "<div>\n",
       "<style scoped>\n",
       "    .dataframe tbody tr th:only-of-type {\n",
       "        vertical-align: middle;\n",
       "    }\n",
       "\n",
       "    .dataframe tbody tr th {\n",
       "        vertical-align: top;\n",
       "    }\n",
       "\n",
       "    .dataframe thead th {\n",
       "        text-align: right;\n",
       "    }\n",
       "</style>\n",
       "<table border=\"1\" class=\"dataframe\">\n",
       "  <thead>\n",
       "    <tr style=\"text-align: right;\">\n",
       "      <th></th>\n",
       "      <th>sliding_distance_mm</th>\n",
       "      <th>v_mean_mms</th>\n",
       "      <th>fn_mean_n</th>\n",
       "      <th>fn_std_n</th>\n",
       "      <th>ft_mean_n</th>\n",
       "      <th>ft_std_n</th>\n",
       "      <th>cof_mean</th>\n",
       "      <th>cof_std</th>\n",
       "    </tr>\n",
       "  </thead>\n",
       "  <tbody>\n",
       "    <tr>\n",
       "      <th>count</th>\n",
       "      <td>4163.000000</td>\n",
       "      <td>4163.000000</td>\n",
       "      <td>4163.000000</td>\n",
       "      <td>4163.000000</td>\n",
       "      <td>4163.000000</td>\n",
       "      <td>4163.000000</td>\n",
       "      <td>4163.000000</td>\n",
       "      <td>4163.000000</td>\n",
       "    </tr>\n",
       "    <tr>\n",
       "      <th>mean</th>\n",
       "      <td>26.294998</td>\n",
       "      <td>42.057190</td>\n",
       "      <td>0.445305</td>\n",
       "      <td>0.037541</td>\n",
       "      <td>0.347640</td>\n",
       "      <td>0.036842</td>\n",
       "      <td>1.339869</td>\n",
       "      <td>12.054086</td>\n",
       "    </tr>\n",
       "    <tr>\n",
       "      <th>std</th>\n",
       "      <td>321.824258</td>\n",
       "      <td>1064.467510</td>\n",
       "      <td>0.463521</td>\n",
       "      <td>0.036763</td>\n",
       "      <td>0.284854</td>\n",
       "      <td>0.034650</td>\n",
       "      <td>5.247461</td>\n",
       "      <td>259.803593</td>\n",
       "    </tr>\n",
       "    <tr>\n",
       "      <th>min</th>\n",
       "      <td>-19560.044934</td>\n",
       "      <td>-65254.684509</td>\n",
       "      <td>-0.021901</td>\n",
       "      <td>0.005389</td>\n",
       "      <td>-0.069379</td>\n",
       "      <td>0.000223</td>\n",
       "      <td>-269.963031</td>\n",
       "      <td>0.000503</td>\n",
       "    </tr>\n",
       "    <tr>\n",
       "      <th>25%</th>\n",
       "      <td>28.166767</td>\n",
       "      <td>34.460162</td>\n",
       "      <td>0.177712</td>\n",
       "      <td>0.018695</td>\n",
       "      <td>0.160998</td>\n",
       "      <td>0.014207</td>\n",
       "      <td>0.451135</td>\n",
       "      <td>0.027654</td>\n",
       "    </tr>\n",
       "    <tr>\n",
       "      <th>50%</th>\n",
       "      <td>33.438019</td>\n",
       "      <td>45.902190</td>\n",
       "      <td>0.358293</td>\n",
       "      <td>0.027266</td>\n",
       "      <td>0.269053</td>\n",
       "      <td>0.026137</td>\n",
       "      <td>0.674465</td>\n",
       "      <td>0.060534</td>\n",
       "    </tr>\n",
       "    <tr>\n",
       "      <th>75%</th>\n",
       "      <td>38.600086</td>\n",
       "      <td>57.846558</td>\n",
       "      <td>0.533795</td>\n",
       "      <td>0.043392</td>\n",
       "      <td>0.428918</td>\n",
       "      <td>0.047160</td>\n",
       "      <td>1.235631</td>\n",
       "      <td>0.183048</td>\n",
       "    </tr>\n",
       "    <tr>\n",
       "      <th>max</th>\n",
       "      <td>1026.170755</td>\n",
       "      <td>13463.971511</td>\n",
       "      <td>4.890003</td>\n",
       "      <td>0.591267</td>\n",
       "      <td>2.159151</td>\n",
       "      <td>0.425295</td>\n",
       "      <td>93.620329</td>\n",
       "      <td>14313.955103</td>\n",
       "    </tr>\n",
       "  </tbody>\n",
       "</table>\n",
       "</div>"
      ],
      "text/plain": [
       "       sliding_distance_mm    v_mean_mms    fn_mean_n     fn_std_n  \\\n",
       "count          4163.000000   4163.000000  4163.000000  4163.000000   \n",
       "mean             26.294998     42.057190     0.445305     0.037541   \n",
       "std             321.824258   1064.467510     0.463521     0.036763   \n",
       "min          -19560.044934 -65254.684509    -0.021901     0.005389   \n",
       "25%              28.166767     34.460162     0.177712     0.018695   \n",
       "50%              33.438019     45.902190     0.358293     0.027266   \n",
       "75%              38.600086     57.846558     0.533795     0.043392   \n",
       "max            1026.170755  13463.971511     4.890003     0.591267   \n",
       "\n",
       "         ft_mean_n     ft_std_n     cof_mean       cof_std  \n",
       "count  4163.000000  4163.000000  4163.000000   4163.000000  \n",
       "mean      0.347640     0.036842     1.339869     12.054086  \n",
       "std       0.284854     0.034650     5.247461    259.803593  \n",
       "min      -0.069379     0.000223  -269.963031      0.000503  \n",
       "25%       0.160998     0.014207     0.451135      0.027654  \n",
       "50%       0.269053     0.026137     0.674465      0.060534  \n",
       "75%       0.428918     0.047160     1.235631      0.183048  \n",
       "max       2.159151     0.425295    93.620329  14313.955103  "
      ]
     },
     "execution_count": 32,
     "metadata": {},
     "output_type": "execute_result"
    }
   ],
   "source": [
    "filtered_df2.iloc[:, filtered_df2.columns.get_loc(\"sliding_distance_mm\"):filtered_df2.columns.get_loc(\"rms_accelero_ms\")].describe()"
   ]
  },
  {
   "cell_type": "code",
   "execution_count": 33,
   "id": "64d59b5f",
   "metadata": {
    "ExecuteTime": {
     "end_time": "2025-04-15T13:27:11.755423Z",
     "start_time": "2025-04-15T13:27:11.528773Z"
    }
   },
   "outputs": [
    {
     "data": {
      "text/plain": [
       "<AxesSubplot:xlabel='subj', ylabel='v_mean_mms'>"
      ]
     },
     "execution_count": 33,
     "metadata": {},
     "output_type": "execute_result"
    },
    {
     "data": {
      "image/png": "[encoded data removed]",
      "text/plain": [
       "<Figure size 1008x504 with 1 Axes>"
      ]
     },
     "metadata": {
      "needs_background": "light"
     },
     "output_type": "display_data"
    }
   ],
   "source": [
    "plt.figure(figsize=(14,7))\n",
    "v_mean_by_subject = filtered_df2.groupby(['subj'])['v_mean_mms'].mean()   # v_mean() for each subject\n",
    "sns.pointplot(data=v_mean_by_subject.reset_index(), x='subj',y='v_mean_mms')"
   ]
  },
  {
   "cell_type": "code",
   "execution_count": 34,
   "id": "4910f2ae",
   "metadata": {
    "ExecuteTime": {
     "end_time": "2025-04-15T13:27:16.299772Z",
     "start_time": "2025-04-15T13:27:13.316941Z"
    }
   },
   "outputs": [
    {
     "data": {
      "image/png": "[encoded data removed]",
      "text/plain": [
       "<Figure size 1224x2880 with 21 Axes>"
      ]
     },
     "metadata": {
      "needs_background": "light"
     },
     "output_type": "display_data"
    }
   ],
   "source": [
    "subjs = filtered_df2.subj.unique()  # from 6 to 27\n",
    "plt.subplots(figsize=(17,40))\n",
    "for ind, subj in enumerate(subjs): \n",
    "    plt.subplot(filtered_df2.subj.nunique(),1,ind+1)  # filtered_df2.subj.nunique() = 21 subplot , \n",
    "    sns.histplot(data=filtered_df2[filtered_df2.subj==subj],\n",
    "                 x='fn_mean_n', label='%s'%subj)\n",
    "    plt.title('Subj %s'%subj)\n",
    "    \n"
   ]
  },
  {
   "cell_type": "code",
   "execution_count": 35,
   "id": "eec85daa",
   "metadata": {
    "ExecuteTime": {
     "end_time": "2025-04-15T13:37:25.666493Z",
     "start_time": "2025-04-15T13:37:25.449068Z"
    }
   },
   "outputs": [
    {
     "data": {
      "text/plain": [
       "Text(0.5, 1.0, 'Distribution of sliding distance')"
      ]
     },
     "execution_count": 35,
     "metadata": {},
     "output_type": "execute_result"
    },
    {
     "data": {
      "image/png": "[encoded data removed]",
      "text/plain": [
       "<Figure size 1008x504 with 1 Axes>"
      ]
     },
     "metadata": {
      "needs_background": "light"
     },
     "output_type": "display_data"
    }
   ],
   "source": [
    "plt.figure(figsize=(14,7))\n",
    "sns.histplot(data=filtered_df2[(filtered_df2.sliding_distance_mm>0)&\n",
    "                      (filtered_df2.sliding_distance_mm<100)], x='sliding_distance_mm', bins=50, kde=True)\n",
    "\n",
    "quantiles = [0.01, 0.05, 0.95, 0.99]\n",
    "y_q = 300\n",
    "for quantile in quantiles: \n",
    "    x_q = filtered_df2.sliding_distance_mm.quantile(quantile)\n",
    "    plt.plot([x_q,x_q], [0,y_q],'r:')\n",
    "    plt.text(x_q-2,y_q,'%.2f'%quantile, color='r')\n",
    "plt.title('Distribution of sliding distance')\n"
   ]
  },
  {
   "cell_type": "code",
   "execution_count": 36,
   "id": "2892f675",
   "metadata": {
    "ExecuteTime": {
     "end_time": "2025-04-15T13:41:22.689378Z",
     "start_time": "2025-04-15T13:41:22.455879Z"
    }
   },
   "outputs": [
    {
     "data": {
      "text/plain": [
       "Text(0.5, 1.0, 'Distribution of V_mean')"
      ]
     },
     "execution_count": 36,
     "metadata": {},
     "output_type": "execute_result"
    },
    {
     "data": {
      "image/png": "[encoded data removed]",
      "text/plain": [
       "<Figure size 1008x504 with 1 Axes>"
      ]
     },
     "metadata": {
      "needs_background": "light"
     },
     "output_type": "display_data"
    }
   ],
   "source": [
    "plt.figure(figsize=(14,7))\n",
    "sns.histplot(data=filtered_df2[(filtered_df2.v_mean_mms>0)& (filtered_df2.v_mean_mms<200)], \n",
    "             x='v_mean_mms', bins=50,kde=True)\n",
    "\n",
    "quantiles = [0.01, 0.05, 0.95, 0.99]\n",
    "y_q = 300\n",
    "for quantile in quantiles: \n",
    "    x_q = filtered_df2.v_mean_mms.quantile(quantile)\n",
    "    plt.plot([x_q,x_q], [0,y_q],'r:')\n",
    "    plt.text(x_q-2,y_q,'%.2f'%quantile, color='r')\n",
    "plt.title('Distribution of V_mean')\n"
   ]
  },
  {
   "cell_type": "code",
   "execution_count": 37,
   "id": "71b48053",
   "metadata": {
    "ExecuteTime": {
     "end_time": "2025-04-15T13:42:55.289010Z",
     "start_time": "2025-04-15T13:42:55.075581Z"
    }
   },
   "outputs": [
    {
     "data": {
      "text/plain": [
       "Text(0.5, 1.0, 'Distribution of Fn_mean')"
      ]
     },
     "execution_count": 37,
     "metadata": {},
     "output_type": "execute_result"
    },
    {
     "data": {
      "image/png": "[encoded data removed]",
      "text/plain": [
       "<Figure size 1440x504 with 1 Axes>"
      ]
     },
     "metadata": {
      "needs_background": "light"
     },
     "output_type": "display_data"
    }
   ],
   "source": [
    "plt.figure(figsize=(20,7))\n",
    "sns.histplot(data=filtered_df2,#[(df_2.fn_mean_n>0)& (df_2.fn_mean_n<200)], \n",
    "             x='fn_mean_n', bins=50)\n",
    "\n",
    "quantiles = [0.01, 0.05, 0.95, 0.99]\n",
    "y_q = 300\n",
    "for quantile in quantiles: \n",
    "    x_q = filtered_df2.fn_mean_n.quantile(quantile)\n",
    "    plt.plot([x_q,x_q], [0,y_q],'r:')\n",
    "    plt.text(x_q,y_q,'%.2f'%quantile, color='r')\n",
    "plt.xticks(np.arange(0,5,0.2))\n",
    "plt.title(\"Distribution of Fn_mean\")\n"
   ]
  },
  {
   "cell_type": "code",
   "execution_count": 38,
   "id": "d1553db9",
   "metadata": {
    "ExecuteTime": {
     "end_time": "2025-04-15T13:45:47.339958Z",
     "start_time": "2025-04-15T13:45:47.116557Z"
    }
   },
   "outputs": [
    {
     "data": {
      "text/plain": [
       "Text(0.5, 1.0, 'Distribution of Fn_stf')"
      ]
     },
     "execution_count": 38,
     "metadata": {},
     "output_type": "execute_result"
    },
    {
     "data": {
      "image/png": "[encoded data removed]",
      "text/plain": [
       "<Figure size 1440x504 with 1 Axes>"
      ]
     },
     "metadata": {
      "needs_background": "light"
     },
     "output_type": "display_data"
    }
   ],
   "source": [
    "feature = 'fn_std_n'\n",
    "plt.figure(figsize=(20,7))\n",
    "sns.histplot(data=filtered_df2,#[(df_2[feature]>0)& (df_2[feature]<1)], \n",
    "             x=feature, bins=50)\n",
    "\n",
    "quantiles = [0.01, 0.05, 0.95, 0.99]\n",
    "y_q = 300\n",
    "for quantile in quantiles: \n",
    "    x_q = filtered_df2[feature].quantile(quantile)\n",
    "    plt.plot([x_q,x_q], [0,y_q],'r:')\n",
    "    plt.text(x_q,y_q,'%.2f'%quantile, color='r')\n",
    "plt.xticks(np.arange(0,0.5,0.02))\n",
    "plt.title(\"Distribution of Fn_stf\")"
   ]
  },
  {
   "cell_type": "code",
   "execution_count": 39,
   "id": "22a8e61a",
   "metadata": {
    "ExecuteTime": {
     "end_time": "2025-04-15T13:46:07.721345Z",
     "start_time": "2025-04-15T13:46:07.517747Z"
    }
   },
   "outputs": [
    {
     "data": {
      "text/plain": [
       "Text(0.5, 1.0, 'Distribution of Ft_mean')"
      ]
     },
     "execution_count": 39,
     "metadata": {},
     "output_type": "execute_result"
    },
    {
     "data": {
      "image/png": "[encoded data removed]",
      "text/plain": [
       "<Figure size 1008x504 with 1 Axes>"
      ]
     },
     "metadata": {
      "needs_background": "light"
     },
     "output_type": "display_data"
    }
   ],
   "source": [
    "feature = 'ft_mean_n'\n",
    "plt.figure(figsize=(14,7))\n",
    "sns.histplot(data=filtered_df2,#[(df_2[feature]>0)& (df_2[feature]<1)], \n",
    "             x=feature, bins=50)\n",
    "\n",
    "quantiles = [0.01, 0.05, 0.95, 0.99]\n",
    "y_q = 300\n",
    "for quantile in quantiles: \n",
    "    x_q = filtered_df2[feature].quantile(quantile)\n",
    "    plt.plot([x_q,x_q], [0,y_q],'r:')\n",
    "    plt.text(x_q,y_q,'%.2f'%quantile, color='r')\n",
    "plt.title(\"Distribution of Ft_mean\")\n"
   ]
  },
  {
   "cell_type": "markdown",
   "id": "c1e93919",
   "metadata": {},
   "source": [
    "#### Filtrer les valeurs outliers"
   ]
  },
  {
   "cell_type": "code",
   "execution_count": 40,
   "id": "abbb8787",
   "metadata": {
    "ExecuteTime": {
     "end_time": "2025-04-15T14:02:29.288739Z",
     "start_time": "2025-04-15T14:02:29.255798Z"
    },
    "scrolled": false
   },
   "outputs": [
    {
     "name": "stdout",
     "output_type": "stream",
     "text": [
      "Column SLIDING_DISTANCE_MM: kept 4000/4163 (96.08 %) \n",
      "\t cumulative: kept 4000/4163 (96.08 %) \n",
      "Column V_MEAN_MMS: kept 4068/4163 (97.72 %) \n",
      "\t cumulative: kept 3970/4163 (95.36 %) \n",
      "Column FN_MEAN_N: kept 3962/4163 (95.17 %) \n",
      "\t cumulative: kept 3837/4163 (92.17 %) \n",
      "Column FN_STD_N: kept 4163/4163 (100.00 %) \n",
      "\t cumulative: kept 3837/4163 (92.17 %) \n",
      "Column FT_MEAN_N: kept 4129/4163 (99.18 %) \n",
      "\t cumulative: kept 3834/4163 (92.10 %) \n",
      "Column FT_STD_N: kept 4163/4163 (100.00 %) \n",
      "\t cumulative: kept 3834/4163 (92.10 %) \n",
      "Column COF_MEAN: kept 4077/4163 (97.93 %) \n",
      "\t cumulative: kept 3817/4163 (91.69 %) \n",
      "Column COF_STD: kept 4091/4163 (98.27 %) \n",
      "\t cumulative: kept 3814/4163 (91.62 %) \n",
      "Column RMS_ACCELERO_MS: kept 4157/4163 (99.86 %) \n",
      "\t cumulative: kept 3808/4163 (91.47 %) \n"
     ]
    },
    {
     "name": "stderr",
     "output_type": "stream",
     "text": [
      "c:\\ProgramData\\Anaconda3\\lib\\site-packages\\pandas\\core\\computation\\expressions.py:203: UserWarning: evaluating in Python space because the '*' operator is not supported by numexpr for the bool dtype, use '&' instead\n",
      "  warnings.warn(\n",
      "c:\\ProgramData\\Anaconda3\\lib\\site-packages\\pandas\\core\\computation\\expressions.py:203: UserWarning: evaluating in Python space because the '*' operator is not supported by numexpr for the bool dtype, use '&' instead\n",
      "  warnings.warn(\n",
      "c:\\ProgramData\\Anaconda3\\lib\\site-packages\\pandas\\core\\computation\\expressions.py:203: UserWarning: evaluating in Python space because the '*' operator is not supported by numexpr for the bool dtype, use '&' instead\n",
      "  warnings.warn(\n",
      "c:\\ProgramData\\Anaconda3\\lib\\site-packages\\pandas\\core\\computation\\expressions.py:203: UserWarning: evaluating in Python space because the '*' operator is not supported by numexpr for the bool dtype, use '&' instead\n",
      "  warnings.warn(\n",
      "c:\\ProgramData\\Anaconda3\\lib\\site-packages\\pandas\\core\\computation\\expressions.py:203: UserWarning: evaluating in Python space because the '*' operator is not supported by numexpr for the bool dtype, use '&' instead\n",
      "  warnings.warn(\n",
      "c:\\ProgramData\\Anaconda3\\lib\\site-packages\\pandas\\core\\computation\\expressions.py:203: UserWarning: evaluating in Python space because the '*' operator is not supported by numexpr for the bool dtype, use '&' instead\n",
      "  warnings.warn(\n",
      "c:\\ProgramData\\Anaconda3\\lib\\site-packages\\pandas\\core\\computation\\expressions.py:203: UserWarning: evaluating in Python space because the '*' operator is not supported by numexpr for the bool dtype, use '&' instead\n",
      "  warnings.warn(\n",
      "c:\\ProgramData\\Anaconda3\\lib\\site-packages\\pandas\\core\\computation\\expressions.py:203: UserWarning: evaluating in Python space because the '*' operator is not supported by numexpr for the bool dtype, use '&' instead\n",
      "  warnings.warn(\n",
      "c:\\ProgramData\\Anaconda3\\lib\\site-packages\\pandas\\core\\computation\\expressions.py:203: UserWarning: evaluating in Python space because the '*' operator is not supported by numexpr for the bool dtype, use '&' instead\n",
      "  warnings.warn(\n"
     ]
    },
    {
     "data": {
      "text/html": [
       "<div>\n",
       "<style scoped>\n",
       "    .dataframe tbody tr th:only-of-type {\n",
       "        vertical-align: middle;\n",
       "    }\n",
       "\n",
       "    .dataframe tbody tr th {\n",
       "        vertical-align: top;\n",
       "    }\n",
       "\n",
       "    .dataframe thead th {\n",
       "        text-align: right;\n",
       "    }\n",
       "</style>\n",
       "<table border=\"1\" class=\"dataframe\">\n",
       "  <thead>\n",
       "    <tr style=\"text-align: right;\">\n",
       "      <th></th>\n",
       "      <th>index</th>\n",
       "      <th>date_yymmdd</th>\n",
       "      <th>hour_h</th>\n",
       "      <th>minute_min</th>\n",
       "      <th>subj</th>\n",
       "      <th>block</th>\n",
       "      <th>trial</th>\n",
       "      <th>texture</th>\n",
       "      <th>start_s</th>\n",
       "      <th>end_s</th>\n",
       "      <th>sliding_distance_mm</th>\n",
       "      <th>v_mean_mms</th>\n",
       "      <th>fn_mean_n</th>\n",
       "      <th>fn_std_n</th>\n",
       "      <th>ft_mean_n</th>\n",
       "      <th>ft_std_n</th>\n",
       "      <th>cof_mean</th>\n",
       "      <th>cof_std</th>\n",
       "      <th>rms_accelero_ms</th>\n",
       "    </tr>\n",
       "  </thead>\n",
       "  <tbody>\n",
       "    <tr>\n",
       "      <th>0</th>\n",
       "      <td>0</td>\n",
       "      <td>221110</td>\n",
       "      <td>8</td>\n",
       "      <td>22</td>\n",
       "      <td>6</td>\n",
       "      <td>1</td>\n",
       "      <td>0</td>\n",
       "      <td>1</td>\n",
       "      <td>2.4468</td>\n",
       "      <td>2.9188</td>\n",
       "      <td>27.336514</td>\n",
       "      <td>56.485055</td>\n",
       "      <td>0.101889</td>\n",
       "      <td>0.017506</td>\n",
       "      <td>0.411404</td>\n",
       "      <td>0.077333</td>\n",
       "      <td>4.112849</td>\n",
       "      <td>0.815765</td>\n",
       "      <td>4.338972</td>\n",
       "    </tr>\n",
       "    <tr>\n",
       "      <th>2</th>\n",
       "      <td>2</td>\n",
       "      <td>221110</td>\n",
       "      <td>8</td>\n",
       "      <td>22</td>\n",
       "      <td>6</td>\n",
       "      <td>1</td>\n",
       "      <td>1</td>\n",
       "      <td>1</td>\n",
       "      <td>3.2890</td>\n",
       "      <td>3.9926</td>\n",
       "      <td>32.968886</td>\n",
       "      <td>51.992636</td>\n",
       "      <td>0.232339</td>\n",
       "      <td>0.045522</td>\n",
       "      <td>0.284906</td>\n",
       "      <td>0.026106</td>\n",
       "      <td>1.257871</td>\n",
       "      <td>0.175839</td>\n",
       "      <td>2.376460</td>\n",
       "    </tr>\n",
       "    <tr>\n",
       "      <th>4</th>\n",
       "      <td>4</td>\n",
       "      <td>221110</td>\n",
       "      <td>8</td>\n",
       "      <td>22</td>\n",
       "      <td>6</td>\n",
       "      <td>1</td>\n",
       "      <td>2</td>\n",
       "      <td>1</td>\n",
       "      <td>2.7382</td>\n",
       "      <td>3.3636</td>\n",
       "      <td>48.907967</td>\n",
       "      <td>63.353527</td>\n",
       "      <td>0.124927</td>\n",
       "      <td>0.017377</td>\n",
       "      <td>0.408266</td>\n",
       "      <td>0.052771</td>\n",
       "      <td>3.309571</td>\n",
       "      <td>0.512267</td>\n",
       "      <td>2.498284</td>\n",
       "    </tr>\n",
       "    <tr>\n",
       "      <th>6</th>\n",
       "      <td>6</td>\n",
       "      <td>221110</td>\n",
       "      <td>8</td>\n",
       "      <td>22</td>\n",
       "      <td>6</td>\n",
       "      <td>1</td>\n",
       "      <td>3</td>\n",
       "      <td>1</td>\n",
       "      <td>2.9612</td>\n",
       "      <td>3.4458</td>\n",
       "      <td>35.732360</td>\n",
       "      <td>68.784172</td>\n",
       "      <td>0.295268</td>\n",
       "      <td>0.032018</td>\n",
       "      <td>0.177960</td>\n",
       "      <td>0.027178</td>\n",
       "      <td>0.600501</td>\n",
       "      <td>0.040334</td>\n",
       "      <td>1.157180</td>\n",
       "    </tr>\n",
       "    <tr>\n",
       "      <th>8</th>\n",
       "      <td>8</td>\n",
       "      <td>221110</td>\n",
       "      <td>8</td>\n",
       "      <td>22</td>\n",
       "      <td>6</td>\n",
       "      <td>1</td>\n",
       "      <td>4</td>\n",
       "      <td>1</td>\n",
       "      <td>2.4546</td>\n",
       "      <td>3.1166</td>\n",
       "      <td>28.167039</td>\n",
       "      <td>39.146747</td>\n",
       "      <td>0.257821</td>\n",
       "      <td>0.042836</td>\n",
       "      <td>0.367246</td>\n",
       "      <td>0.055283</td>\n",
       "      <td>1.430271</td>\n",
       "      <td>0.092177</td>\n",
       "      <td>1.715674</td>\n",
       "    </tr>\n",
       "    <tr>\n",
       "      <th>...</th>\n",
       "      <td>...</td>\n",
       "      <td>...</td>\n",
       "      <td>...</td>\n",
       "      <td>...</td>\n",
       "      <td>...</td>\n",
       "      <td>...</td>\n",
       "      <td>...</td>\n",
       "      <td>...</td>\n",
       "      <td>...</td>\n",
       "      <td>...</td>\n",
       "      <td>...</td>\n",
       "      <td>...</td>\n",
       "      <td>...</td>\n",
       "      <td>...</td>\n",
       "      <td>...</td>\n",
       "      <td>...</td>\n",
       "      <td>...</td>\n",
       "      <td>...</td>\n",
       "      <td>...</td>\n",
       "    </tr>\n",
       "    <tr>\n",
       "      <th>4158</th>\n",
       "      <td>4158</td>\n",
       "      <td>221125</td>\n",
       "      <td>17</td>\n",
       "      <td>18</td>\n",
       "      <td>27</td>\n",
       "      <td>4</td>\n",
       "      <td>22</td>\n",
       "      <td>2</td>\n",
       "      <td>4.7956</td>\n",
       "      <td>5.1706</td>\n",
       "      <td>35.853592</td>\n",
       "      <td>94.943428</td>\n",
       "      <td>1.574174</td>\n",
       "      <td>0.185896</td>\n",
       "      <td>0.564810</td>\n",
       "      <td>0.082925</td>\n",
       "      <td>0.357536</td>\n",
       "      <td>0.012494</td>\n",
       "      <td>6.140435</td>\n",
       "    </tr>\n",
       "    <tr>\n",
       "      <th>4159</th>\n",
       "      <td>4159</td>\n",
       "      <td>221125</td>\n",
       "      <td>17</td>\n",
       "      <td>18</td>\n",
       "      <td>27</td>\n",
       "      <td>4</td>\n",
       "      <td>23</td>\n",
       "      <td>1</td>\n",
       "      <td>2.9734</td>\n",
       "      <td>3.5476</td>\n",
       "      <td>40.110299</td>\n",
       "      <td>73.018695</td>\n",
       "      <td>1.606961</td>\n",
       "      <td>0.068391</td>\n",
       "      <td>0.926973</td>\n",
       "      <td>0.076240</td>\n",
       "      <td>0.576235</td>\n",
       "      <td>0.029874</td>\n",
       "      <td>2.816130</td>\n",
       "    </tr>\n",
       "    <tr>\n",
       "      <th>4160</th>\n",
       "      <td>4160</td>\n",
       "      <td>221125</td>\n",
       "      <td>17</td>\n",
       "      <td>18</td>\n",
       "      <td>27</td>\n",
       "      <td>4</td>\n",
       "      <td>23</td>\n",
       "      <td>2</td>\n",
       "      <td>5.0852</td>\n",
       "      <td>5.5312</td>\n",
       "      <td>35.825132</td>\n",
       "      <td>85.074553</td>\n",
       "      <td>1.676902</td>\n",
       "      <td>0.030933</td>\n",
       "      <td>0.750410</td>\n",
       "      <td>0.051388</td>\n",
       "      <td>0.447519</td>\n",
       "      <td>0.030270</td>\n",
       "      <td>1.416022</td>\n",
       "    </tr>\n",
       "    <tr>\n",
       "      <th>4161</th>\n",
       "      <td>4161</td>\n",
       "      <td>221125</td>\n",
       "      <td>17</td>\n",
       "      <td>18</td>\n",
       "      <td>27</td>\n",
       "      <td>4</td>\n",
       "      <td>24</td>\n",
       "      <td>1</td>\n",
       "      <td>2.6174</td>\n",
       "      <td>3.2676</td>\n",
       "      <td>39.566893</td>\n",
       "      <td>60.739483</td>\n",
       "      <td>1.769655</td>\n",
       "      <td>0.085260</td>\n",
       "      <td>1.102541</td>\n",
       "      <td>0.186779</td>\n",
       "      <td>0.621689</td>\n",
       "      <td>0.096977</td>\n",
       "      <td>4.945476</td>\n",
       "    </tr>\n",
       "    <tr>\n",
       "      <th>4162</th>\n",
       "      <td>4162</td>\n",
       "      <td>221125</td>\n",
       "      <td>17</td>\n",
       "      <td>18</td>\n",
       "      <td>27</td>\n",
       "      <td>4</td>\n",
       "      <td>24</td>\n",
       "      <td>2</td>\n",
       "      <td>4.8432</td>\n",
       "      <td>5.2466</td>\n",
       "      <td>41.634734</td>\n",
       "      <td>111.395493</td>\n",
       "      <td>1.273901</td>\n",
       "      <td>0.063666</td>\n",
       "      <td>0.608008</td>\n",
       "      <td>0.033236</td>\n",
       "      <td>0.477407</td>\n",
       "      <td>0.015176</td>\n",
       "      <td>1.352637</td>\n",
       "    </tr>\n",
       "  </tbody>\n",
       "</table>\n",
       "<p>3808 rows × 19 columns</p>\n",
       "</div>"
      ],
      "text/plain": [
       "      index  date_yymmdd  hour_h  minute_min  subj  block  trial  texture  \\\n",
       "0         0       221110       8          22     6      1      0        1   \n",
       "2         2       221110       8          22     6      1      1        1   \n",
       "4         4       221110       8          22     6      1      2        1   \n",
       "6         6       221110       8          22     6      1      3        1   \n",
       "8         8       221110       8          22     6      1      4        1   \n",
       "...     ...          ...     ...         ...   ...    ...    ...      ...   \n",
       "4158   4158       221125      17          18    27      4     22        2   \n",
       "4159   4159       221125      17          18    27      4     23        1   \n",
       "4160   4160       221125      17          18    27      4     23        2   \n",
       "4161   4161       221125      17          18    27      4     24        1   \n",
       "4162   4162       221125      17          18    27      4     24        2   \n",
       "\n",
       "      start_s   end_s  sliding_distance_mm  v_mean_mms  fn_mean_n  fn_std_n  \\\n",
       "0      2.4468  2.9188            27.336514   56.485055   0.101889  0.017506   \n",
       "2      3.2890  3.9926            32.968886   51.992636   0.232339  0.045522   \n",
       "4      2.7382  3.3636            48.907967   63.353527   0.124927  0.017377   \n",
       "6      2.9612  3.4458            35.732360   68.784172   0.295268  0.032018   \n",
       "8      2.4546  3.1166            28.167039   39.146747   0.257821  0.042836   \n",
       "...       ...     ...                  ...         ...        ...       ...   \n",
       "4158   4.7956  5.1706            35.853592   94.943428   1.574174  0.185896   \n",
       "4159   2.9734  3.5476            40.110299   73.018695   1.606961  0.068391   \n",
       "4160   5.0852  5.5312            35.825132   85.074553   1.676902  0.030933   \n",
       "4161   2.6174  3.2676            39.566893   60.739483   1.769655  0.085260   \n",
       "4162   4.8432  5.2466            41.634734  111.395493   1.273901  0.063666   \n",
       "\n",
       "      ft_mean_n  ft_std_n  cof_mean   cof_std  rms_accelero_ms  \n",
       "0      0.411404  0.077333  4.112849  0.815765         4.338972  \n",
       "2      0.284906  0.026106  1.257871  0.175839         2.376460  \n",
       "4      0.408266  0.052771  3.309571  0.512267         2.498284  \n",
       "6      0.177960  0.027178  0.600501  0.040334         1.157180  \n",
       "8      0.367246  0.055283  1.430271  0.092177         1.715674  \n",
       "...         ...       ...       ...       ...              ...  \n",
       "4158   0.564810  0.082925  0.357536  0.012494         6.140435  \n",
       "4159   0.926973  0.076240  0.576235  0.029874         2.816130  \n",
       "4160   0.750410  0.051388  0.447519  0.030270         1.416022  \n",
       "4161   1.102541  0.186779  0.621689  0.096977         4.945476  \n",
       "4162   0.608008  0.033236  0.477407  0.015176         1.352637  \n",
       "\n",
       "[3808 rows x 19 columns]"
      ]
     },
     "execution_count": 40,
     "metadata": {},
     "output_type": "execute_result"
    }
   ],
   "source": [
    "min_values ={'sliding_distance_mm':10,\n",
    "             'v_mean_mms':0,\n",
    "              'fn_mean_n':0.05,\n",
    "             'fn_std_n':0,\n",
    "             'ft_mean_n':0,\n",
    "             'ft_std_n':0,\n",
    "             'cof_mean':0,\n",
    "             'cof_std':0,\n",
    "              'rms_accelero_ms':0}   \n",
    "\n",
    "max_values ={'sliding_distance_mm':70,\n",
    "             'v_mean_mms':150, \n",
    "              'fn_mean_n':2.5,\n",
    "             'fn_std_n':10,\n",
    "             'ft_mean_n':2.5,\n",
    "             'ft_std_n':10,\n",
    "             'cof_mean':10,\n",
    "             'cof_std':10,\n",
    "              'rms_accelero_ms':50}   \n",
    "\n",
    "mask = True\n",
    "for column in min_values: \n",
    "    column_mask = filtered_df2[column].between(left=min_values[column],\n",
    "                        right=max_values[column])\n",
    "    print('Column %s: kept %d/%d (%.2f %%) '%(column.upper(),\n",
    "                                               column_mask.sum(),\n",
    "                                               len(column_mask),\n",
    "                                               100*column_mask.sum()/len(column_mask)))\n",
    "    mask *= column_mask\n",
    "    print('\\t cumulative: kept %d/%d (%.2f %%) '%(mask.sum(),\n",
    "                                               len(filtered_df2),\n",
    "                                               100*mask.sum()/len(filtered_df2)))\n",
    "    \n",
    "filtered_df2[mask]\n"
   ]
  },
  {
   "cell_type": "code",
   "execution_count": 41,
   "id": "e17823b0",
   "metadata": {},
   "outputs": [
    {
     "data": {
      "text/html": [
       "<div>\n",
       "<style scoped>\n",
       "    .dataframe tbody tr th:only-of-type {\n",
       "        vertical-align: middle;\n",
       "    }\n",
       "\n",
       "    .dataframe tbody tr th {\n",
       "        vertical-align: top;\n",
       "    }\n",
       "\n",
       "    .dataframe thead th {\n",
       "        text-align: right;\n",
       "    }\n",
       "</style>\n",
       "<table border=\"1\" class=\"dataframe\">\n",
       "  <thead>\n",
       "    <tr style=\"text-align: right;\">\n",
       "      <th></th>\n",
       "      <th>index</th>\n",
       "      <th>date_yymmdd</th>\n",
       "      <th>hour_h</th>\n",
       "      <th>minute_min</th>\n",
       "      <th>subj</th>\n",
       "      <th>block</th>\n",
       "      <th>trial</th>\n",
       "      <th>texture</th>\n",
       "      <th>start_s</th>\n",
       "      <th>end_s</th>\n",
       "      <th>sliding_distance_mm</th>\n",
       "      <th>v_mean_mms</th>\n",
       "      <th>fn_mean_n</th>\n",
       "      <th>fn_std_n</th>\n",
       "      <th>ft_mean_n</th>\n",
       "      <th>ft_std_n</th>\n",
       "      <th>cof_mean</th>\n",
       "      <th>cof_std</th>\n",
       "      <th>rms_accelero_ms</th>\n",
       "    </tr>\n",
       "  </thead>\n",
       "  <tbody>\n",
       "    <tr>\n",
       "      <th>1</th>\n",
       "      <td>1</td>\n",
       "      <td>221110</td>\n",
       "      <td>8</td>\n",
       "      <td>22</td>\n",
       "      <td>6</td>\n",
       "      <td>1</td>\n",
       "      <td>0</td>\n",
       "      <td>2</td>\n",
       "      <td>3.6468</td>\n",
       "      <td>4.1268</td>\n",
       "      <td>-1.195209</td>\n",
       "      <td>0.724558</td>\n",
       "      <td>0.374153</td>\n",
       "      <td>0.047508</td>\n",
       "      <td>0.378895</td>\n",
       "      <td>0.048208</td>\n",
       "      <td>1.031406</td>\n",
       "      <td>0.201548</td>\n",
       "      <td>0.349007</td>\n",
       "    </tr>\n",
       "    <tr>\n",
       "      <th>3</th>\n",
       "      <td>3</td>\n",
       "      <td>221110</td>\n",
       "      <td>8</td>\n",
       "      <td>22</td>\n",
       "      <td>6</td>\n",
       "      <td>1</td>\n",
       "      <td>1</td>\n",
       "      <td>2</td>\n",
       "      <td>5.2008</td>\n",
       "      <td>5.5466</td>\n",
       "      <td>70.677067</td>\n",
       "      <td>238.470067</td>\n",
       "      <td>0.014616</td>\n",
       "      <td>0.043763</td>\n",
       "      <td>0.023413</td>\n",
       "      <td>0.058613</td>\n",
       "      <td>0.494322</td>\n",
       "      <td>3.759739</td>\n",
       "      <td>0.899553</td>\n",
       "    </tr>\n",
       "    <tr>\n",
       "      <th>5</th>\n",
       "      <td>5</td>\n",
       "      <td>221110</td>\n",
       "      <td>8</td>\n",
       "      <td>22</td>\n",
       "      <td>6</td>\n",
       "      <td>1</td>\n",
       "      <td>2</td>\n",
       "      <td>2</td>\n",
       "      <td>3.7298</td>\n",
       "      <td>4.0166</td>\n",
       "      <td>-1.209241</td>\n",
       "      <td>-1.427792</td>\n",
       "      <td>0.528894</td>\n",
       "      <td>0.041373</td>\n",
       "      <td>0.492902</td>\n",
       "      <td>0.038785</td>\n",
       "      <td>0.941459</td>\n",
       "      <td>0.131747</td>\n",
       "      <td>0.270764</td>\n",
       "    </tr>\n",
       "    <tr>\n",
       "      <th>7</th>\n",
       "      <td>7</td>\n",
       "      <td>221110</td>\n",
       "      <td>8</td>\n",
       "      <td>22</td>\n",
       "      <td>6</td>\n",
       "      <td>1</td>\n",
       "      <td>3</td>\n",
       "      <td>2</td>\n",
       "      <td>4.0290</td>\n",
       "      <td>4.3712</td>\n",
       "      <td>-1.223049</td>\n",
       "      <td>-1.898012</td>\n",
       "      <td>0.687975</td>\n",
       "      <td>0.113679</td>\n",
       "      <td>0.073072</td>\n",
       "      <td>0.093514</td>\n",
       "      <td>0.084463</td>\n",
       "      <td>0.147489</td>\n",
       "      <td>0.036058</td>\n",
       "    </tr>\n",
       "    <tr>\n",
       "      <th>9</th>\n",
       "      <td>9</td>\n",
       "      <td>221110</td>\n",
       "      <td>8</td>\n",
       "      <td>22</td>\n",
       "      <td>6</td>\n",
       "      <td>1</td>\n",
       "      <td>4</td>\n",
       "      <td>2</td>\n",
       "      <td>3.7634</td>\n",
       "      <td>4.1966</td>\n",
       "      <td>-32.441522</td>\n",
       "      <td>11.586621</td>\n",
       "      <td>0.321707</td>\n",
       "      <td>0.230067</td>\n",
       "      <td>0.171209</td>\n",
       "      <td>0.124952</td>\n",
       "      <td>0.893950</td>\n",
       "      <td>11.793635</td>\n",
       "      <td>0.948186</td>\n",
       "    </tr>\n",
       "    <tr>\n",
       "      <th>...</th>\n",
       "      <td>...</td>\n",
       "      <td>...</td>\n",
       "      <td>...</td>\n",
       "      <td>...</td>\n",
       "      <td>...</td>\n",
       "      <td>...</td>\n",
       "      <td>...</td>\n",
       "      <td>...</td>\n",
       "      <td>...</td>\n",
       "      <td>...</td>\n",
       "      <td>...</td>\n",
       "      <td>...</td>\n",
       "      <td>...</td>\n",
       "      <td>...</td>\n",
       "      <td>...</td>\n",
       "      <td>...</td>\n",
       "      <td>...</td>\n",
       "      <td>...</td>\n",
       "      <td>...</td>\n",
       "    </tr>\n",
       "    <tr>\n",
       "      <th>4130</th>\n",
       "      <td>4130</td>\n",
       "      <td>221125</td>\n",
       "      <td>17</td>\n",
       "      <td>18</td>\n",
       "      <td>27</td>\n",
       "      <td>4</td>\n",
       "      <td>7</td>\n",
       "      <td>2</td>\n",
       "      <td>5.5252</td>\n",
       "      <td>6.1598</td>\n",
       "      <td>33.731069</td>\n",
       "      <td>56.872432</td>\n",
       "      <td>2.785975</td>\n",
       "      <td>0.069903</td>\n",
       "      <td>1.872526</td>\n",
       "      <td>0.052615</td>\n",
       "      <td>0.672394</td>\n",
       "      <td>0.020782</td>\n",
       "      <td>1.465334</td>\n",
       "    </tr>\n",
       "    <tr>\n",
       "      <th>4141</th>\n",
       "      <td>4141</td>\n",
       "      <td>221125</td>\n",
       "      <td>17</td>\n",
       "      <td>18</td>\n",
       "      <td>27</td>\n",
       "      <td>4</td>\n",
       "      <td>13</td>\n",
       "      <td>1</td>\n",
       "      <td>2.5178</td>\n",
       "      <td>3.3672</td>\n",
       "      <td>29.995917</td>\n",
       "      <td>36.425205</td>\n",
       "      <td>3.284163</td>\n",
       "      <td>0.591267</td>\n",
       "      <td>1.173982</td>\n",
       "      <td>0.283427</td>\n",
       "      <td>0.353522</td>\n",
       "      <td>0.024379</td>\n",
       "      <td>2.689930</td>\n",
       "    </tr>\n",
       "    <tr>\n",
       "      <th>4143</th>\n",
       "      <td>4143</td>\n",
       "      <td>221125</td>\n",
       "      <td>17</td>\n",
       "      <td>18</td>\n",
       "      <td>27</td>\n",
       "      <td>4</td>\n",
       "      <td>14</td>\n",
       "      <td>1</td>\n",
       "      <td>3.3276</td>\n",
       "      <td>4.1790</td>\n",
       "      <td>38.823252</td>\n",
       "      <td>45.952937</td>\n",
       "      <td>2.873847</td>\n",
       "      <td>0.131033</td>\n",
       "      <td>1.407756</td>\n",
       "      <td>0.122694</td>\n",
       "      <td>0.489034</td>\n",
       "      <td>0.025007</td>\n",
       "      <td>3.045192</td>\n",
       "    </tr>\n",
       "    <tr>\n",
       "      <th>4150</th>\n",
       "      <td>4150</td>\n",
       "      <td>221125</td>\n",
       "      <td>17</td>\n",
       "      <td>18</td>\n",
       "      <td>27</td>\n",
       "      <td>4</td>\n",
       "      <td>17</td>\n",
       "      <td>2</td>\n",
       "      <td>5.6646</td>\n",
       "      <td>6.6204</td>\n",
       "      <td>36.047577</td>\n",
       "      <td>39.548839</td>\n",
       "      <td>1.187908</td>\n",
       "      <td>0.070579</td>\n",
       "      <td>1.576069</td>\n",
       "      <td>0.294561</td>\n",
       "      <td>1.330550</td>\n",
       "      <td>0.259353</td>\n",
       "      <td>97.917783</td>\n",
       "    </tr>\n",
       "    <tr>\n",
       "      <th>4156</th>\n",
       "      <td>4156</td>\n",
       "      <td>221125</td>\n",
       "      <td>17</td>\n",
       "      <td>18</td>\n",
       "      <td>27</td>\n",
       "      <td>4</td>\n",
       "      <td>21</td>\n",
       "      <td>2</td>\n",
       "      <td>5.0310</td>\n",
       "      <td>5.7326</td>\n",
       "      <td>30.351497</td>\n",
       "      <td>44.110767</td>\n",
       "      <td>1.093013</td>\n",
       "      <td>0.064744</td>\n",
       "      <td>1.668480</td>\n",
       "      <td>0.317059</td>\n",
       "      <td>1.530143</td>\n",
       "      <td>0.294163</td>\n",
       "      <td>84.265349</td>\n",
       "    </tr>\n",
       "  </tbody>\n",
       "</table>\n",
       "<p>355 rows × 19 columns</p>\n",
       "</div>"
      ],
      "text/plain": [
       "      index  date_yymmdd  hour_h  minute_min  subj  block  trial  texture  \\\n",
       "1         1       221110       8          22     6      1      0        2   \n",
       "3         3       221110       8          22     6      1      1        2   \n",
       "5         5       221110       8          22     6      1      2        2   \n",
       "7         7       221110       8          22     6      1      3        2   \n",
       "9         9       221110       8          22     6      1      4        2   \n",
       "...     ...          ...     ...         ...   ...    ...    ...      ...   \n",
       "4130   4130       221125      17          18    27      4      7        2   \n",
       "4141   4141       221125      17          18    27      4     13        1   \n",
       "4143   4143       221125      17          18    27      4     14        1   \n",
       "4150   4150       221125      17          18    27      4     17        2   \n",
       "4156   4156       221125      17          18    27      4     21        2   \n",
       "\n",
       "      start_s   end_s  sliding_distance_mm  v_mean_mms  fn_mean_n  fn_std_n  \\\n",
       "1      3.6468  4.1268            -1.195209    0.724558   0.374153  0.047508   \n",
       "3      5.2008  5.5466            70.677067  238.470067   0.014616  0.043763   \n",
       "5      3.7298  4.0166            -1.209241   -1.427792   0.528894  0.041373   \n",
       "7      4.0290  4.3712            -1.223049   -1.898012   0.687975  0.113679   \n",
       "9      3.7634  4.1966           -32.441522   11.586621   0.321707  0.230067   \n",
       "...       ...     ...                  ...         ...        ...       ...   \n",
       "4130   5.5252  6.1598            33.731069   56.872432   2.785975  0.069903   \n",
       "4141   2.5178  3.3672            29.995917   36.425205   3.284163  0.591267   \n",
       "4143   3.3276  4.1790            38.823252   45.952937   2.873847  0.131033   \n",
       "4150   5.6646  6.6204            36.047577   39.548839   1.187908  0.070579   \n",
       "4156   5.0310  5.7326            30.351497   44.110767   1.093013  0.064744   \n",
       "\n",
       "      ft_mean_n  ft_std_n  cof_mean    cof_std  rms_accelero_ms  \n",
       "1      0.378895  0.048208  1.031406   0.201548         0.349007  \n",
       "3      0.023413  0.058613  0.494322   3.759739         0.899553  \n",
       "5      0.492902  0.038785  0.941459   0.131747         0.270764  \n",
       "7      0.073072  0.093514  0.084463   0.147489         0.036058  \n",
       "9      0.171209  0.124952  0.893950  11.793635         0.948186  \n",
       "...         ...       ...       ...        ...              ...  \n",
       "4130   1.872526  0.052615  0.672394   0.020782         1.465334  \n",
       "4141   1.173982  0.283427  0.353522   0.024379         2.689930  \n",
       "4143   1.407756  0.122694  0.489034   0.025007         3.045192  \n",
       "4150   1.576069  0.294561  1.330550   0.259353        97.917783  \n",
       "4156   1.668480  0.317059  1.530143   0.294163        84.265349  \n",
       "\n",
       "[355 rows x 19 columns]"
      ]
     },
     "execution_count": 41,
     "metadata": {},
     "output_type": "execute_result"
    }
   ],
   "source": [
    "outlier_values = filtered_df2[~mask]\n",
    "outlier_values"
   ]
  },
  {
   "cell_type": "code",
   "execution_count": 42,
   "id": "81356198",
   "metadata": {},
   "outputs": [],
   "source": [
    "outlier_values.to_excel('data/meca/out.xlsx')"
   ]
  },
  {
   "cell_type": "code",
   "execution_count": 43,
   "id": "18847406",
   "metadata": {},
   "outputs": [],
   "source": [
    "filtered_df2[mask].to_csv('data/meca/meca.csv')"
   ]
  },
  {
   "cell_type": "markdown",
   "id": "4a2b7b68",
   "metadata": {},
   "source": [
    "<mark> 8.5% des essais ont été supprimés"
   ]
  },
  {
   "cell_type": "code",
   "execution_count": 44,
   "id": "f4c5d997",
   "metadata": {},
   "outputs": [
    {
     "data": {
      "text/plain": [
       "<AxesSubplot:xlabel='subj', ylabel='trial'>"
      ]
     },
     "execution_count": 44,
     "metadata": {},
     "output_type": "execute_result"
    },
    {
     "data": {
      "image/png": "[encoded data removed]",
      "text/plain": [
       "<Figure size 1008x504 with 1 Axes>"
      ]
     },
     "metadata": {
      "needs_background": "light"
     },
     "output_type": "display_data"
    }
   ],
   "source": [
    "plt.figure(figsize=(14,7))\n",
    "d=filtered_df2[mask].groupby(['subj']).trial.count()/2\n",
    "sns.pointplot(data=d.reset_index(), x='subj',y='trial')"
   ]
  },
  {
   "cell_type": "code",
   "execution_count": null,
   "id": "39a4278b",
   "metadata": {},
   "outputs": [
    {
     "data": {
      "text/plain": [
       "<AxesSubplot:xlabel='subj', ylabel='trial'>"
      ]
     },
     "execution_count": 63,
     "metadata": {},
     "output_type": "execute_result"
    },
    {
     "data": {
      "image/png": "[encoded data removed]",
      "text/plain": [
       "<Figure size 1008x504 with 1 Axes>"
      ]
     },
     "metadata": {
      "needs_background": "light"
     },
     "output_type": "display_data"
    }
   ],
   "source": [
    "# Methode des ecart interquartiles IQR :\n",
    "\n",
    "Q1 = filtered_df2.quantile(0.25)\n",
    "Q3 = filtered_df2.quantile(0.75)\n",
    "IQR = Q3 - Q1\n",
    "\n",
    "lower_bound = Q1 - 1.5 * IQR\n",
    "upper_bound = Q3 + 1.5 * IQR\n",
    "\n",
    "#outliers = ((filtered_df2 < lower_bound) | (filtered_df2 > upper_bound)).sum()\n",
    "filtered_df3 = filtered_df2[~((filtered_df2 < lower_bound) | (filtered_df2 > upper_bound)).any(axis=1)]\n",
    "\n",
    "plt.figure(figsize=(14,7))\n",
    "d=filtered_df3.groupby(['subj']).trial.count()/2\n",
    "sns.pointplot(data=d.reset_index(), x='subj',y='trial')"
   ]
  },
  {
   "cell_type": "markdown",
   "id": "1b0821a7",
   "metadata": {},
   "source": [
    "## Joindre behavioural data avec summary meca data"
   ]
  },
  {
   "cell_type": "code",
   "execution_count": 45,
   "id": "7662d1be",
   "metadata": {},
   "outputs": [
    {
     "name": "stderr",
     "output_type": "stream",
     "text": [
      "c:\\ProgramData\\Anaconda3\\lib\\site-packages\\pandas\\core\\generic.py:5168: SettingWithCopyWarning: \n",
      "A value is trying to be set on a copy of a slice from a DataFrame.\n",
      "Try using .loc[row_indexer,col_indexer] = value instead\n",
      "\n",
      "See the caveats in the documentation: https://pandas.pydata.org/pandas-docs/stable/user_guide/indexing.html#returning-a-view-versus-a-copy\n",
      "  self[name] = value\n"
     ]
    }
   ],
   "source": [
    "data_df.stim_order = data_df.stim_order +1 "
   ]
  },
  {
   "cell_type": "code",
   "execution_count": 46,
   "id": "246f54fe",
   "metadata": {},
   "outputs": [],
   "source": [
    "filtered_df2.rename(columns={'texture': 'stim_order'}, inplace=True)"
   ]
  },
  {
   "cell_type": "code",
   "execution_count": 47,
   "id": "411cdb33",
   "metadata": {},
   "outputs": [],
   "source": [
    "df_result = pd.merge(data_df, filtered_df2[mask], on=['subj', 'trial','block','stim_order'], how='inner')"
   ]
  },
  {
   "cell_type": "code",
   "execution_count": 48,
   "id": "837b90cc",
   "metadata": {},
   "outputs": [
    {
     "data": {
      "text/html": [
       "<div>\n",
       "<style scoped>\n",
       "    .dataframe tbody tr th:only-of-type {\n",
       "        vertical-align: middle;\n",
       "    }\n",
       "\n",
       "    .dataframe tbody tr th {\n",
       "        vertical-align: top;\n",
       "    }\n",
       "\n",
       "    .dataframe thead th {\n",
       "        text-align: right;\n",
       "    }\n",
       "</style>\n",
       "<table border=\"1\" class=\"dataframe\">\n",
       "  <thead>\n",
       "    <tr style=\"text-align: right;\">\n",
       "      <th></th>\n",
       "      <th>subj</th>\n",
       "      <th>trial</th>\n",
       "      <th>block</th>\n",
       "      <th>practice</th>\n",
       "      <th>condition</th>\n",
       "      <th>sex</th>\n",
       "      <th>age</th>\n",
       "      <th>date</th>\n",
       "      <th>data_file</th>\n",
       "      <th>texture_id</th>\n",
       "      <th>stim_order</th>\n",
       "      <th>diameter</th>\n",
       "      <th>opening</th>\n",
       "      <th>spacing</th>\n",
       "      <th>response</th>\n",
       "      <th>rt</th>\n",
       "      <th>index</th>\n",
       "      <th>date_yymmdd</th>\n",
       "      <th>hour_h</th>\n",
       "      <th>minute_min</th>\n",
       "      <th>start_s</th>\n",
       "      <th>end_s</th>\n",
       "      <th>sliding_distance_mm</th>\n",
       "      <th>v_mean_mms</th>\n",
       "      <th>fn_mean_n</th>\n",
       "      <th>fn_std_n</th>\n",
       "      <th>ft_mean_n</th>\n",
       "      <th>ft_std_n</th>\n",
       "      <th>cof_mean</th>\n",
       "      <th>cof_std</th>\n",
       "      <th>rms_accelero_ms</th>\n",
       "    </tr>\n",
       "  </thead>\n",
       "  <tbody>\n",
       "    <tr>\n",
       "      <th>0</th>\n",
       "      <td>6</td>\n",
       "      <td>0</td>\n",
       "      <td>1</td>\n",
       "      <td>False</td>\n",
       "      <td>soft</td>\n",
       "      <td>f</td>\n",
       "      <td>23</td>\n",
       "      <td>2022-11-10 08:22:05.219727</td>\n",
       "      <td>results/221110_08.22_data_subj6_block1_trial0.csv</td>\n",
       "      <td>E030</td>\n",
       "      <td>1</td>\n",
       "      <td>260.0</td>\n",
       "      <td>140.0</td>\n",
       "      <td>400.0</td>\n",
       "      <td>False</td>\n",
       "      <td>10.857</td>\n",
       "      <td>0</td>\n",
       "      <td>221110</td>\n",
       "      <td>8</td>\n",
       "      <td>22</td>\n",
       "      <td>2.4468</td>\n",
       "      <td>2.9188</td>\n",
       "      <td>27.336514</td>\n",
       "      <td>56.485055</td>\n",
       "      <td>0.101889</td>\n",
       "      <td>0.017506</td>\n",
       "      <td>0.411404</td>\n",
       "      <td>0.077333</td>\n",
       "      <td>4.112849</td>\n",
       "      <td>0.815765</td>\n",
       "      <td>4.338972</td>\n",
       "    </tr>\n",
       "    <tr>\n",
       "      <th>1</th>\n",
       "      <td>6</td>\n",
       "      <td>1</td>\n",
       "      <td>1</td>\n",
       "      <td>False</td>\n",
       "      <td>soft</td>\n",
       "      <td>f</td>\n",
       "      <td>23</td>\n",
       "      <td>2022-11-10 08:22:05.219727</td>\n",
       "      <td>results/221110_08.22_data_subj6_block1_trial1.csv</td>\n",
       "      <td>E061</td>\n",
       "      <td>1</td>\n",
       "      <td>80.0</td>\n",
       "      <td>170.0</td>\n",
       "      <td>250.0</td>\n",
       "      <td>True</td>\n",
       "      <td>11.883</td>\n",
       "      <td>2</td>\n",
       "      <td>221110</td>\n",
       "      <td>8</td>\n",
       "      <td>22</td>\n",
       "      <td>3.2890</td>\n",
       "      <td>3.9926</td>\n",
       "      <td>32.968886</td>\n",
       "      <td>51.992636</td>\n",
       "      <td>0.232339</td>\n",
       "      <td>0.045522</td>\n",
       "      <td>0.284906</td>\n",
       "      <td>0.026106</td>\n",
       "      <td>1.257871</td>\n",
       "      <td>0.175839</td>\n",
       "      <td>2.376460</td>\n",
       "    </tr>\n",
       "    <tr>\n",
       "      <th>2</th>\n",
       "      <td>6</td>\n",
       "      <td>2</td>\n",
       "      <td>1</td>\n",
       "      <td>False</td>\n",
       "      <td>soft</td>\n",
       "      <td>f</td>\n",
       "      <td>23</td>\n",
       "      <td>2022-11-10 08:22:05.219727</td>\n",
       "      <td>results/221110_08.22_data_subj6_block1_trial2.csv</td>\n",
       "      <td>E048</td>\n",
       "      <td>1</td>\n",
       "      <td>170.0</td>\n",
       "      <td>170.0</td>\n",
       "      <td>340.0</td>\n",
       "      <td>False</td>\n",
       "      <td>10.245</td>\n",
       "      <td>4</td>\n",
       "      <td>221110</td>\n",
       "      <td>8</td>\n",
       "      <td>22</td>\n",
       "      <td>2.7382</td>\n",
       "      <td>3.3636</td>\n",
       "      <td>48.907967</td>\n",
       "      <td>63.353527</td>\n",
       "      <td>0.124927</td>\n",
       "      <td>0.017377</td>\n",
       "      <td>0.408266</td>\n",
       "      <td>0.052771</td>\n",
       "      <td>3.309571</td>\n",
       "      <td>0.512267</td>\n",
       "      <td>2.498284</td>\n",
       "    </tr>\n",
       "    <tr>\n",
       "      <th>3</th>\n",
       "      <td>6</td>\n",
       "      <td>3</td>\n",
       "      <td>1</td>\n",
       "      <td>False</td>\n",
       "      <td>soft</td>\n",
       "      <td>f</td>\n",
       "      <td>23</td>\n",
       "      <td>2022-11-10 08:22:05.219727</td>\n",
       "      <td>results/221110_08.22_data_subj6_block1_trial3.csv</td>\n",
       "      <td>E069</td>\n",
       "      <td>1</td>\n",
       "      <td>20.0</td>\n",
       "      <td>140.0</td>\n",
       "      <td>160.0</td>\n",
       "      <td>True</td>\n",
       "      <td>9.698</td>\n",
       "      <td>6</td>\n",
       "      <td>221110</td>\n",
       "      <td>8</td>\n",
       "      <td>22</td>\n",
       "      <td>2.9612</td>\n",
       "      <td>3.4458</td>\n",
       "      <td>35.732360</td>\n",
       "      <td>68.784172</td>\n",
       "      <td>0.295268</td>\n",
       "      <td>0.032018</td>\n",
       "      <td>0.177960</td>\n",
       "      <td>0.027178</td>\n",
       "      <td>0.600501</td>\n",
       "      <td>0.040334</td>\n",
       "      <td>1.157180</td>\n",
       "    </tr>\n",
       "    <tr>\n",
       "      <th>4</th>\n",
       "      <td>6</td>\n",
       "      <td>4</td>\n",
       "      <td>1</td>\n",
       "      <td>False</td>\n",
       "      <td>soft</td>\n",
       "      <td>f</td>\n",
       "      <td>23</td>\n",
       "      <td>2022-11-10 08:22:05.219727</td>\n",
       "      <td>results/221110_08.22_data_subj6_block1_trial4.csv</td>\n",
       "      <td>E028</td>\n",
       "      <td>1</td>\n",
       "      <td>500.0</td>\n",
       "      <td>260.0</td>\n",
       "      <td>760.0</td>\n",
       "      <td>True</td>\n",
       "      <td>9.379</td>\n",
       "      <td>8</td>\n",
       "      <td>221110</td>\n",
       "      <td>8</td>\n",
       "      <td>22</td>\n",
       "      <td>2.4546</td>\n",
       "      <td>3.1166</td>\n",
       "      <td>28.167039</td>\n",
       "      <td>39.146747</td>\n",
       "      <td>0.257821</td>\n",
       "      <td>0.042836</td>\n",
       "      <td>0.367246</td>\n",
       "      <td>0.055283</td>\n",
       "      <td>1.430271</td>\n",
       "      <td>0.092177</td>\n",
       "      <td>1.715674</td>\n",
       "    </tr>\n",
       "    <tr>\n",
       "      <th>...</th>\n",
       "      <td>...</td>\n",
       "      <td>...</td>\n",
       "      <td>...</td>\n",
       "      <td>...</td>\n",
       "      <td>...</td>\n",
       "      <td>...</td>\n",
       "      <td>...</td>\n",
       "      <td>...</td>\n",
       "      <td>...</td>\n",
       "      <td>...</td>\n",
       "      <td>...</td>\n",
       "      <td>...</td>\n",
       "      <td>...</td>\n",
       "      <td>...</td>\n",
       "      <td>...</td>\n",
       "      <td>...</td>\n",
       "      <td>...</td>\n",
       "      <td>...</td>\n",
       "      <td>...</td>\n",
       "      <td>...</td>\n",
       "      <td>...</td>\n",
       "      <td>...</td>\n",
       "      <td>...</td>\n",
       "      <td>...</td>\n",
       "      <td>...</td>\n",
       "      <td>...</td>\n",
       "      <td>...</td>\n",
       "      <td>...</td>\n",
       "      <td>...</td>\n",
       "      <td>...</td>\n",
       "      <td>...</td>\n",
       "    </tr>\n",
       "    <tr>\n",
       "      <th>3803</th>\n",
       "      <td>27</td>\n",
       "      <td>22</td>\n",
       "      <td>4</td>\n",
       "      <td>False</td>\n",
       "      <td>rug</td>\n",
       "      <td>m</td>\n",
       "      <td>20</td>\n",
       "      <td>2022-11-25 17:18:05.980838</td>\n",
       "      <td>results/221125_17.18_data_subj27_block4_trial2...</td>\n",
       "      <td>E078(S45)</td>\n",
       "      <td>2</td>\n",
       "      <td>80.0</td>\n",
       "      <td>110.0</td>\n",
       "      <td>190.0</td>\n",
       "      <td>False</td>\n",
       "      <td>8.466</td>\n",
       "      <td>4158</td>\n",
       "      <td>221125</td>\n",
       "      <td>17</td>\n",
       "      <td>18</td>\n",
       "      <td>4.7956</td>\n",
       "      <td>5.1706</td>\n",
       "      <td>35.853592</td>\n",
       "      <td>94.943428</td>\n",
       "      <td>1.574174</td>\n",
       "      <td>0.185896</td>\n",
       "      <td>0.564810</td>\n",
       "      <td>0.082925</td>\n",
       "      <td>0.357536</td>\n",
       "      <td>0.012494</td>\n",
       "      <td>6.140435</td>\n",
       "    </tr>\n",
       "    <tr>\n",
       "      <th>3804</th>\n",
       "      <td>27</td>\n",
       "      <td>23</td>\n",
       "      <td>4</td>\n",
       "      <td>False</td>\n",
       "      <td>rug</td>\n",
       "      <td>m</td>\n",
       "      <td>20</td>\n",
       "      <td>2022-11-25 17:18:05.980838</td>\n",
       "      <td>results/221125_17.18_data_subj27_block4_trial2...</td>\n",
       "      <td>E038</td>\n",
       "      <td>1</td>\n",
       "      <td>110.0</td>\n",
       "      <td>80.0</td>\n",
       "      <td>190.0</td>\n",
       "      <td>True</td>\n",
       "      <td>7.617</td>\n",
       "      <td>4159</td>\n",
       "      <td>221125</td>\n",
       "      <td>17</td>\n",
       "      <td>18</td>\n",
       "      <td>2.9734</td>\n",
       "      <td>3.5476</td>\n",
       "      <td>40.110299</td>\n",
       "      <td>73.018695</td>\n",
       "      <td>1.606961</td>\n",
       "      <td>0.068391</td>\n",
       "      <td>0.926973</td>\n",
       "      <td>0.076240</td>\n",
       "      <td>0.576235</td>\n",
       "      <td>0.029874</td>\n",
       "      <td>2.816130</td>\n",
       "    </tr>\n",
       "    <tr>\n",
       "      <th>3805</th>\n",
       "      <td>27</td>\n",
       "      <td>23</td>\n",
       "      <td>4</td>\n",
       "      <td>False</td>\n",
       "      <td>rug</td>\n",
       "      <td>m</td>\n",
       "      <td>20</td>\n",
       "      <td>2022-11-25 17:18:05.980838</td>\n",
       "      <td>results/221125_17.18_data_subj27_block4_trial2...</td>\n",
       "      <td>E076(S43)</td>\n",
       "      <td>2</td>\n",
       "      <td>50.0</td>\n",
       "      <td>50.0</td>\n",
       "      <td>100.0</td>\n",
       "      <td>False</td>\n",
       "      <td>7.617</td>\n",
       "      <td>4160</td>\n",
       "      <td>221125</td>\n",
       "      <td>17</td>\n",
       "      <td>18</td>\n",
       "      <td>5.0852</td>\n",
       "      <td>5.5312</td>\n",
       "      <td>35.825132</td>\n",
       "      <td>85.074553</td>\n",
       "      <td>1.676902</td>\n",
       "      <td>0.030933</td>\n",
       "      <td>0.750410</td>\n",
       "      <td>0.051388</td>\n",
       "      <td>0.447519</td>\n",
       "      <td>0.030270</td>\n",
       "      <td>1.416022</td>\n",
       "    </tr>\n",
       "    <tr>\n",
       "      <th>3806</th>\n",
       "      <td>27</td>\n",
       "      <td>24</td>\n",
       "      <td>4</td>\n",
       "      <td>False</td>\n",
       "      <td>rug</td>\n",
       "      <td>m</td>\n",
       "      <td>20</td>\n",
       "      <td>2022-11-25 17:18:05.980838</td>\n",
       "      <td>results/221125_17.18_data_subj27_block4_trial2...</td>\n",
       "      <td>E044</td>\n",
       "      <td>1</td>\n",
       "      <td>170.0</td>\n",
       "      <td>140.0</td>\n",
       "      <td>310.0</td>\n",
       "      <td>True</td>\n",
       "      <td>7.534</td>\n",
       "      <td>4161</td>\n",
       "      <td>221125</td>\n",
       "      <td>17</td>\n",
       "      <td>18</td>\n",
       "      <td>2.6174</td>\n",
       "      <td>3.2676</td>\n",
       "      <td>39.566893</td>\n",
       "      <td>60.739483</td>\n",
       "      <td>1.769655</td>\n",
       "      <td>0.085260</td>\n",
       "      <td>1.102541</td>\n",
       "      <td>0.186779</td>\n",
       "      <td>0.621689</td>\n",
       "      <td>0.096977</td>\n",
       "      <td>4.945476</td>\n",
       "    </tr>\n",
       "    <tr>\n",
       "      <th>3807</th>\n",
       "      <td>27</td>\n",
       "      <td>24</td>\n",
       "      <td>4</td>\n",
       "      <td>False</td>\n",
       "      <td>rug</td>\n",
       "      <td>m</td>\n",
       "      <td>20</td>\n",
       "      <td>2022-11-25 17:18:05.980838</td>\n",
       "      <td>results/221125_17.18_data_subj27_block4_trial2...</td>\n",
       "      <td>E075(S42)</td>\n",
       "      <td>2</td>\n",
       "      <td>20.0</td>\n",
       "      <td>20.0</td>\n",
       "      <td>40.0</td>\n",
       "      <td>False</td>\n",
       "      <td>7.534</td>\n",
       "      <td>4162</td>\n",
       "      <td>221125</td>\n",
       "      <td>17</td>\n",
       "      <td>18</td>\n",
       "      <td>4.8432</td>\n",
       "      <td>5.2466</td>\n",
       "      <td>41.634734</td>\n",
       "      <td>111.395493</td>\n",
       "      <td>1.273901</td>\n",
       "      <td>0.063666</td>\n",
       "      <td>0.608008</td>\n",
       "      <td>0.033236</td>\n",
       "      <td>0.477407</td>\n",
       "      <td>0.015176</td>\n",
       "      <td>1.352637</td>\n",
       "    </tr>\n",
       "  </tbody>\n",
       "</table>\n",
       "<p>3808 rows × 31 columns</p>\n",
       "</div>"
      ],
      "text/plain": [
       "      subj  trial  block  practice condition sex  age  \\\n",
       "0        6      0      1     False      soft   f   23   \n",
       "1        6      1      1     False      soft   f   23   \n",
       "2        6      2      1     False      soft   f   23   \n",
       "3        6      3      1     False      soft   f   23   \n",
       "4        6      4      1     False      soft   f   23   \n",
       "...    ...    ...    ...       ...       ...  ..  ...   \n",
       "3803    27     22      4     False       rug   m   20   \n",
       "3804    27     23      4     False       rug   m   20   \n",
       "3805    27     23      4     False       rug   m   20   \n",
       "3806    27     24      4     False       rug   m   20   \n",
       "3807    27     24      4     False       rug   m   20   \n",
       "\n",
       "                            date  \\\n",
       "0     2022-11-10 08:22:05.219727   \n",
       "1     2022-11-10 08:22:05.219727   \n",
       "2     2022-11-10 08:22:05.219727   \n",
       "3     2022-11-10 08:22:05.219727   \n",
       "4     2022-11-10 08:22:05.219727   \n",
       "...                          ...   \n",
       "3803  2022-11-25 17:18:05.980838   \n",
       "3804  2022-11-25 17:18:05.980838   \n",
       "3805  2022-11-25 17:18:05.980838   \n",
       "3806  2022-11-25 17:18:05.980838   \n",
       "3807  2022-11-25 17:18:05.980838   \n",
       "\n",
       "                                              data_file texture_id  \\\n",
       "0     results/221110_08.22_data_subj6_block1_trial0.csv       E030   \n",
       "1     results/221110_08.22_data_subj6_block1_trial1.csv       E061   \n",
       "2     results/221110_08.22_data_subj6_block1_trial2.csv       E048   \n",
       "3     results/221110_08.22_data_subj6_block1_trial3.csv       E069   \n",
       "4     results/221110_08.22_data_subj6_block1_trial4.csv       E028   \n",
       "...                                                 ...        ...   \n",
       "3803  results/221125_17.18_data_subj27_block4_trial2...  E078(S45)   \n",
       "3804  results/221125_17.18_data_subj27_block4_trial2...       E038   \n",
       "3805  results/221125_17.18_data_subj27_block4_trial2...  E076(S43)   \n",
       "3806  results/221125_17.18_data_subj27_block4_trial2...       E044   \n",
       "3807  results/221125_17.18_data_subj27_block4_trial2...  E075(S42)   \n",
       "\n",
       "      stim_order  diameter  opening  spacing  response      rt  index  \\\n",
       "0              1     260.0    140.0    400.0     False  10.857      0   \n",
       "1              1      80.0    170.0    250.0      True  11.883      2   \n",
       "2              1     170.0    170.0    340.0     False  10.245      4   \n",
       "3              1      20.0    140.0    160.0      True   9.698      6   \n",
       "4              1     500.0    260.0    760.0      True   9.379      8   \n",
       "...          ...       ...      ...      ...       ...     ...    ...   \n",
       "3803           2      80.0    110.0    190.0     False   8.466   4158   \n",
       "3804           1     110.0     80.0    190.0      True   7.617   4159   \n",
       "3805           2      50.0     50.0    100.0     False   7.617   4160   \n",
       "3806           1     170.0    140.0    310.0      True   7.534   4161   \n",
       "3807           2      20.0     20.0     40.0     False   7.534   4162   \n",
       "\n",
       "      date_yymmdd  hour_h  minute_min  start_s   end_s  sliding_distance_mm  \\\n",
       "0          221110       8          22   2.4468  2.9188            27.336514   \n",
       "1          221110       8          22   3.2890  3.9926            32.968886   \n",
       "2          221110       8          22   2.7382  3.3636            48.907967   \n",
       "3          221110       8          22   2.9612  3.4458            35.732360   \n",
       "4          221110       8          22   2.4546  3.1166            28.167039   \n",
       "...           ...     ...         ...      ...     ...                  ...   \n",
       "3803       221125      17          18   4.7956  5.1706            35.853592   \n",
       "3804       221125      17          18   2.9734  3.5476            40.110299   \n",
       "3805       221125      17          18   5.0852  5.5312            35.825132   \n",
       "3806       221125      17          18   2.6174  3.2676            39.566893   \n",
       "3807       221125      17          18   4.8432  5.2466            41.634734   \n",
       "\n",
       "      v_mean_mms  fn_mean_n  fn_std_n  ft_mean_n  ft_std_n  cof_mean  \\\n",
       "0      56.485055   0.101889  0.017506   0.411404  0.077333  4.112849   \n",
       "1      51.992636   0.232339  0.045522   0.284906  0.026106  1.257871   \n",
       "2      63.353527   0.124927  0.017377   0.408266  0.052771  3.309571   \n",
       "3      68.784172   0.295268  0.032018   0.177960  0.027178  0.600501   \n",
       "4      39.146747   0.257821  0.042836   0.367246  0.055283  1.430271   \n",
       "...          ...        ...       ...        ...       ...       ...   \n",
       "3803   94.943428   1.574174  0.185896   0.564810  0.082925  0.357536   \n",
       "3804   73.018695   1.606961  0.068391   0.926973  0.076240  0.576235   \n",
       "3805   85.074553   1.676902  0.030933   0.750410  0.051388  0.447519   \n",
       "3806   60.739483   1.769655  0.085260   1.102541  0.186779  0.621689   \n",
       "3807  111.395493   1.273901  0.063666   0.608008  0.033236  0.477407   \n",
       "\n",
       "       cof_std  rms_accelero_ms  \n",
       "0     0.815765         4.338972  \n",
       "1     0.175839         2.376460  \n",
       "2     0.512267         2.498284  \n",
       "3     0.040334         1.157180  \n",
       "4     0.092177         1.715674  \n",
       "...        ...              ...  \n",
       "3803  0.012494         6.140435  \n",
       "3804  0.029874         2.816130  \n",
       "3805  0.030270         1.416022  \n",
       "3806  0.096977         4.945476  \n",
       "3807  0.015176         1.352637  \n",
       "\n",
       "[3808 rows x 31 columns]"
      ]
     },
     "execution_count": 48,
     "metadata": {},
     "output_type": "execute_result"
    }
   ],
   "source": [
    "pd.set_option('display.max_columns',df_result.shape[1])\n",
    "df_result"
   ]
  },
  {
   "cell_type": "markdown",
   "id": "08aa7068",
   "metadata": {},
   "source": [
    "## Kernel"
   ]
  },
  {
   "cell_type": "markdown",
   "id": "b95d050d",
   "metadata": {},
   "source": [
    "### Kernel computation"
   ]
  },
  {
   "cell_type": "code",
   "execution_count": 49,
   "id": "2ef9ecc3",
   "metadata": {
    "ExecuteTime": {
     "end_time": "2022-11-28T12:01:53.157568Z",
     "start_time": "2022-11-28T12:01:53.085717Z"
    }
   },
   "outputs": [
    {
     "ename": "NameError",
     "evalue": "name 'data' is not defined",
     "output_type": "error",
     "traceback": [
      "\u001b[1;31m---------------------------------------------------------------------------\u001b[0m",
      "\u001b[1;31mNameError\u001b[0m                                 Traceback (most recent call last)",
      "\u001b[1;32m<ipython-input-49-b42878f54e29>\u001b[0m in \u001b[0;36m<module>\u001b[1;34m\u001b[0m\n\u001b[1;32m----> 1\u001b[1;33m data_melt = pd.melt(data,\n\u001b[0m\u001b[0;32m      2\u001b[0m         \u001b[0mid_vars\u001b[0m\u001b[1;33m=\u001b[0m\u001b[1;33m[\u001b[0m\u001b[1;34m'subj'\u001b[0m\u001b[1;33m,\u001b[0m\u001b[1;34m'trial'\u001b[0m\u001b[1;33m,\u001b[0m\u001b[1;34m'block'\u001b[0m\u001b[1;33m,\u001b[0m\u001b[1;34m'sex'\u001b[0m\u001b[1;33m,\u001b[0m\u001b[1;34m'age'\u001b[0m\u001b[1;33m,\u001b[0m\u001b[1;34m'condition'\u001b[0m\u001b[1;33m,\u001b[0m\u001b[1;34m'response'\u001b[0m\u001b[1;33m]\u001b[0m\u001b[1;33m,\u001b[0m\u001b[1;33m\u001b[0m\u001b[1;33m\u001b[0m\u001b[0m\n\u001b[0;32m      3\u001b[0m         \u001b[0mvalue_vars\u001b[0m\u001b[1;33m=\u001b[0m\u001b[1;33m[\u001b[0m\u001b[1;34m'diameter'\u001b[0m\u001b[1;33m,\u001b[0m\u001b[1;34m'opening'\u001b[0m\u001b[1;33m,\u001b[0m\u001b[1;34m'spacing'\u001b[0m\u001b[1;33m]\u001b[0m\u001b[1;33m,\u001b[0m\u001b[1;33m\u001b[0m\u001b[1;33m\u001b[0m\u001b[0m\n\u001b[0;32m      4\u001b[0m         var_name='feature')\n\u001b[0;32m      5\u001b[0m \u001b[1;33m\u001b[0m\u001b[0m\n",
      "\u001b[1;31mNameError\u001b[0m: name 'data' is not defined"
     ]
    }
   ],
   "source": [
    "data_melt = pd.melt(data,\n",
    "        id_vars=['subj','trial','block','sex','age','condition','response'],\n",
    "        value_vars=['diameter','opening','spacing'],\n",
    "        var_name='feature')\n",
    "\n",
    "# z-score feature values\n",
    "zscore = lambda x: (x-np.nanmean(x))/np.nanstd(x)\n",
    "# zscore TAS and weights\n",
    "data_melt['value'] = data_melt.groupby(['subj','feature'])['value'].transform(zscore) \n",
    "\n",
    "# compute difference between positives and negatives in each trial\n",
    "positives = data_melt.loc[data_melt.response == True].reset_index()\n",
    "negatives = data_melt.loc[data_melt.response == False].reset_index()\n",
    "kernels = pd.merge(positives, negatives, on=['subj','block','trial','feature'],suffixes=['+','-'])\n",
    "kernels['delta_value']=kernels['value+']-kernels['value-']\n",
    "\n",
    "kernels.drop(['index+','response+', 'value+', \n",
    "               'index-', 'sex-', 'age-', 'condition-', 'response-', 'value-'], axis=1, inplace=True)\n",
    "kernels = kernels.rename(columns={'sex+':'sex','age+':'age', 'condition+':'condition'})\n",
    "\n",
    "# normalize for each subj by dividing by the RMS of their values over all trials \n",
    "kernels['square_delta_value'] = kernels['delta_value']**2\n",
    "\n",
    "for_norm = kernels.groupby(['subj','condition','feature']).agg({'square_delta_value':'mean'}).reset_index()\n",
    "                                          \n",
    "kernels = pd.merge(kernels, for_norm, on=['subj','condition','feature'], suffixes=['','_mean'])\n",
    "kernels['norm_delta_value'] = kernels['delta_value']/np.sqrt(kernels['square_delta_value_mean'])\n",
    "\n",
    "kernels.drop(['delta_value','square_delta_value', 'square_delta_value_mean',], axis=1, inplace=True)\n"
   ]
  },
  {
   "cell_type": "markdown",
   "id": "46cfc894",
   "metadata": {},
   "source": [
    "### Different kernels per condition"
   ]
  },
  {
   "cell_type": "code",
   "execution_count": null,
   "id": "047cd604",
   "metadata": {
    "ExecuteTime": {
     "end_time": "2022-11-28T12:02:56.800413Z",
     "start_time": "2022-11-28T12:02:56.789443Z"
    }
   },
   "outputs": [
    {
     "data": {
      "text/plain": [
       "condition  feature \n",
       "rug        diameter   -0.006298\n",
       "           opening     0.613785\n",
       "           spacing     0.294076\n",
       "soft       diameter   -0.121706\n",
       "           opening    -0.510029\n",
       "           spacing    -0.342440\n",
       "Name: norm_delta_value, dtype: float64"
      ]
     },
     "execution_count": 14,
     "metadata": {},
     "output_type": "execute_result"
    }
   ],
   "source": [
    "kernels.groupby(['condition','feature']).norm_delta_value.mean()"
   ]
  },
  {
   "cell_type": "code",
   "execution_count": null,
   "id": "57c44768",
   "metadata": {
    "ExecuteTime": {
     "end_time": "2022-11-28T12:06:47.176163Z",
     "start_time": "2022-11-28T12:06:44.647923Z"
    },
    "scrolled": false
   },
   "outputs": [
    {
     "data": {
      "text/plain": [
       "<matplotlib.legend.Legend at 0x2862f59ce88>"
      ]
     },
     "execution_count": 21,
     "metadata": {},
     "output_type": "execute_result"
    },
    {
     "data": {
      "image/png": "[encoded data removed]",
      "text/plain": [
       "<Figure size 640x480 with 1 Axes>"
      ]
     },
     "metadata": {},
     "output_type": "display_data"
    }
   ],
   "source": [
    "sns.pointplot(data=kernels,\n",
    "              hue=\"condition\",\n",
    "             x=\"feature\",\n",
    "              units='subj',\n",
    "             y=\"norm_delta_value\", dodge=True)\n",
    "\n",
    "# plot inverse rough kernel for comparison\n",
    "kernels['opposite_norm_delta_value'] = - kernels.norm_delta_value\n",
    "sns.pointplot(data=kernels[kernels.condition=='rug'],\n",
    "              hue=\"condition\",\n",
    "             x=\"feature\",\n",
    "              units='subj',\n",
    "             y=\"opposite_norm_delta_value\", \n",
    "              linestyles=[':'])\n",
    "\n",
    "plt.plot([0,2],[0,0],'k:')\n",
    "plt.legend(loc=2)"
   ]
  },
  {
   "cell_type": "markdown",
   "id": "94925a65",
   "metadata": {},
   "source": [
    "One-sample difference of kernel weights to zero"
   ]
  },
  {
   "cell_type": "code",
   "execution_count": null,
   "id": "b114d77f",
   "metadata": {
    "ExecuteTime": {
     "end_time": "2022-11-28T12:02:20.596204Z",
     "start_time": "2022-11-28T12:02:20.550330Z"
    },
    "scrolled": true
   },
   "outputs": [
    {
     "name": "stdout",
     "output_type": "stream",
     "text": [
      "One-sample difference of kernel weights to zero\n",
      "RUG:\n",
      "- diameter\n",
      "t(6)=-0.05,p=0.9618\n",
      "- opening\n",
      "t(6)=20.43,p=0.0000\n",
      "- spacing\n",
      "t(6)=2.70,p=0.0358\n",
      "SOFT:\n",
      "- diameter\n",
      "t(19)=-1.97,p=0.0632\n",
      "- opening\n",
      "t(19)=-17.80,p=0.0000\n",
      "- spacing\n",
      "t(19)=-6.72,p=0.0000\n"
     ]
    }
   ],
   "source": [
    "print(\"One-sample difference of kernel weights to zero\")\n",
    "for condition in ['rug','soft']:\n",
    "    print('%s:'%condition.upper())\n",
    "    for feature in ['diameter','opening','spacing']: \n",
    "        \n",
    "        print('- %s'%(feature))\n",
    "        \n",
    "        sample = kernels[(kernels.condition==condition)&\n",
    "                          (kernels.feature==feature)].groupby(['subj'], as_index=False).norm_delta_value.mean()\n",
    "        \n",
    "        stats= pg.ttest(x=sample.norm_delta_value, y=0)\n",
    "        print('t(%d)=%.2f,p=%.4f'%(stats.loc['T-test','dof'],\n",
    "                               stats.loc['T-test','T'],\n",
    "                               stats.loc['T-test','p-val']))"
   ]
  },
  {
   "cell_type": "markdown",
   "id": "cd1b5f1a",
   "metadata": {},
   "source": [
    "Two-sample difference of kernel weights between soft and non-rough"
   ]
  },
  {
   "cell_type": "code",
   "execution_count": null,
   "id": "3fa6e4f1",
   "metadata": {
    "ExecuteTime": {
     "end_time": "2022-11-28T12:03:10.830900Z",
     "start_time": "2022-11-28T12:03:10.782030Z"
    }
   },
   "outputs": [
    {
     "name": "stdout",
     "output_type": "stream",
     "text": [
      "Two-sample difference of kernel weights between soft and non-rough\n",
      "- diameter\n",
      "t(9)=-0.91,p=0.3853\n",
      "- opening\n",
      "t(17)=2.50,p=0.0228\n",
      "- spacing\n",
      "t(8)=-0.40,p=0.6976\n"
     ]
    }
   ],
   "source": [
    "print(\"Two-sample difference of kernel weights between soft and non-rough\")\n",
    "for feature in ['diameter','opening','spacing']: \n",
    "    print('- %s'%(feature))\n",
    "      \n",
    "    sample_soft = kernels[(kernels.condition=='soft')&\n",
    "                          (kernels.feature==feature)].groupby(['subj'], as_index=False).norm_delta_value.mean()\n",
    "\n",
    "    sample_rug = kernels[(kernels.condition=='rug')&\n",
    "                          (kernels.feature==feature)].groupby(['subj'], as_index=False).norm_delta_value.mean()\n",
    "    \n",
    "    stats= pg.ttest(x=sample_soft.norm_delta_value, \n",
    "                    y=-sample_rug.norm_delta_value)\n",
    "    \n",
    "    print('t(%d)=%.2f,p=%.4f'%(stats.loc['T-test','dof'],\n",
    "                               stats.loc['T-test','T'],\n",
    "                               stats.loc['T-test','p-val']))"
   ]
  },
  {
   "cell_type": "markdown",
   "id": "2f6ee202",
   "metadata": {},
   "source": [
    "### Sex difference for soft"
   ]
  },
  {
   "cell_type": "code",
   "execution_count": null,
   "id": "6869b081",
   "metadata": {
    "ExecuteTime": {
     "end_time": "2022-11-28T12:03:34.007563Z",
     "start_time": "2022-11-28T12:03:33.996593Z"
    }
   },
   "outputs": [
    {
     "data": {
      "text/plain": [
       "condition  sex\n",
       "rug        f       3\n",
       "           m       4\n",
       "soft       f      12\n",
       "           m       8\n",
       "Name: subj, dtype: int64"
      ]
     },
     "execution_count": 16,
     "metadata": {},
     "output_type": "execute_result"
    }
   ],
   "source": [
    "data.groupby(['condition','sex']).subj.nunique()"
   ]
  },
  {
   "cell_type": "code",
   "execution_count": null,
   "id": "10db6f27",
   "metadata": {
    "ExecuteTime": {
     "end_time": "2022-11-28T12:04:10.630643Z",
     "start_time": "2022-11-28T12:04:09.682179Z"
    },
    "scrolled": false
   },
   "outputs": [
    {
     "data": {
      "text/plain": [
       "<matplotlib.legend.Legend at 0x2862f791088>"
      ]
     },
     "execution_count": 19,
     "metadata": {},
     "output_type": "execute_result"
    },
    {
     "data": {
      "image/png": "[encoded data removed]",
      "text/plain": [
       "<Figure size 640x480 with 1 Axes>"
      ]
     },
     "metadata": {},
     "output_type": "display_data"
    }
   ],
   "source": [
    "sns.pointplot(data=kernels[kernels.condition=='soft'],\n",
    "              hue=\"sex\",\n",
    "             x=\"feature\",\n",
    "              units='subj',\n",
    "             y=\"norm_delta_value\", dodge=True)\n",
    "\n",
    "plt.plot([0,2],[0,0],'k:')\n",
    "plt.legend(loc=2)"
   ]
  },
  {
   "cell_type": "code",
   "execution_count": null,
   "id": "c6d976db",
   "metadata": {
    "ExecuteTime": {
     "end_time": "2022-11-28T12:06:16.782429Z",
     "start_time": "2022-11-28T12:06:16.729570Z"
    }
   },
   "outputs": [
    {
     "name": "stdout",
     "output_type": "stream",
     "text": [
      "Two-sample difference of kernel weights between male and female soft\n",
      "- diameter\n",
      "t(13)=-3.17,p=0.0073\n",
      "- opening\n",
      "t(15)=0.14,p=0.8934\n",
      "- spacing\n",
      "t(14)=-2.77,p=0.0145\n"
     ]
    }
   ],
   "source": [
    "print(\"Two-sample difference of kernel weights between male and female soft\")\n",
    "for feature in ['diameter','opening','spacing']: \n",
    "    print('- %s'%(feature))\n",
    "      \n",
    "    sample_male = kernels[(kernels.condition=='soft')&\n",
    "                          (kernels.sex=='m')&\n",
    "                          (kernels.feature==feature)].groupby(['subj'], as_index=False).norm_delta_value.mean()\n",
    "\n",
    "    sample_female = kernels[(kernels.condition=='soft')&\n",
    "                          (kernels.sex=='f')&\n",
    "                          (kernels.feature==feature)].groupby(['subj'], as_index=False).norm_delta_value.mean()\n",
    "    \n",
    "    stats= pg.ttest(x=sample_male.norm_delta_value, \n",
    "                    y=sample_female.norm_delta_value)\n",
    "    \n",
    "    print('t(%d)=%.2f,p=%.4f'%(stats.loc['T-test','dof'],\n",
    "                               stats.loc['T-test','T'],\n",
    "                               stats.loc['T-test','p-val']))"
   ]
  },
  {
   "cell_type": "markdown",
   "id": "38922600",
   "metadata": {},
   "source": [
    "Remember that the first few participants (3 ?) had a bug that resulted in not stopping the recording at the time of response"
   ]
  },
  {
   "cell_type": "code",
   "execution_count": null,
   "id": "98d13391",
   "metadata": {
    "ExecuteTime": {
     "end_time": "2022-11-23T08:32:15.442762Z",
     "start_time": "2022-11-23T08:32:15.334020Z"
    }
   },
   "outputs": [
    {
     "data": {
      "text/plain": [
       "(-0.01, 0.05)"
      ]
     },
     "execution_count": 189,
     "metadata": {},
     "output_type": "execute_result"
    },
    {
     "data": {
      "image/png": "[encoded data removed]",
      "text/plain": [
       "<Figure size 640x480 with 1 Axes>"
      ]
     },
     "metadata": {},
     "output_type": "display_data"
    }
   ],
   "source": []
  },
  {
   "cell_type": "code",
   "execution_count": null,
   "id": "c1a53ca7",
   "metadata": {},
   "outputs": [],
   "source": []
  }
 ],
 "metadata": {
  "kernelspec": {
   "display_name": "base",
   "language": "python",
   "name": "python3"
  },
  "language_info": {
   "codemirror_mode": {
    "name": "ipython",
    "version": 3
   },
   "file_extension": ".py",
   "mimetype": "text/x-python",
   "name": "python",
   "nbconvert_exporter": "python",
   "pygments_lexer": "ipython3",
   "version": "3.8.5"
  },
  "toc": {
   "base_numbering": 1,
   "nav_menu": {},
   "number_sections": true,
   "sideBar": true,
   "skip_h1_title": true,
   "title_cell": "Table of Contents",
   "title_sidebar": "Contents",
   "toc_cell": false,
   "toc_position": {},
   "toc_section_display": true,
   "toc_window_display": true
  }
 },
 "nbformat": 4,
 "nbformat_minor": 5
}
