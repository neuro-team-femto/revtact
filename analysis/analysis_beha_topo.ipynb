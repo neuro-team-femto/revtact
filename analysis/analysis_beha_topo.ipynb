{
 "cells": [
  {
   "cell_type": "code",
   "execution_count": 2,
   "id": "60b540ec",
   "metadata": {
    "ExecuteTime": {
     "end_time": "2022-11-28T11:58:13.302426Z",
     "start_time": "2022-11-28T11:58:06.235322Z"
    }
   },
   "outputs": [],
   "source": [
    "import pandas as pd\n",
    "import os.path\n",
    "import numpy as np\n",
    "import glob\n",
    "from matplotlib import pyplot as plt\n",
    "import seaborn as sns\n",
    "import pingouin as pg\n",
    "import openpyxl\n",
    "import re\n",
    "class StopCell(Exception): # a custom (mute) exception to exit cells programmatically (\"raise StopCell\")\n",
    "    def _render_traceback_(self):\n",
    "        pass"
   ]
  },
  {
   "cell_type": "markdown",
   "id": "8ec1dde9",
   "metadata": {
    "ExecuteTime": {
     "end_time": "2022-11-23T04:48:44.562662Z",
     "start_time": "2022-11-23T04:48:44.518655Z"
    }
   },
   "source": [
    "# Analysis Tactile Revcor\n",
    "&copy; Céline Vanney, Etienne Louyot, JJ Aucouturier, PH Cornuault, Luc Carpentier\n"
   ]
  },
  {
   "cell_type": "markdown",
   "id": "27afd5d4",
   "metadata": {},
   "source": [
    "## Behavioural data"
   ]
  },
  {
   "cell_type": "markdown",
   "id": "9883f3e2",
   "metadata": {},
   "source": [
    "### Load Behavioural data"
   ]
  },
  {
   "cell_type": "code",
   "execution_count": 2,
   "id": "dc3db1c4",
   "metadata": {
    "ExecuteTime": {
     "end_time": "2022-11-28T11:58:16.277978Z",
     "start_time": "2022-11-28T11:58:16.266010Z"
    }
   },
   "outputs": [
    {
     "name": "stdout",
     "output_type": "stream",
     "text": [
      "./data/behaviour\\221110_08.22_results_subj6_soft.csv\n",
      "./data/behaviour\\221110_10.41_results_subj7_soft.csv\n",
      "./data/behaviour\\221110_14.16_results_subj8_soft.csv\n",
      "./data/behaviour\\221115_10.24_results_subj9_rug.csv\n",
      "./data/behaviour\\221116_15.47_results_subj10_rug.csv\n",
      "./data/behaviour\\221117_10.16_results_subj11_soft.csv\n",
      "./data/behaviour\\221117_15.45_results_subj12_rug.csv\n",
      "./data/behaviour\\221118_10.35_results_subj13_rug.csv\n",
      "./data/behaviour\\221121_08.55_results_subj14_soft.csv\n",
      "./data/behaviour\\221121_15.48_results_subj15_soft.csv\n",
      "./data/behaviour\\221122_08.42_results_subj16_soft.csv\n",
      "./data/behaviour\\221122_10.23_results_subj17_soft.csv\n",
      "./data/behaviour\\221122_14.05_results_subj18_soft.csv\n",
      "./data/behaviour\\221122_15.52_results_subj19_soft.csv\n",
      "./data/behaviour\\221123_10.28_results_subj20_soft.csv\n",
      "./data/behaviour\\221123_13.37_results_subj21_soft.csv\n",
      "./data/behaviour\\221124_13.36_results_subj22_soft.csv\n",
      "./data/behaviour\\221124_15.54_results_subj23_soft.csv\n",
      "./data/behaviour\\221125_09.06_results_subj24_soft.csv\n",
      "./data/behaviour\\221125_10.30_results_subj25_soft.csv\n",
      "./data/behaviour\\221125_14.51_results_subj26_rug.csv\n",
      "./data/behaviour\\221125_17.18_results_subj27_rug.csv\n"
     ]
    }
   ],
   "source": [
    "for file in glob.glob(\"./data/behaviour/*results*.csv\"):\n",
    "    print(file)"
   ]
  },
  {
   "cell_type": "markdown",
   "id": "10390cca",
   "metadata": {},
   "source": [
    "#### Fix condition field & filename"
   ]
  },
  {
   "cell_type": "markdown",
   "id": "06db8e5a",
   "metadata": {},
   "source": [
    "Result files from participant 7 onwards include a `condition` field, and have their condition in the filename. Correct this for earlier participants. "
   ]
  },
  {
   "cell_type": "code",
   "execution_count": 9,
   "id": "b513f082",
   "metadata": {
    "ExecuteTime": {
     "end_time": "2022-11-28T11:58:33.847003Z",
     "start_time": "2022-11-28T11:58:33.838027Z"
    }
   },
   "outputs": [],
   "source": [
    "if True: raise StopCell\n",
    "\n",
    "conditions = {'1':'rug', '2':'soft', '3':'soft',\n",
    "             '4':'soft', '5':'soft','6':'soft'}\n",
    "\n",
    "for participant in [6]: \n",
    "    \n",
    "    # get participant file\n",
    "    file = glob.glob(\"./data/behaviour/*results_subj%d*.csv\"%participant)[0]\n",
    "    \n",
    "    # add condition in pandas\n",
    "    condition = conditions[str(participant)]\n",
    "    participant_data = pd.read_csv(file)\n",
    "    participant_data['condition'] = condition\n",
    "    \n",
    "    # and save as new csv file with updated filename\n",
    "    name, ext = os.path.splitext(os.path.basename(file))\n",
    "    updated_filename = './data/behaviour/' + name + '_'+ condition + ext\n",
    "    participant_data.to_csv(updated_filename,index=False)"
   ]
  },
  {
   "cell_type": "markdown",
   "id": "e11c9a95",
   "metadata": {},
   "source": [
    "#### Load all data"
   ]
  },
  {
   "cell_type": "code",
   "execution_count": 3,
   "id": "66ec88ae",
   "metadata": {
    "ExecuteTime": {
     "end_time": "2022-11-28T12:01:16.203330Z",
     "start_time": "2022-11-28T12:01:15.872216Z"
    }
   },
   "outputs": [
    {
     "name": "stdout",
     "output_type": "stream",
     "text": [
      "got 23 behavioural files\n",
      "dataframe has 22 subjects\n"
     ]
    }
   ],
   "source": [
    "data_files = glob.glob(\"./data/behaviour/*.csv\")\n",
    "print(\"got %d behavioural files\"%len(data_files))\n",
    "data_df = pd.DataFrame()\n",
    "for data_file in data_files:\n",
    "    participant_data_df = pd.read_csv(data_file, sep = ',', decimal='.', header='infer')\n",
    "    data_df = pd.concat([data_df, participant_data_df], ignore_index=True)\n",
    "print('dataframe has %d subjects'%data_df.subj.nunique())"
   ]
  },
  {
   "cell_type": "code",
   "execution_count": 4,
   "id": "b52a565f",
   "metadata": {
    "ExecuteTime": {
     "end_time": "2022-11-28T12:08:10.271987Z",
     "start_time": "2022-11-28T12:08:10.263011Z"
    }
   },
   "outputs": [
    {
     "data": {
      "text/plain": [
       "condition  sex\n",
       "rug        f       3\n",
       "           m       3\n",
       "soft       f      11\n",
       "           m       5\n",
       "Name: subj, dtype: int64"
      ]
     },
     "execution_count": 4,
     "metadata": {},
     "output_type": "execute_result"
    }
   ],
   "source": [
    "data_df.groupby(['condition','sex']).subj.nunique()"
   ]
  },
  {
   "cell_type": "code",
   "execution_count": 5,
   "id": "819c7d66",
   "metadata": {},
   "outputs": [
    {
     "name": "stdout",
     "output_type": "stream",
     "text": [
      "84 textures différentes utilisées\n"
     ]
    }
   ],
   "source": [
    "print(\"%d textures différentes utilisées\"%data_df.texture_id.nunique())"
   ]
  },
  {
   "cell_type": "markdown",
   "id": "6834fbcd",
   "metadata": {},
   "source": [
    "##### Remove skipped blocks"
   ]
  },
  {
   "cell_type": "code",
   "execution_count": 6,
   "id": "f659269c",
   "metadata": {
    "ExecuteTime": {
     "end_time": "2022-11-28T12:01:26.003128Z",
     "start_time": "2022-11-28T12:01:25.673010Z"
    }
   },
   "outputs": [
    {
     "data": {
      "text/plain": [
       "<Axes: xlabel='subj', ylabel='trial'>"
      ]
     },
     "execution_count": 6,
     "metadata": {},
     "output_type": "execute_result"
    },
    {
     "data": {
      "image/png": "[encoded data removed]",
      "text/plain": [
       "<Figure size 640x480 with 1 Axes>"
      ]
     },
     "metadata": {},
     "output_type": "display_data"
    }
   ],
   "source": [
    "# all subjects have 100 trials\n",
    "d=data_df[data_df.practice==False].groupby(['subj']).trial.count()/2\n",
    "sns.pointplot(data=d.reset_index(), x='subj',y='trial')"
   ]
  },
  {
   "cell_type": "code",
   "execution_count": 7,
   "id": "80f06621",
   "metadata": {
    "ExecuteTime": {
     "end_time": "2022-11-28T12:01:46.161230Z",
     "start_time": "2022-11-28T12:01:46.152255Z"
    }
   },
   "outputs": [],
   "source": [
    "# remove practice block\n",
    "data_df = data_df[data_df.block.isin([1,2,3,4])]\n",
    "# data_df = data_df[data_df.practice==False]"
   ]
  },
  {
   "cell_type": "code",
   "execution_count": 8,
   "id": "92181637",
   "metadata": {},
   "outputs": [],
   "source": [
    "data_df.to_csv('data/behaviour/all_data.csv')"
   ]
  },
  {
   "cell_type": "markdown",
   "id": "087d6e89",
   "metadata": {},
   "source": [
    "##### Number of different textures"
   ]
  },
  {
   "cell_type": "code",
   "execution_count": 9,
   "id": "ec09209d",
   "metadata": {
    "ExecuteTime": {
     "end_time": "2022-11-28T12:01:48.646585Z",
     "start_time": "2022-11-28T12:01:48.331428Z"
    }
   },
   "outputs": [
    {
     "data": {
      "text/plain": [
       "[<matplotlib.lines.Line2D at 0x1dab3fc6490>]"
      ]
     },
     "execution_count": 9,
     "metadata": {},
     "output_type": "execute_result"
    },
    {
     "data": {
      "image/png": "[encoded data removed]",
      "text/plain": [
       "<Figure size 640x480 with 1 Axes>"
      ]
     },
     "metadata": {},
     "output_type": "display_data"
    }
   ],
   "source": [
    "sns.pointplot(data=data_df.groupby('subj', as_index=False).texture_id.nunique(),\n",
    "              x='subj',y='texture_id')\n",
    "plt.title('number of textures sampled')\n",
    "plt.ylabel('unique texture ids')\n",
    "\n",
    "plt.plot([0,22],[data_df.texture_id.nunique(),data_df.texture_id.nunique()],'k:')\n"
   ]
  },
  {
   "cell_type": "markdown",
   "id": "2e24f6f8",
   "metadata": {},
   "source": [
    "## Load summary meca data"
   ]
  },
  {
   "cell_type": "markdown",
   "id": "8d9ceab2",
   "metadata": {},
   "source": [
    "<mark> todo: </mark> faire le même travail que ci-dessus avec les données de meca/summary\n",
    "- loader les .xls avec read_excel\n",
    "- concatener les différentes df dans une seule df (2 lignes par trials)\n",
    "- remettre les mêmes noms de champs que dans all_data.csv (sub, block, trial)\n",
    "- noms de colonne simples, en format snake_case (lower case with underscores)\n",
    "- faire des sanity checks avec des groupby (combien de trials par subj, etc.)\n",
    "- sauver en csv dans meca/summary/all_summary_data.csv\n",
    "\n",
    "Join les 2 dataframe: pour chaque trial/surface dans behaviour, rajouter les colonnes de summary meca qui correspondent (`behaviour_df.join(summary_meca_df, on=['subj','block','trial','texture'])`)\n"
   ]
  },
  {
   "cell_type": "markdown",
   "id": "28b975e7",
   "metadata": {},
   "source": [
    "### Load all data"
   ]
  },
  {
   "cell_type": "code",
   "execution_count": 3,
   "id": "f28c3cba",
   "metadata": {},
   "outputs": [
    {
     "name": "stdout",
     "output_type": "stream",
     "text": [
      "got 9 summary files\n",
      "dataframe has 23 subjects\n"
     ]
    }
   ],
   "source": [
    "data_summary = glob.glob(\"./data/meca/summary/*.xlsx\")    \n",
    "print(\"got %d summary files\"%len(data_summary))\n",
    "data_df_summary = pd.DataFrame()\n",
    "for data_sum in data_summary:\n",
    "    participant_data_summary = pd.read_excel(data_sum,engine=\"openpyxl\")\n",
    "    data_df_summary = pd.concat([data_df_summary, participant_data_summary], ignore_index=True)\n",
    "print('dataframe has %d subjects'%data_df_summary.Subject.nunique())"
   ]
  },
  {
   "cell_type": "code",
   "execution_count": 7,
   "id": "1b5ae5f8",
   "metadata": {},
   "outputs": [
    {
     "data": {
      "text/html": [
       "<div>\n",
       "<style scoped>\n",
       "    .dataframe tbody tr th:only-of-type {\n",
       "        vertical-align: middle;\n",
       "    }\n",
       "\n",
       "    .dataframe tbody tr th {\n",
       "        vertical-align: top;\n",
       "    }\n",
       "\n",
       "    .dataframe thead th {\n",
       "        text-align: right;\n",
       "    }\n",
       "</style>\n",
       "<table border=\"1\" class=\"dataframe\">\n",
       "  <thead>\n",
       "    <tr style=\"text-align: right;\">\n",
       "      <th></th>\n",
       "      <th>date_yymmdd</th>\n",
       "      <th>hour_h</th>\n",
       "      <th>minute_min</th>\n",
       "      <th>subj</th>\n",
       "      <th>block</th>\n",
       "      <th>trial</th>\n",
       "      <th>texture</th>\n",
       "      <th>start_s</th>\n",
       "      <th>end_s</th>\n",
       "      <th>sliding_distance_mm</th>\n",
       "      <th>v_mean_mms</th>\n",
       "      <th>fn_mean_n</th>\n",
       "      <th>fn_std_n</th>\n",
       "      <th>ft_mean_n</th>\n",
       "      <th>ft_std_n</th>\n",
       "      <th>cof_mean</th>\n",
       "      <th>cof_std</th>\n",
       "      <th>rms_accelero_ms</th>\n",
       "    </tr>\n",
       "  </thead>\n",
       "  <tbody>\n",
       "    <tr>\n",
       "      <th>0</th>\n",
       "      <td>221122</td>\n",
       "      <td>8</td>\n",
       "      <td>42</td>\n",
       "      <td>16</td>\n",
       "      <td>1</td>\n",
       "      <td>0</td>\n",
       "      <td>1</td>\n",
       "      <td>6.2692</td>\n",
       "      <td>6.8198</td>\n",
       "      <td>37.134524</td>\n",
       "      <td>67.936736</td>\n",
       "      <td>0.244839</td>\n",
       "      <td>0.081262</td>\n",
       "      <td>0.359014</td>\n",
       "      <td>0.075783</td>\n",
       "      <td>1.523927</td>\n",
       "      <td>0.218087</td>\n",
       "      <td>3.381203</td>\n",
       "    </tr>\n",
       "    <tr>\n",
       "      <th>1</th>\n",
       "      <td>221122</td>\n",
       "      <td>8</td>\n",
       "      <td>42</td>\n",
       "      <td>16</td>\n",
       "      <td>1</td>\n",
       "      <td>0</td>\n",
       "      <td>2</td>\n",
       "      <td>9.6768</td>\n",
       "      <td>10.3696</td>\n",
       "      <td>37.555220</td>\n",
       "      <td>53.228448</td>\n",
       "      <td>0.354724</td>\n",
       "      <td>0.038919</td>\n",
       "      <td>0.369661</td>\n",
       "      <td>0.026887</td>\n",
       "      <td>1.058695</td>\n",
       "      <td>0.168599</td>\n",
       "      <td>2.619718</td>\n",
       "    </tr>\n",
       "    <tr>\n",
       "      <th>2</th>\n",
       "      <td>221122</td>\n",
       "      <td>8</td>\n",
       "      <td>42</td>\n",
       "      <td>16</td>\n",
       "      <td>1</td>\n",
       "      <td>1</td>\n",
       "      <td>1</td>\n",
       "      <td>4.5892</td>\n",
       "      <td>5.2442</td>\n",
       "      <td>32.208557</td>\n",
       "      <td>48.929251</td>\n",
       "      <td>0.510734</td>\n",
       "      <td>0.031468</td>\n",
       "      <td>0.155038</td>\n",
       "      <td>0.012838</td>\n",
       "      <td>0.303306</td>\n",
       "      <td>0.011597</td>\n",
       "      <td>1.254451</td>\n",
       "    </tr>\n",
       "    <tr>\n",
       "      <th>3</th>\n",
       "      <td>221122</td>\n",
       "      <td>8</td>\n",
       "      <td>42</td>\n",
       "      <td>16</td>\n",
       "      <td>1</td>\n",
       "      <td>1</td>\n",
       "      <td>2</td>\n",
       "      <td>8.3478</td>\n",
       "      <td>9.2876</td>\n",
       "      <td>35.683789</td>\n",
       "      <td>38.321365</td>\n",
       "      <td>0.378196</td>\n",
       "      <td>0.023547</td>\n",
       "      <td>0.295779</td>\n",
       "      <td>0.043984</td>\n",
       "      <td>0.782811</td>\n",
       "      <td>0.112092</td>\n",
       "      <td>2.044252</td>\n",
       "    </tr>\n",
       "    <tr>\n",
       "      <th>4</th>\n",
       "      <td>221122</td>\n",
       "      <td>8</td>\n",
       "      <td>42</td>\n",
       "      <td>16</td>\n",
       "      <td>1</td>\n",
       "      <td>2</td>\n",
       "      <td>1</td>\n",
       "      <td>3.6212</td>\n",
       "      <td>4.4848</td>\n",
       "      <td>35.701824</td>\n",
       "      <td>41.388307</td>\n",
       "      <td>0.464945</td>\n",
       "      <td>0.025050</td>\n",
       "      <td>0.176368</td>\n",
       "      <td>0.016045</td>\n",
       "      <td>0.378981</td>\n",
       "      <td>0.022465</td>\n",
       "      <td>1.067344</td>\n",
       "    </tr>\n",
       "  </tbody>\n",
       "</table>\n",
       "</div>"
      ],
      "text/plain": [
       "   date_yymmdd  hour_h  minute_min  subj  block  trial  texture  start_s  \\\n",
       "0       221122       8          42    16      1      0        1   6.2692   \n",
       "1       221122       8          42    16      1      0        2   9.6768   \n",
       "2       221122       8          42    16      1      1        1   4.5892   \n",
       "3       221122       8          42    16      1      1        2   8.3478   \n",
       "4       221122       8          42    16      1      2        1   3.6212   \n",
       "\n",
       "     end_s  sliding_distance_mm  v_mean_mms  fn_mean_n  fn_std_n  ft_mean_n  \\\n",
       "0   6.8198            37.134524   67.936736   0.244839  0.081262   0.359014   \n",
       "1  10.3696            37.555220   53.228448   0.354724  0.038919   0.369661   \n",
       "2   5.2442            32.208557   48.929251   0.510734  0.031468   0.155038   \n",
       "3   9.2876            35.683789   38.321365   0.378196  0.023547   0.295779   \n",
       "4   4.4848            35.701824   41.388307   0.464945  0.025050   0.176368   \n",
       "\n",
       "   ft_std_n  cof_mean   cof_std  rms_accelero_ms  \n",
       "0  0.075783  1.523927  0.218087         3.381203  \n",
       "1  0.026887  1.058695  0.168599         2.619718  \n",
       "2  0.012838  0.303306  0.011597         1.254451  \n",
       "3  0.043984  0.782811  0.112092         2.044252  \n",
       "4  0.016045  0.378981  0.022465         1.067344  "
      ]
     },
     "execution_count": 7,
     "metadata": {},
     "output_type": "execute_result"
    }
   ],
   "source": [
    "data_df_summary.head()"
   ]
  },
  {
   "cell_type": "markdown",
   "id": "3f6c9c9c",
   "metadata": {},
   "source": [
    "### Convert columns names to snake_case"
   ]
  },
  {
   "cell_type": "code",
   "execution_count": 5,
   "id": "2d7e97f9",
   "metadata": {},
   "outputs": [],
   "source": [
    "data_df_summary.rename(columns=lambda x: x[0].lower() + x.strip().lower().replace(' ', '_').title()[1:].lower(),inplace=True)  # snake_case\n",
    "data_df_summary.rename(columns=lambda x: re.sub(r'[^a-z0-9_]', '', x.strip().lower().replace(' ', '_')), inplace=True)"
   ]
  },
  {
   "cell_type": "code",
   "execution_count": 6,
   "id": "4aebf54d",
   "metadata": {},
   "outputs": [],
   "source": [
    "data_df_summary.rename(columns={'subject': 'subj'},inplace=True)"
   ]
  },
  {
   "cell_type": "markdown",
   "id": "14d24de3",
   "metadata": {},
   "source": [
    "### Sanity checks"
   ]
  },
  {
   "cell_type": "code",
   "execution_count": 8,
   "id": "74b2e291",
   "metadata": {},
   "outputs": [
    {
     "data": {
      "text/plain": [
       "<Axes: xlabel='subj', ylabel='trial'>"
      ]
     },
     "execution_count": 8,
     "metadata": {},
     "output_type": "execute_result"
    },
    {
     "data": {
      "image/png": "[encoded data removed]",
      "text/plain": [
       "<Figure size 640x480 with 1 Axes>"
      ]
     },
     "metadata": {},
     "output_type": "display_data"
    }
   ],
   "source": [
    "# Trials by subject\n",
    "d=data_df_summary.groupby(['subj']).trial.count()/2\n",
    "sns.pointplot(data=d.reset_index(), x='subj',y='trial')"
   ]
  },
  {
   "cell_type": "markdown",
   "id": "72f9ef3d",
   "metadata": {},
   "source": [
    "#### Remove subjects with not many trials"
   ]
  },
  {
   "cell_type": "code",
   "execution_count": 9,
   "id": "5747e427",
   "metadata": {},
   "outputs": [
    {
     "data": {
      "text/html": [
       "<div>\n",
       "<style scoped>\n",
       "    .dataframe tbody tr th:only-of-type {\n",
       "        vertical-align: middle;\n",
       "    }\n",
       "\n",
       "    .dataframe tbody tr th {\n",
       "        vertical-align: top;\n",
       "    }\n",
       "\n",
       "    .dataframe thead th {\n",
       "        text-align: right;\n",
       "    }\n",
       "</style>\n",
       "<table border=\"1\" class=\"dataframe\">\n",
       "  <thead>\n",
       "    <tr style=\"text-align: right;\">\n",
       "      <th></th>\n",
       "      <th>date_yymmdd</th>\n",
       "      <th>hour_h</th>\n",
       "      <th>minute_min</th>\n",
       "      <th>subj</th>\n",
       "      <th>block</th>\n",
       "      <th>trial</th>\n",
       "      <th>texture</th>\n",
       "      <th>start_s</th>\n",
       "      <th>end_s</th>\n",
       "      <th>sliding_distance_mm</th>\n",
       "      <th>v_mean_mms</th>\n",
       "      <th>fn_mean_n</th>\n",
       "      <th>fn_std_n</th>\n",
       "      <th>ft_mean_n</th>\n",
       "      <th>ft_std_n</th>\n",
       "      <th>cof_mean</th>\n",
       "      <th>cof_std</th>\n",
       "      <th>rms_accelero_ms</th>\n",
       "    </tr>\n",
       "  </thead>\n",
       "  <tbody>\n",
       "    <tr>\n",
       "      <th>0</th>\n",
       "      <td>221122</td>\n",
       "      <td>8</td>\n",
       "      <td>42</td>\n",
       "      <td>16</td>\n",
       "      <td>1</td>\n",
       "      <td>0</td>\n",
       "      <td>1</td>\n",
       "      <td>6.2692</td>\n",
       "      <td>6.8198</td>\n",
       "      <td>37.134524</td>\n",
       "      <td>67.936736</td>\n",
       "      <td>0.244839</td>\n",
       "      <td>0.081262</td>\n",
       "      <td>0.359014</td>\n",
       "      <td>0.075783</td>\n",
       "      <td>1.523927</td>\n",
       "      <td>0.218087</td>\n",
       "      <td>3.381203</td>\n",
       "    </tr>\n",
       "    <tr>\n",
       "      <th>1</th>\n",
       "      <td>221122</td>\n",
       "      <td>8</td>\n",
       "      <td>42</td>\n",
       "      <td>16</td>\n",
       "      <td>1</td>\n",
       "      <td>0</td>\n",
       "      <td>2</td>\n",
       "      <td>9.6768</td>\n",
       "      <td>10.3696</td>\n",
       "      <td>37.555220</td>\n",
       "      <td>53.228448</td>\n",
       "      <td>0.354724</td>\n",
       "      <td>0.038919</td>\n",
       "      <td>0.369661</td>\n",
       "      <td>0.026887</td>\n",
       "      <td>1.058695</td>\n",
       "      <td>0.168599</td>\n",
       "      <td>2.619718</td>\n",
       "    </tr>\n",
       "    <tr>\n",
       "      <th>2</th>\n",
       "      <td>221122</td>\n",
       "      <td>8</td>\n",
       "      <td>42</td>\n",
       "      <td>16</td>\n",
       "      <td>1</td>\n",
       "      <td>1</td>\n",
       "      <td>1</td>\n",
       "      <td>4.5892</td>\n",
       "      <td>5.2442</td>\n",
       "      <td>32.208557</td>\n",
       "      <td>48.929251</td>\n",
       "      <td>0.510734</td>\n",
       "      <td>0.031468</td>\n",
       "      <td>0.155038</td>\n",
       "      <td>0.012838</td>\n",
       "      <td>0.303306</td>\n",
       "      <td>0.011597</td>\n",
       "      <td>1.254451</td>\n",
       "    </tr>\n",
       "    <tr>\n",
       "      <th>3</th>\n",
       "      <td>221122</td>\n",
       "      <td>8</td>\n",
       "      <td>42</td>\n",
       "      <td>16</td>\n",
       "      <td>1</td>\n",
       "      <td>1</td>\n",
       "      <td>2</td>\n",
       "      <td>8.3478</td>\n",
       "      <td>9.2876</td>\n",
       "      <td>35.683789</td>\n",
       "      <td>38.321365</td>\n",
       "      <td>0.378196</td>\n",
       "      <td>0.023547</td>\n",
       "      <td>0.295779</td>\n",
       "      <td>0.043984</td>\n",
       "      <td>0.782811</td>\n",
       "      <td>0.112092</td>\n",
       "      <td>2.044252</td>\n",
       "    </tr>\n",
       "    <tr>\n",
       "      <th>4</th>\n",
       "      <td>221122</td>\n",
       "      <td>8</td>\n",
       "      <td>42</td>\n",
       "      <td>16</td>\n",
       "      <td>1</td>\n",
       "      <td>2</td>\n",
       "      <td>1</td>\n",
       "      <td>3.6212</td>\n",
       "      <td>4.4848</td>\n",
       "      <td>35.701824</td>\n",
       "      <td>41.388307</td>\n",
       "      <td>0.464945</td>\n",
       "      <td>0.025050</td>\n",
       "      <td>0.176368</td>\n",
       "      <td>0.016045</td>\n",
       "      <td>0.378981</td>\n",
       "      <td>0.022465</td>\n",
       "      <td>1.067344</td>\n",
       "    </tr>\n",
       "    <tr>\n",
       "      <th>...</th>\n",
       "      <td>...</td>\n",
       "      <td>...</td>\n",
       "      <td>...</td>\n",
       "      <td>...</td>\n",
       "      <td>...</td>\n",
       "      <td>...</td>\n",
       "      <td>...</td>\n",
       "      <td>...</td>\n",
       "      <td>...</td>\n",
       "      <td>...</td>\n",
       "      <td>...</td>\n",
       "      <td>...</td>\n",
       "      <td>...</td>\n",
       "      <td>...</td>\n",
       "      <td>...</td>\n",
       "      <td>...</td>\n",
       "      <td>...</td>\n",
       "      <td>...</td>\n",
       "    </tr>\n",
       "    <tr>\n",
       "      <th>4196</th>\n",
       "      <td>221125</td>\n",
       "      <td>17</td>\n",
       "      <td>18</td>\n",
       "      <td>27</td>\n",
       "      <td>4</td>\n",
       "      <td>22</td>\n",
       "      <td>2</td>\n",
       "      <td>4.7956</td>\n",
       "      <td>5.1706</td>\n",
       "      <td>35.853592</td>\n",
       "      <td>94.943428</td>\n",
       "      <td>1.574174</td>\n",
       "      <td>0.185896</td>\n",
       "      <td>0.564810</td>\n",
       "      <td>0.082925</td>\n",
       "      <td>0.357536</td>\n",
       "      <td>0.012494</td>\n",
       "      <td>6.140435</td>\n",
       "    </tr>\n",
       "    <tr>\n",
       "      <th>4197</th>\n",
       "      <td>221125</td>\n",
       "      <td>17</td>\n",
       "      <td>18</td>\n",
       "      <td>27</td>\n",
       "      <td>4</td>\n",
       "      <td>23</td>\n",
       "      <td>1</td>\n",
       "      <td>2.9734</td>\n",
       "      <td>3.5476</td>\n",
       "      <td>40.110299</td>\n",
       "      <td>73.018695</td>\n",
       "      <td>1.606961</td>\n",
       "      <td>0.068391</td>\n",
       "      <td>0.926973</td>\n",
       "      <td>0.076240</td>\n",
       "      <td>0.576235</td>\n",
       "      <td>0.029874</td>\n",
       "      <td>2.816130</td>\n",
       "    </tr>\n",
       "    <tr>\n",
       "      <th>4198</th>\n",
       "      <td>221125</td>\n",
       "      <td>17</td>\n",
       "      <td>18</td>\n",
       "      <td>27</td>\n",
       "      <td>4</td>\n",
       "      <td>23</td>\n",
       "      <td>2</td>\n",
       "      <td>5.0852</td>\n",
       "      <td>5.5312</td>\n",
       "      <td>35.825132</td>\n",
       "      <td>85.074553</td>\n",
       "      <td>1.676902</td>\n",
       "      <td>0.030933</td>\n",
       "      <td>0.750410</td>\n",
       "      <td>0.051388</td>\n",
       "      <td>0.447519</td>\n",
       "      <td>0.030270</td>\n",
       "      <td>1.416022</td>\n",
       "    </tr>\n",
       "    <tr>\n",
       "      <th>4199</th>\n",
       "      <td>221125</td>\n",
       "      <td>17</td>\n",
       "      <td>18</td>\n",
       "      <td>27</td>\n",
       "      <td>4</td>\n",
       "      <td>24</td>\n",
       "      <td>1</td>\n",
       "      <td>2.6174</td>\n",
       "      <td>3.2676</td>\n",
       "      <td>39.566893</td>\n",
       "      <td>60.739483</td>\n",
       "      <td>1.769655</td>\n",
       "      <td>0.085260</td>\n",
       "      <td>1.102541</td>\n",
       "      <td>0.186779</td>\n",
       "      <td>0.621689</td>\n",
       "      <td>0.096977</td>\n",
       "      <td>4.945476</td>\n",
       "    </tr>\n",
       "    <tr>\n",
       "      <th>4200</th>\n",
       "      <td>221125</td>\n",
       "      <td>17</td>\n",
       "      <td>18</td>\n",
       "      <td>27</td>\n",
       "      <td>4</td>\n",
       "      <td>24</td>\n",
       "      <td>2</td>\n",
       "      <td>4.8432</td>\n",
       "      <td>5.2466</td>\n",
       "      <td>41.634734</td>\n",
       "      <td>111.395493</td>\n",
       "      <td>1.273901</td>\n",
       "      <td>0.063666</td>\n",
       "      <td>0.608008</td>\n",
       "      <td>0.033236</td>\n",
       "      <td>0.477407</td>\n",
       "      <td>0.015176</td>\n",
       "      <td>1.352637</td>\n",
       "    </tr>\n",
       "  </tbody>\n",
       "</table>\n",
       "<p>4197 rows × 18 columns</p>\n",
       "</div>"
      ],
      "text/plain": [
       "      date_yymmdd  hour_h  minute_min  subj  block  trial  texture  start_s  \\\n",
       "0          221122       8          42    16      1      0        1   6.2692   \n",
       "1          221122       8          42    16      1      0        2   9.6768   \n",
       "2          221122       8          42    16      1      1        1   4.5892   \n",
       "3          221122       8          42    16      1      1        2   8.3478   \n",
       "4          221122       8          42    16      1      2        1   3.6212   \n",
       "...           ...     ...         ...   ...    ...    ...      ...      ...   \n",
       "4196       221125      17          18    27      4     22        2   4.7956   \n",
       "4197       221125      17          18    27      4     23        1   2.9734   \n",
       "4198       221125      17          18    27      4     23        2   5.0852   \n",
       "4199       221125      17          18    27      4     24        1   2.6174   \n",
       "4200       221125      17          18    27      4     24        2   4.8432   \n",
       "\n",
       "        end_s  sliding_distance_mm  v_mean_mms  fn_mean_n  fn_std_n  \\\n",
       "0      6.8198            37.134524   67.936736   0.244839  0.081262   \n",
       "1     10.3696            37.555220   53.228448   0.354724  0.038919   \n",
       "2      5.2442            32.208557   48.929251   0.510734  0.031468   \n",
       "3      9.2876            35.683789   38.321365   0.378196  0.023547   \n",
       "4      4.4848            35.701824   41.388307   0.464945  0.025050   \n",
       "...       ...                  ...         ...        ...       ...   \n",
       "4196   5.1706            35.853592   94.943428   1.574174  0.185896   \n",
       "4197   3.5476            40.110299   73.018695   1.606961  0.068391   \n",
       "4198   5.5312            35.825132   85.074553   1.676902  0.030933   \n",
       "4199   3.2676            39.566893   60.739483   1.769655  0.085260   \n",
       "4200   5.2466            41.634734  111.395493   1.273901  0.063666   \n",
       "\n",
       "      ft_mean_n  ft_std_n  cof_mean   cof_std  rms_accelero_ms  \n",
       "0      0.359014  0.075783  1.523927  0.218087         3.381203  \n",
       "1      0.369661  0.026887  1.058695  0.168599         2.619718  \n",
       "2      0.155038  0.012838  0.303306  0.011597         1.254451  \n",
       "3      0.295779  0.043984  0.782811  0.112092         2.044252  \n",
       "4      0.176368  0.016045  0.378981  0.022465         1.067344  \n",
       "...         ...       ...       ...       ...              ...  \n",
       "4196   0.564810  0.082925  0.357536  0.012494         6.140435  \n",
       "4197   0.926973  0.076240  0.576235  0.029874         2.816130  \n",
       "4198   0.750410  0.051388  0.447519  0.030270         1.416022  \n",
       "4199   1.102541  0.186779  0.621689  0.096977         4.945476  \n",
       "4200   0.608008  0.033236  0.477407  0.015176         1.352637  \n",
       "\n",
       "[4197 rows x 18 columns]"
      ]
     },
     "execution_count": 9,
     "metadata": {},
     "output_type": "execute_result"
    }
   ],
   "source": [
    "min_trials = 96  # choix arbitraire proche de 100 \n",
    "filter = data_df_summary.groupby(['subj']).trial.count()/2 \n",
    "reliable_subjects= filter[filter > min_trials].index   # get subjects who have more tha min_trials\n",
    "filtered_df = data_df_summary[data_df_summary['subj'].isin(reliable_subjects)]   # another dataset with reliable_subjects only\n",
    "filtered_df"
   ]
  },
  {
   "cell_type": "code",
   "execution_count": 10,
   "id": "436de301",
   "metadata": {},
   "outputs": [
    {
     "data": {
      "text/plain": [
       "<Axes: xlabel='subj', ylabel='trial'>"
      ]
     },
     "execution_count": 10,
     "metadata": {},
     "output_type": "execute_result"
    },
    {
     "data": {
      "image/png": "[encoded data removed]",
      "text/plain": [
       "<Figure size 640x480 with 1 Axes>"
      ]
     },
     "metadata": {},
     "output_type": "display_data"
    }
   ],
   "source": [
    "d=filtered_df.groupby(['subj']).trial.count()/2\n",
    "sns.pointplot(data=d.reset_index(), x='subj',y='trial')"
   ]
  },
  {
   "cell_type": "markdown",
   "id": "c8acd75d",
   "metadata": {},
   "source": [
    "#### Filter v_mean values"
   ]
  },
  {
   "cell_type": "code",
   "execution_count": 11,
   "id": "c0a4f287",
   "metadata": {},
   "outputs": [
    {
     "data": {
      "text/plain": [
       "<Axes: xlabel='subj', ylabel='v_mean_mms'>"
      ]
     },
     "execution_count": 11,
     "metadata": {},
     "output_type": "execute_result"
    },
    {
     "data": {
      "image/png": "[encoded data removed]",
      "text/plain": [
       "<Figure size 640x480 with 1 Axes>"
      ]
     },
     "metadata": {},
     "output_type": "display_data"
    }
   ],
   "source": [
    "v_mean_by_subject = filtered_df.groupby(['subj'])['v_mean_mms'].mean()   # v_mean() for each subject\n",
    "sns.pointplot(data=v_mean_by_subject.reset_index(), x='subj',y='v_mean_mms')"
   ]
  },
  {
   "cell_type": "code",
   "execution_count": 12,
   "id": "3db6bbd7",
   "metadata": {},
   "outputs": [
    {
     "data": {
      "text/html": [
       "<div>\n",
       "<style scoped>\n",
       "    .dataframe tbody tr th:only-of-type {\n",
       "        vertical-align: middle;\n",
       "    }\n",
       "\n",
       "    .dataframe tbody tr th {\n",
       "        vertical-align: top;\n",
       "    }\n",
       "\n",
       "    .dataframe thead th {\n",
       "        text-align: right;\n",
       "    }\n",
       "</style>\n",
       "<table border=\"1\" class=\"dataframe\">\n",
       "  <thead>\n",
       "    <tr style=\"text-align: right;\">\n",
       "      <th></th>\n",
       "      <th>date_yymmdd</th>\n",
       "      <th>hour_h</th>\n",
       "      <th>minute_min</th>\n",
       "      <th>subj</th>\n",
       "      <th>block</th>\n",
       "      <th>trial</th>\n",
       "      <th>texture</th>\n",
       "      <th>start_s</th>\n",
       "      <th>end_s</th>\n",
       "      <th>sliding_distance_mm</th>\n",
       "      <th>v_mean_mms</th>\n",
       "      <th>fn_mean_n</th>\n",
       "      <th>fn_std_n</th>\n",
       "      <th>ft_mean_n</th>\n",
       "      <th>ft_std_n</th>\n",
       "      <th>cof_mean</th>\n",
       "      <th>cof_std</th>\n",
       "      <th>rms_accelero_ms</th>\n",
       "    </tr>\n",
       "  </thead>\n",
       "  <tbody>\n",
       "    <tr>\n",
       "      <th>83</th>\n",
       "      <td>221122</td>\n",
       "      <td>8</td>\n",
       "      <td>42</td>\n",
       "      <td>16</td>\n",
       "      <td>3</td>\n",
       "      <td>0</td>\n",
       "      <td>1</td>\n",
       "      <td>0.2680</td>\n",
       "      <td>0.4612</td>\n",
       "      <td>-189.179291</td>\n",
       "      <td>-406.446715</td>\n",
       "      <td>-0.001045</td>\n",
       "      <td>0.009138</td>\n",
       "      <td>-0.000201</td>\n",
       "      <td>0.000866</td>\n",
       "      <td>0.024723</td>\n",
       "      <td>1.524940</td>\n",
       "      <td>0.597579</td>\n",
       "    </tr>\n",
       "    <tr>\n",
       "      <th>84</th>\n",
       "      <td>221122</td>\n",
       "      <td>8</td>\n",
       "      <td>42</td>\n",
       "      <td>16</td>\n",
       "      <td>3</td>\n",
       "      <td>0</td>\n",
       "      <td>2</td>\n",
       "      <td>0.8334</td>\n",
       "      <td>1.0054</td>\n",
       "      <td>-42.073049</td>\n",
       "      <td>-759.093773</td>\n",
       "      <td>-0.001654</td>\n",
       "      <td>0.008313</td>\n",
       "      <td>-0.000204</td>\n",
       "      <td>0.000550</td>\n",
       "      <td>0.028285</td>\n",
       "      <td>1.723719</td>\n",
       "      <td>1.089030</td>\n",
       "    </tr>\n",
       "    <tr>\n",
       "      <th>129</th>\n",
       "      <td>221122</td>\n",
       "      <td>8</td>\n",
       "      <td>42</td>\n",
       "      <td>16</td>\n",
       "      <td>4</td>\n",
       "      <td>0</td>\n",
       "      <td>1</td>\n",
       "      <td>0.3510</td>\n",
       "      <td>0.6732</td>\n",
       "      <td>128.008126</td>\n",
       "      <td>-102.126788</td>\n",
       "      <td>-0.000891</td>\n",
       "      <td>0.011209</td>\n",
       "      <td>-0.000113</td>\n",
       "      <td>0.001044</td>\n",
       "      <td>0.099480</td>\n",
       "      <td>2.912515</td>\n",
       "      <td>0.472312</td>\n",
       "    </tr>\n",
       "    <tr>\n",
       "      <th>231</th>\n",
       "      <td>221122</td>\n",
       "      <td>10</td>\n",
       "      <td>23</td>\n",
       "      <td>17</td>\n",
       "      <td>1</td>\n",
       "      <td>16</td>\n",
       "      <td>1</td>\n",
       "      <td>0.3462</td>\n",
       "      <td>0.3812</td>\n",
       "      <td>24.990426</td>\n",
       "      <td>1471.152509</td>\n",
       "      <td>0.003755</td>\n",
       "      <td>0.007496</td>\n",
       "      <td>-0.004445</td>\n",
       "      <td>0.001858</td>\n",
       "      <td>-1.185046</td>\n",
       "      <td>5.601719</td>\n",
       "      <td>0.125029</td>\n",
       "    </tr>\n",
       "    <tr>\n",
       "      <th>232</th>\n",
       "      <td>221122</td>\n",
       "      <td>10</td>\n",
       "      <td>23</td>\n",
       "      <td>17</td>\n",
       "      <td>1</td>\n",
       "      <td>16</td>\n",
       "      <td>2</td>\n",
       "      <td>0.4854</td>\n",
       "      <td>0.5008</td>\n",
       "      <td>142.611718</td>\n",
       "      <td>13463.971511</td>\n",
       "      <td>-0.003674</td>\n",
       "      <td>0.005389</td>\n",
       "      <td>-0.008271</td>\n",
       "      <td>0.001098</td>\n",
       "      <td>2.566126</td>\n",
       "      <td>14.246778</td>\n",
       "      <td>0.123659</td>\n",
       "    </tr>\n",
       "    <tr>\n",
       "      <th>...</th>\n",
       "      <td>...</td>\n",
       "      <td>...</td>\n",
       "      <td>...</td>\n",
       "      <td>...</td>\n",
       "      <td>...</td>\n",
       "      <td>...</td>\n",
       "      <td>...</td>\n",
       "      <td>...</td>\n",
       "      <td>...</td>\n",
       "      <td>...</td>\n",
       "      <td>...</td>\n",
       "      <td>...</td>\n",
       "      <td>...</td>\n",
       "      <td>...</td>\n",
       "      <td>...</td>\n",
       "      <td>...</td>\n",
       "      <td>...</td>\n",
       "      <td>...</td>\n",
       "    </tr>\n",
       "    <tr>\n",
       "      <th>2808</th>\n",
       "      <td>221110</td>\n",
       "      <td>8</td>\n",
       "      <td>22</td>\n",
       "      <td>6</td>\n",
       "      <td>1</td>\n",
       "      <td>2</td>\n",
       "      <td>2</td>\n",
       "      <td>3.7298</td>\n",
       "      <td>4.0166</td>\n",
       "      <td>-1.209241</td>\n",
       "      <td>-1.427792</td>\n",
       "      <td>0.528894</td>\n",
       "      <td>0.041373</td>\n",
       "      <td>0.492902</td>\n",
       "      <td>0.038785</td>\n",
       "      <td>0.941459</td>\n",
       "      <td>0.131747</td>\n",
       "      <td>0.270764</td>\n",
       "    </tr>\n",
       "    <tr>\n",
       "      <th>2810</th>\n",
       "      <td>221110</td>\n",
       "      <td>8</td>\n",
       "      <td>22</td>\n",
       "      <td>6</td>\n",
       "      <td>1</td>\n",
       "      <td>3</td>\n",
       "      <td>2</td>\n",
       "      <td>4.0290</td>\n",
       "      <td>4.3712</td>\n",
       "      <td>-1.223049</td>\n",
       "      <td>-1.898012</td>\n",
       "      <td>0.687975</td>\n",
       "      <td>0.113679</td>\n",
       "      <td>0.073072</td>\n",
       "      <td>0.093514</td>\n",
       "      <td>0.084463</td>\n",
       "      <td>0.147489</td>\n",
       "      <td>0.036058</td>\n",
       "    </tr>\n",
       "    <tr>\n",
       "      <th>2846</th>\n",
       "      <td>221110</td>\n",
       "      <td>8</td>\n",
       "      <td>22</td>\n",
       "      <td>6</td>\n",
       "      <td>2</td>\n",
       "      <td>2</td>\n",
       "      <td>2</td>\n",
       "      <td>5.3024</td>\n",
       "      <td>5.5668</td>\n",
       "      <td>-86.464887</td>\n",
       "      <td>3822.601132</td>\n",
       "      <td>0.000521</td>\n",
       "      <td>0.007273</td>\n",
       "      <td>-0.000127</td>\n",
       "      <td>0.001059</td>\n",
       "      <td>0.816711</td>\n",
       "      <td>27.645549</td>\n",
       "      <td>0.370926</td>\n",
       "    </tr>\n",
       "    <tr>\n",
       "      <th>2856</th>\n",
       "      <td>221110</td>\n",
       "      <td>8</td>\n",
       "      <td>22</td>\n",
       "      <td>6</td>\n",
       "      <td>2</td>\n",
       "      <td>7</td>\n",
       "      <td>2</td>\n",
       "      <td>4.5780</td>\n",
       "      <td>4.7136</td>\n",
       "      <td>-6.499239</td>\n",
       "      <td>1324.218499</td>\n",
       "      <td>0.398860</td>\n",
       "      <td>0.309992</td>\n",
       "      <td>0.014210</td>\n",
       "      <td>0.054666</td>\n",
       "      <td>-0.351170</td>\n",
       "      <td>13.392552</td>\n",
       "      <td>2.367558</td>\n",
       "    </tr>\n",
       "    <tr>\n",
       "      <th>2868</th>\n",
       "      <td>221110</td>\n",
       "      <td>8</td>\n",
       "      <td>22</td>\n",
       "      <td>6</td>\n",
       "      <td>2</td>\n",
       "      <td>13</td>\n",
       "      <td>2</td>\n",
       "      <td>6.1292</td>\n",
       "      <td>6.3666</td>\n",
       "      <td>-2.038132</td>\n",
       "      <td>-5.912576</td>\n",
       "      <td>0.621320</td>\n",
       "      <td>0.024737</td>\n",
       "      <td>0.167169</td>\n",
       "      <td>0.111782</td>\n",
       "      <td>0.274387</td>\n",
       "      <td>0.196483</td>\n",
       "      <td>0.087734</td>\n",
       "    </tr>\n",
       "  </tbody>\n",
       "</table>\n",
       "<p>69 rows × 18 columns</p>\n",
       "</div>"
      ],
      "text/plain": [
       "      date_yymmdd  hour_h  minute_min  subj  block  trial  texture  start_s  \\\n",
       "83         221122       8          42    16      3      0        1   0.2680   \n",
       "84         221122       8          42    16      3      0        2   0.8334   \n",
       "129        221122       8          42    16      4      0        1   0.3510   \n",
       "231        221122      10          23    17      1     16        1   0.3462   \n",
       "232        221122      10          23    17      1     16        2   0.4854   \n",
       "...           ...     ...         ...   ...    ...    ...      ...      ...   \n",
       "2808       221110       8          22     6      1      2        2   3.7298   \n",
       "2810       221110       8          22     6      1      3        2   4.0290   \n",
       "2846       221110       8          22     6      2      2        2   5.3024   \n",
       "2856       221110       8          22     6      2      7        2   4.5780   \n",
       "2868       221110       8          22     6      2     13        2   6.1292   \n",
       "\n",
       "       end_s  sliding_distance_mm    v_mean_mms  fn_mean_n  fn_std_n  \\\n",
       "83    0.4612          -189.179291   -406.446715  -0.001045  0.009138   \n",
       "84    1.0054           -42.073049   -759.093773  -0.001654  0.008313   \n",
       "129   0.6732           128.008126   -102.126788  -0.000891  0.011209   \n",
       "231   0.3812            24.990426   1471.152509   0.003755  0.007496   \n",
       "232   0.5008           142.611718  13463.971511  -0.003674  0.005389   \n",
       "...      ...                  ...           ...        ...       ...   \n",
       "2808  4.0166            -1.209241     -1.427792   0.528894  0.041373   \n",
       "2810  4.3712            -1.223049     -1.898012   0.687975  0.113679   \n",
       "2846  5.5668           -86.464887   3822.601132   0.000521  0.007273   \n",
       "2856  4.7136            -6.499239   1324.218499   0.398860  0.309992   \n",
       "2868  6.3666            -2.038132     -5.912576   0.621320  0.024737   \n",
       "\n",
       "      ft_mean_n  ft_std_n  cof_mean    cof_std  rms_accelero_ms  \n",
       "83    -0.000201  0.000866  0.024723   1.524940         0.597579  \n",
       "84    -0.000204  0.000550  0.028285   1.723719         1.089030  \n",
       "129   -0.000113  0.001044  0.099480   2.912515         0.472312  \n",
       "231   -0.004445  0.001858 -1.185046   5.601719         0.125029  \n",
       "232   -0.008271  0.001098  2.566126  14.246778         0.123659  \n",
       "...         ...       ...       ...        ...              ...  \n",
       "2808   0.492902  0.038785  0.941459   0.131747         0.270764  \n",
       "2810   0.073072  0.093514  0.084463   0.147489         0.036058  \n",
       "2846  -0.000127  0.001059  0.816711  27.645549         0.370926  \n",
       "2856   0.014210  0.054666 -0.351170  13.392552         2.367558  \n",
       "2868   0.167169  0.111782  0.274387   0.196483         0.087734  \n",
       "\n",
       "[69 rows x 18 columns]"
      ]
     },
     "execution_count": 12,
     "metadata": {},
     "output_type": "execute_result"
    }
   ],
   "source": [
    "# locate rows with not a standard v_mean\n",
    "v_filter = (filtered_df['v_mean_mms'] > 300) |  (filtered_df['v_mean_mms'] < 0)\n",
    "filtered_df[v_filter] "
   ]
  },
  {
   "cell_type": "code",
   "execution_count": 13,
   "id": "13545f26",
   "metadata": {},
   "outputs": [],
   "source": [
    "# A new dataframe with only standard v_mean\n",
    "df_adjusted_v_mean = filtered_df[~v_filter] "
   ]
  },
  {
   "cell_type": "code",
   "execution_count": 14,
   "id": "9f24c91b",
   "metadata": {},
   "outputs": [
    {
     "data": {
      "text/plain": [
       "<Axes: xlabel='subj', ylabel='v_mean_mms'>"
      ]
     },
     "execution_count": 14,
     "metadata": {},
     "output_type": "execute_result"
    },
    {
     "data": {
      "image/png": "[encoded data removed]",
      "text/plain": [
       "<Figure size 640x480 with 1 Axes>"
      ]
     },
     "metadata": {},
     "output_type": "display_data"
    }
   ],
   "source": [
    "v_mean_std_by_subject = df_adjusted_v_mean.groupby(['subj'])['v_mean_mms'].mean()   # v_mean() for each subject\n",
    "sns.pointplot(data=v_mean_std_by_subject.reset_index(), x='subj',y='v_mean_mms')"
   ]
  },
  {
   "cell_type": "markdown",
   "id": "0d452cac",
   "metadata": {},
   "source": [
    "#### Subjects with high fn_mean"
   ]
  },
  {
   "cell_type": "code",
   "execution_count": 15,
   "id": "bdc9a574",
   "metadata": {},
   "outputs": [
    {
     "data": {
      "text/plain": [
       "<Axes: xlabel='subj', ylabel='fn_mean_n'>"
      ]
     },
     "execution_count": 15,
     "metadata": {},
     "output_type": "execute_result"
    },
    {
     "data": {
      "image/png": "[encoded data removed]",
      "text/plain": [
       "<Figure size 640x480 with 1 Axes>"
      ]
     },
     "metadata": {},
     "output_type": "display_data"
    }
   ],
   "source": [
    "fn_mean_std_by_subject = data_df_summary.groupby(['subj'])['fn_mean_n'].mean()   # fn_mean() for each subject\n",
    "sns.pointplot(data=fn_mean_std_by_subject.reset_index(), x='subj',y='fn_mean_n')"
   ]
  },
  {
   "cell_type": "code",
   "execution_count": 17,
   "id": "0dea84af",
   "metadata": {},
   "outputs": [],
   "source": [
    "df_adjusted_v_mean.to_csv('data/meca/all_data.csv')"
   ]
  },
  {
   "cell_type": "markdown",
   "id": "760e667e",
   "metadata": {},
   "source": [
    "<mark> done: </mark> \n",
    "- data loaded\n",
    "- columns names changed to snake_case\n",
    "- a new dataframe created (filtered_df) without subject 2 and 3\n",
    "- a new dataframe created (df_adjusted_v_mean) with only standard v_mean values \n",
    "- display fn_mean by subject\n",
    "- All data saved from (df_adjusted_v_mean) dataframe"
   ]
  },
  {
   "cell_type": "markdown",
   "id": "04fe31bc",
   "metadata": {},
   "source": [
    "## Kernel"
   ]
  },
  {
   "cell_type": "markdown",
   "id": "313cd051",
   "metadata": {},
   "source": [
    "### Kernel computation"
   ]
  },
  {
   "cell_type": "code",
   "execution_count": 10,
   "id": "12adf08c",
   "metadata": {
    "ExecuteTime": {
     "end_time": "2022-11-28T12:01:53.157568Z",
     "start_time": "2022-11-28T12:01:53.085717Z"
    }
   },
   "outputs": [
    {
     "ename": "NameError",
     "evalue": "name 'data' is not defined",
     "output_type": "error",
     "traceback": [
      "\u001b[31m---------------------------------------------------------------------------\u001b[39m",
      "\u001b[31mNameError\u001b[39m                                 Traceback (most recent call last)",
      "\u001b[36mCell\u001b[39m\u001b[36m \u001b[39m\u001b[32mIn[10]\u001b[39m\u001b[32m, line 1\u001b[39m\n\u001b[32m----> \u001b[39m\u001b[32m1\u001b[39m data_melt = pd.melt(\u001b[43mdata\u001b[49m,\n\u001b[32m      2\u001b[39m         id_vars=[\u001b[33m'\u001b[39m\u001b[33msubj\u001b[39m\u001b[33m'\u001b[39m,\u001b[33m'\u001b[39m\u001b[33mtrial\u001b[39m\u001b[33m'\u001b[39m,\u001b[33m'\u001b[39m\u001b[33mblock\u001b[39m\u001b[33m'\u001b[39m,\u001b[33m'\u001b[39m\u001b[33msex\u001b[39m\u001b[33m'\u001b[39m,\u001b[33m'\u001b[39m\u001b[33mage\u001b[39m\u001b[33m'\u001b[39m,\u001b[33m'\u001b[39m\u001b[33mcondition\u001b[39m\u001b[33m'\u001b[39m,\u001b[33m'\u001b[39m\u001b[33mresponse\u001b[39m\u001b[33m'\u001b[39m],\n\u001b[32m      3\u001b[39m         value_vars=[\u001b[33m'\u001b[39m\u001b[33mdiameter\u001b[39m\u001b[33m'\u001b[39m,\u001b[33m'\u001b[39m\u001b[33mopening\u001b[39m\u001b[33m'\u001b[39m,\u001b[33m'\u001b[39m\u001b[33mspacing\u001b[39m\u001b[33m'\u001b[39m],\n\u001b[32m      4\u001b[39m         var_name=\u001b[33m'\u001b[39m\u001b[33mfeature\u001b[39m\u001b[33m'\u001b[39m)\n\u001b[32m      6\u001b[39m \u001b[38;5;66;03m# z-score feature values\u001b[39;00m\n\u001b[32m      7\u001b[39m zscore = \u001b[38;5;28;01mlambda\u001b[39;00m x: (x-np.nanmean(x))/np.nanstd(x)\n",
      "\u001b[31mNameError\u001b[39m: name 'data' is not defined"
     ]
    }
   ],
   "source": [
    "data_melt = pd.melt(data,\n",
    "        id_vars=['subj','trial','block','sex','age','condition','response'],\n",
    "        value_vars=['diameter','opening','spacing'],\n",
    "        var_name='feature')\n",
    "\n",
    "# z-score feature values\n",
    "zscore = lambda x: (x-np.nanmean(x))/np.nanstd(x)\n",
    "# zscore TAS and weights\n",
    "data_melt['value'] = data_melt.groupby(['subj','feature'])['value'].transform(zscore) \n",
    "\n",
    "# compute difference between positives and negatives in each trial\n",
    "positives = data_melt.loc[data_melt.response == True].reset_index()\n",
    "negatives = data_melt.loc[data_melt.response == False].reset_index()\n",
    "kernels = pd.merge(positives, negatives, on=['subj','block','trial','feature'],suffixes=['+','-'])\n",
    "kernels['delta_value']=kernels['value+']-kernels['value-']\n",
    "\n",
    "kernels.drop(['index+','response+', 'value+', \n",
    "               'index-', 'sex-', 'age-', 'condition-', 'response-', 'value-'], axis=1, inplace=True)\n",
    "kernels = kernels.rename(columns={'sex+':'sex','age+':'age', 'condition+':'condition'})\n",
    "\n",
    "# normalize for each subj by dividing by the RMS of their values over all trials \n",
    "kernels['square_delta_value'] = kernels['delta_value']**2\n",
    "\n",
    "for_norm = kernels.groupby(['subj','condition','feature']).agg({'square_delta_value':'mean'}).reset_index()\n",
    "                                          \n",
    "kernels = pd.merge(kernels, for_norm, on=['subj','condition','feature'], suffixes=['','_mean'])\n",
    "kernels['norm_delta_value'] = kernels['delta_value']/np.sqrt(kernels['square_delta_value_mean'])\n",
    "\n",
    "kernels.drop(['delta_value','square_delta_value', 'square_delta_value_mean',], axis=1, inplace=True)\n"
   ]
  },
  {
   "cell_type": "markdown",
   "id": "57e39003",
   "metadata": {},
   "source": [
    "### Different kernels per condition"
   ]
  },
  {
   "cell_type": "code",
   "execution_count": null,
   "id": "6848b89f",
   "metadata": {
    "ExecuteTime": {
     "end_time": "2022-11-28T12:02:56.800413Z",
     "start_time": "2022-11-28T12:02:56.789443Z"
    }
   },
   "outputs": [
    {
     "data": {
      "text/plain": [
       "condition  feature \n",
       "rug        diameter   -0.006298\n",
       "           opening     0.613785\n",
       "           spacing     0.294076\n",
       "soft       diameter   -0.121706\n",
       "           opening    -0.510029\n",
       "           spacing    -0.342440\n",
       "Name: norm_delta_value, dtype: float64"
      ]
     },
     "execution_count": 14,
     "metadata": {},
     "output_type": "execute_result"
    }
   ],
   "source": [
    "kernels.groupby(['condition','feature']).norm_delta_value.mean()"
   ]
  },
  {
   "cell_type": "code",
   "execution_count": null,
   "id": "fc417499",
   "metadata": {
    "ExecuteTime": {
     "end_time": "2022-11-28T12:06:47.176163Z",
     "start_time": "2022-11-28T12:06:44.647923Z"
    },
    "scrolled": false
   },
   "outputs": [
    {
     "data": {
      "text/plain": [
       "<matplotlib.legend.Legend at 0x2862f59ce88>"
      ]
     },
     "execution_count": 21,
     "metadata": {},
     "output_type": "execute_result"
    },
    {
     "data": {
      "image/png": "[encoded data removed]",
      "text/plain": [
       "<Figure size 640x480 with 1 Axes>"
      ]
     },
     "metadata": {},
     "output_type": "display_data"
    }
   ],
   "source": [
    "sns.pointplot(data=kernels,\n",
    "              hue=\"condition\",\n",
    "             x=\"feature\",\n",
    "              units='subj',\n",
    "             y=\"norm_delta_value\", dodge=True)\n",
    "\n",
    "# plot inverse rough kernel for comparison\n",
    "kernels['opposite_norm_delta_value'] = - kernels.norm_delta_value\n",
    "sns.pointplot(data=kernels[kernels.condition=='rug'],\n",
    "              hue=\"condition\",\n",
    "             x=\"feature\",\n",
    "              units='subj',\n",
    "             y=\"opposite_norm_delta_value\", \n",
    "              linestyles=[':'])\n",
    "\n",
    "plt.plot([0,2],[0,0],'k:')\n",
    "plt.legend(loc=2)"
   ]
  },
  {
   "cell_type": "markdown",
   "id": "e9d1c4aa",
   "metadata": {},
   "source": [
    "One-sample difference of kernel weights to zero"
   ]
  },
  {
   "cell_type": "code",
   "execution_count": null,
   "id": "85d42134",
   "metadata": {
    "ExecuteTime": {
     "end_time": "2022-11-28T12:02:20.596204Z",
     "start_time": "2022-11-28T12:02:20.550330Z"
    },
    "scrolled": true
   },
   "outputs": [
    {
     "name": "stdout",
     "output_type": "stream",
     "text": [
      "One-sample difference of kernel weights to zero\n",
      "RUG:\n",
      "- diameter\n",
      "t(6)=-0.05,p=0.9618\n",
      "- opening\n",
      "t(6)=20.43,p=0.0000\n",
      "- spacing\n",
      "t(6)=2.70,p=0.0358\n",
      "SOFT:\n",
      "- diameter\n",
      "t(19)=-1.97,p=0.0632\n",
      "- opening\n",
      "t(19)=-17.80,p=0.0000\n",
      "- spacing\n",
      "t(19)=-6.72,p=0.0000\n"
     ]
    }
   ],
   "source": [
    "print(\"One-sample difference of kernel weights to zero\")\n",
    "for condition in ['rug','soft']:\n",
    "    print('%s:'%condition.upper())\n",
    "    for feature in ['diameter','opening','spacing']: \n",
    "        \n",
    "        print('- %s'%(feature))\n",
    "        \n",
    "        sample = kernels[(kernels.condition==condition)&\n",
    "                          (kernels.feature==feature)].groupby(['subj'], as_index=False).norm_delta_value.mean()\n",
    "        \n",
    "        stats= pg.ttest(x=sample.norm_delta_value, y=0)\n",
    "        print('t(%d)=%.2f,p=%.4f'%(stats.loc['T-test','dof'],\n",
    "                               stats.loc['T-test','T'],\n",
    "                               stats.loc['T-test','p-val']))"
   ]
  },
  {
   "cell_type": "markdown",
   "id": "7b3b68ac",
   "metadata": {},
   "source": [
    "Two-sample difference of kernel weights between soft and non-rough"
   ]
  },
  {
   "cell_type": "code",
   "execution_count": null,
   "id": "f652e8d2",
   "metadata": {
    "ExecuteTime": {
     "end_time": "2022-11-28T12:03:10.830900Z",
     "start_time": "2022-11-28T12:03:10.782030Z"
    }
   },
   "outputs": [
    {
     "name": "stdout",
     "output_type": "stream",
     "text": [
      "Two-sample difference of kernel weights between soft and non-rough\n",
      "- diameter\n",
      "t(9)=-0.91,p=0.3853\n",
      "- opening\n",
      "t(17)=2.50,p=0.0228\n",
      "- spacing\n",
      "t(8)=-0.40,p=0.6976\n"
     ]
    }
   ],
   "source": [
    "print(\"Two-sample difference of kernel weights between soft and non-rough\")\n",
    "for feature in ['diameter','opening','spacing']: \n",
    "    print('- %s'%(feature))\n",
    "      \n",
    "    sample_soft = kernels[(kernels.condition=='soft')&\n",
    "                          (kernels.feature==feature)].groupby(['subj'], as_index=False).norm_delta_value.mean()\n",
    "\n",
    "    sample_rug = kernels[(kernels.condition=='rug')&\n",
    "                          (kernels.feature==feature)].groupby(['subj'], as_index=False).norm_delta_value.mean()\n",
    "    \n",
    "    stats= pg.ttest(x=sample_soft.norm_delta_value, \n",
    "                    y=-sample_rug.norm_delta_value)\n",
    "    \n",
    "    print('t(%d)=%.2f,p=%.4f'%(stats.loc['T-test','dof'],\n",
    "                               stats.loc['T-test','T'],\n",
    "                               stats.loc['T-test','p-val']))"
   ]
  },
  {
   "cell_type": "markdown",
   "id": "86ea1c13",
   "metadata": {},
   "source": [
    "### Sex difference for soft"
   ]
  },
  {
   "cell_type": "code",
   "execution_count": null,
   "id": "d4a7b9de",
   "metadata": {
    "ExecuteTime": {
     "end_time": "2022-11-28T12:03:34.007563Z",
     "start_time": "2022-11-28T12:03:33.996593Z"
    }
   },
   "outputs": [
    {
     "data": {
      "text/plain": [
       "condition  sex\n",
       "rug        f       3\n",
       "           m       4\n",
       "soft       f      12\n",
       "           m       8\n",
       "Name: subj, dtype: int64"
      ]
     },
     "execution_count": 16,
     "metadata": {},
     "output_type": "execute_result"
    }
   ],
   "source": [
    "data.groupby(['condition','sex']).subj.nunique()"
   ]
  },
  {
   "cell_type": "code",
   "execution_count": null,
   "id": "f01314f3",
   "metadata": {
    "ExecuteTime": {
     "end_time": "2022-11-28T12:04:10.630643Z",
     "start_time": "2022-11-28T12:04:09.682179Z"
    },
    "scrolled": false
   },
   "outputs": [
    {
     "data": {
      "text/plain": [
       "<matplotlib.legend.Legend at 0x2862f791088>"
      ]
     },
     "execution_count": 19,
     "metadata": {},
     "output_type": "execute_result"
    },
    {
     "data": {
      "image/png": "[encoded data removed]",
      "text/plain": [
       "<Figure size 640x480 with 1 Axes>"
      ]
     },
     "metadata": {},
     "output_type": "display_data"
    }
   ],
   "source": [
    "sns.pointplot(data=kernels[kernels.condition=='soft'],\n",
    "              hue=\"sex\",\n",
    "             x=\"feature\",\n",
    "              units='subj',\n",
    "             y=\"norm_delta_value\", dodge=True)\n",
    "\n",
    "plt.plot([0,2],[0,0],'k:')\n",
    "plt.legend(loc=2)"
   ]
  },
  {
   "cell_type": "code",
   "execution_count": null,
   "id": "c79bba14",
   "metadata": {
    "ExecuteTime": {
     "end_time": "2022-11-28T12:06:16.782429Z",
     "start_time": "2022-11-28T12:06:16.729570Z"
    }
   },
   "outputs": [
    {
     "name": "stdout",
     "output_type": "stream",
     "text": [
      "Two-sample difference of kernel weights between male and female soft\n",
      "- diameter\n",
      "t(13)=-3.17,p=0.0073\n",
      "- opening\n",
      "t(15)=0.14,p=0.8934\n",
      "- spacing\n",
      "t(14)=-2.77,p=0.0145\n"
     ]
    }
   ],
   "source": [
    "print(\"Two-sample difference of kernel weights between male and female soft\")\n",
    "for feature in ['diameter','opening','spacing']: \n",
    "    print('- %s'%(feature))\n",
    "      \n",
    "    sample_male = kernels[(kernels.condition=='soft')&\n",
    "                          (kernels.sex=='m')&\n",
    "                          (kernels.feature==feature)].groupby(['subj'], as_index=False).norm_delta_value.mean()\n",
    "\n",
    "    sample_female = kernels[(kernels.condition=='soft')&\n",
    "                          (kernels.sex=='f')&\n",
    "                          (kernels.feature==feature)].groupby(['subj'], as_index=False).norm_delta_value.mean()\n",
    "    \n",
    "    stats= pg.ttest(x=sample_male.norm_delta_value, \n",
    "                    y=sample_female.norm_delta_value)\n",
    "    \n",
    "    print('t(%d)=%.2f,p=%.4f'%(stats.loc['T-test','dof'],\n",
    "                               stats.loc['T-test','T'],\n",
    "                               stats.loc['T-test','p-val']))"
   ]
  },
  {
   "cell_type": "markdown",
   "id": "4f41eef0",
   "metadata": {},
   "source": [
    "Remember that the first few participants (3 ?) had a bug that resulted in not stopping the recording at the time of response"
   ]
  },
  {
   "cell_type": "code",
   "execution_count": null,
   "id": "464f3b6d",
   "metadata": {
    "ExecuteTime": {
     "end_time": "2022-11-23T08:32:15.442762Z",
     "start_time": "2022-11-23T08:32:15.334020Z"
    }
   },
   "outputs": [
    {
     "data": {
      "text/plain": [
       "(-0.01, 0.05)"
      ]
     },
     "execution_count": 189,
     "metadata": {},
     "output_type": "execute_result"
    },
    {
     "data": {
      "image/png": "[encoded data removed]",
      "text/plain": [
       "<Figure size 640x480 with 1 Axes>"
      ]
     },
     "metadata": {},
     "output_type": "display_data"
    }
   ],
   "source": []
  },
  {
   "cell_type": "code",
   "execution_count": null,
   "id": "a4142adc",
   "metadata": {},
   "outputs": [],
   "source": []
  }
 ],
 "metadata": {
  "kernelspec": {
   "display_name": "Python 3",
   "language": "python",
   "name": "python3"
  },
  "language_info": {
   "codemirror_mode": {
    "name": "ipython",
    "version": 3
   },
   "file_extension": ".py",
   "mimetype": "text/x-python",
   "name": "python",
   "nbconvert_exporter": "python",
   "pygments_lexer": "ipython3",
   "version": "3.13.2"
  },
  "toc": {
   "base_numbering": 1,
   "nav_menu": {},
   "number_sections": true,
   "sideBar": true,
   "skip_h1_title": true,
   "title_cell": "Table of Contents",
   "title_sidebar": "Contents",
   "toc_cell": false,
   "toc_position": {},
   "toc_section_display": true,
   "toc_window_display": true
  }
 },
 "nbformat": 4,
 "nbformat_minor": 5
}
